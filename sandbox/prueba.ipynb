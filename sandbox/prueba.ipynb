{
 "cells": [
  {
   "cell_type": "code",
   "execution_count": 1,
   "id": "12343bb5-7bf9-4d66-8385-8b3e762732da",
   "metadata": {},
   "outputs": [],
   "source": [
    "import json"
   ]
  },
  {
   "cell_type": "code",
   "execution_count": 2,
   "id": "c2b8d457-97c2-442f-85a8-3132452ec513",
   "metadata": {},
   "outputs": [
    {
     "data": {
      "text/html": [
       "<p>To authorize access needed by Earth Engine, open the following\n",
       "        URL in a web browser and follow the instructions:</p>\n",
       "        <p><a href=https://code.earthengine.google.com/client-auth?scopes=https%3A//www.googleapis.com/auth/earthengine%20https%3A//www.googleapis.com/auth/devstorage.full_control&request_id=hw0K0iWZEnQ6KEBFQcKzt-LYFMz5GPVgLiteiwnqv7s&tc=_33kRhjOpzGRXc78xpsXTLRsY5dqXWSR-krjdfGEruM&cc=EVj3jl69lvCdw1lRkDn_yepVAXS-YGRa_psUZtUz2_o>https://code.earthengine.google.com/client-auth?scopes=https%3A//www.googleapis.com/auth/earthengine%20https%3A//www.googleapis.com/auth/devstorage.full_control&request_id=hw0K0iWZEnQ6KEBFQcKzt-LYFMz5GPVgLiteiwnqv7s&tc=_33kRhjOpzGRXc78xpsXTLRsY5dqXWSR-krjdfGEruM&cc=EVj3jl69lvCdw1lRkDn_yepVAXS-YGRa_psUZtUz2_o</a></p>\n",
       "        <p>The authorization workflow will generate a code, which you should paste in the box below.</p>\n",
       "        "
      ],
      "text/plain": [
       "<IPython.core.display.HTML object>"
      ]
     },
     "metadata": {},
     "output_type": "display_data"
    },
    {
     "name": "stdin",
     "output_type": "stream",
     "text": [
      "Enter verification code:  4/1ARtbsJoOF5YXZ7vXFdWqdElVqMyULx4YnX-uAAIn3bP4EE2YcvXGpYhEg64\n"
     ]
    },
    {
     "name": "stdout",
     "output_type": "stream",
     "text": [
      "\n",
      "Successfully saved authorization token.\n"
     ]
    }
   ],
   "source": [
    "import ee\n",
    "\n",
    "# Trigger the authentication flow.\n",
    "ee.Authenticate()\n",
    "\n",
    "# Initialize the library.\n",
    "ee.Initialize()"
   ]
  },
  {
   "cell_type": "code",
   "execution_count": null,
   "id": "72921eaf-b6ce-4333-b7f5-a85b68804693",
   "metadata": {},
   "outputs": [],
   "source": [
    "# var dataset = ee.ImageCollection(\"JAXA/GCOM-C/L3/OCEAN/CHLA/V3\")\n",
    "#                 .filterDate('2021-12-01', '2022-01-01')\n",
    "#                 // filter to daytime data only\n",
    "#                 .filter(ee.Filter.eq(\"SATELLITE_DIRECTION\", \"D\"));\n",
    "\n",
    "# // Multiply with slope coefficient\n",
    "# var image = dataset.mean().multiply(0.0016).log10();\n",
    "\n",
    "# var vis = {\n",
    "#   bands: ['CHLA_AVE'],\n",
    "#   min: -2,\n",
    "#   max: 2,\n",
    "#   palette: [\n",
    "#     '3500a8','0800ba','003fd6',\n",
    "#     '00aca9','77f800','ff8800',\n",
    "#     'b30000','920000','880000'\n",
    "#   ]\n",
    "# };\n",
    "\n",
    "# Map.addLayer(image, vis, \"Chlorophyll-a concentration\");\n",
    "\n",
    "# Map.setCenter(128.45, 33.33, 5);"
   ]
  },
  {
   "cell_type": "code",
   "execution_count": 5,
   "id": "5bc273fe-d48e-4f03-affc-784790aa97ec",
   "metadata": {},
   "outputs": [],
   "source": [
    "dataset = (ee.ImageCollection(\"JAXA/GCOM-C/L3/OCEAN/CHLA/V3\")\n",
    "                .filterDate('2021-12-01', '2022-01-01')\n",
    "                #// filter to daytime data only\n",
    "                .filter(ee.Filter.eq(\"SATELLITE_DIRECTION\", \"D\")))\n",
    "\n",
    "#// Multiply with slope coefficient\n",
    "image = dataset.mean().multiply(0.0016).log10()"
   ]
  },
  {
   "cell_type": "code",
   "execution_count": 14,
   "id": "c13f0c6b-482d-4cd2-9970-120758840882",
   "metadata": {},
   "outputs": [],
   "source": [
    "# Define a function to transfer feature properties to a dictionary.\n",
    "def fc_to_dict(fc):\n",
    "  prop_names = fc.first().propertyNames()\n",
    "  prop_lists = fc.reduceColumns(\n",
    "      reducer=ee.Reducer.toList().repeat(prop_names.size()),\n",
    "      selectors=prop_names).get('list')\n",
    "\n",
    "  return ee.Dictionary.fromLists(prop_names, prop_lists)"
   ]
  },
  {
   "cell_type": "code",
   "execution_count": 15,
   "id": "9d795c21-6124-4deb-9f65-5dba256b27b5",
   "metadata": {},
   "outputs": [
    {
     "ename": "AttributeError",
     "evalue": "'ApiFunction' object has no attribute 'name'",
     "output_type": "error",
     "traceback": [
      "\u001b[0;31m---------------------------------------------------------------------------\u001b[0m",
      "\u001b[0;31mAttributeError\u001b[0m                            Traceback (most recent call last)",
      "\u001b[0;32m/var/folders/s2/lnzc2s7j3t9ch7f10ppkfc5x4_fqxh/T/ipykernel_39054/1510618136.py\u001b[0m in \u001b[0;36m<module>\u001b[0;34m\u001b[0m\n\u001b[0;32m----> 1\u001b[0;31m \u001b[0mpdsi_dict\u001b[0m \u001b[0;34m=\u001b[0m \u001b[0mfc_to_dict\u001b[0m\u001b[0;34m(\u001b[0m\u001b[0mimage\u001b[0m\u001b[0;34m)\u001b[0m\u001b[0;34m.\u001b[0m\u001b[0mgetInfo\u001b[0m\u001b[0;34m(\u001b[0m\u001b[0;34m)\u001b[0m\u001b[0;34m\u001b[0m\u001b[0;34m\u001b[0m\u001b[0m\n\u001b[0m",
      "\u001b[0;32m/var/folders/s2/lnzc2s7j3t9ch7f10ppkfc5x4_fqxh/T/ipykernel_39054/777029535.py\u001b[0m in \u001b[0;36mfc_to_dict\u001b[0;34m(fc)\u001b[0m\n\u001b[1;32m      1\u001b[0m \u001b[0;31m# Define a function to transfer feature properties to a dictionary.\u001b[0m\u001b[0;34m\u001b[0m\u001b[0;34m\u001b[0m\u001b[0m\n\u001b[1;32m      2\u001b[0m \u001b[0;32mdef\u001b[0m \u001b[0mfc_to_dict\u001b[0m\u001b[0;34m(\u001b[0m\u001b[0mfc\u001b[0m\u001b[0;34m)\u001b[0m\u001b[0;34m:\u001b[0m\u001b[0;34m\u001b[0m\u001b[0;34m\u001b[0m\u001b[0m\n\u001b[0;32m----> 3\u001b[0;31m   \u001b[0mprop_names\u001b[0m \u001b[0;34m=\u001b[0m \u001b[0mfc\u001b[0m\u001b[0;34m.\u001b[0m\u001b[0mfirst\u001b[0m\u001b[0;34m(\u001b[0m\u001b[0;34m)\u001b[0m\u001b[0;34m.\u001b[0m\u001b[0mpropertyNames\u001b[0m\u001b[0;34m(\u001b[0m\u001b[0;34m)\u001b[0m\u001b[0;34m\u001b[0m\u001b[0;34m\u001b[0m\u001b[0m\n\u001b[0m\u001b[1;32m      4\u001b[0m   prop_lists = fc.reduceColumns(\n\u001b[1;32m      5\u001b[0m       \u001b[0mreducer\u001b[0m\u001b[0;34m=\u001b[0m\u001b[0mee\u001b[0m\u001b[0;34m.\u001b[0m\u001b[0mReducer\u001b[0m\u001b[0;34m.\u001b[0m\u001b[0mtoList\u001b[0m\u001b[0;34m(\u001b[0m\u001b[0;34m)\u001b[0m\u001b[0;34m.\u001b[0m\u001b[0mrepeat\u001b[0m\u001b[0;34m(\u001b[0m\u001b[0mprop_names\u001b[0m\u001b[0;34m.\u001b[0m\u001b[0msize\u001b[0m\u001b[0;34m(\u001b[0m\u001b[0;34m)\u001b[0m\u001b[0;34m)\u001b[0m\u001b[0;34m,\u001b[0m\u001b[0;34m\u001b[0m\u001b[0;34m\u001b[0m\u001b[0m\n",
      "\u001b[0;32m~/opt/anaconda3/lib/python3.9/site-packages/ee/apifunction.py\u001b[0m in \u001b[0;36m<lambda>\u001b[0;34m(*args, **kwargs)\u001b[0m\n\u001b[1;32m    203\u001b[0m         \u001b[0;32mdef\u001b[0m \u001b[0mMakeBoundFunction\u001b[0m\u001b[0;34m(\u001b[0m\u001b[0mfunc\u001b[0m\u001b[0;34m)\u001b[0m\u001b[0;34m:\u001b[0m\u001b[0;34m\u001b[0m\u001b[0;34m\u001b[0m\u001b[0m\n\u001b[1;32m    204\u001b[0m           \u001b[0;31m# We need the lambda to capture \"func\" from the enclosing scope.\u001b[0m\u001b[0;34m\u001b[0m\u001b[0;34m\u001b[0m\u001b[0m\n\u001b[0;32m--> 205\u001b[0;31m           \u001b[0;32mreturn\u001b[0m \u001b[0;32mlambda\u001b[0m \u001b[0;34m*\u001b[0m\u001b[0margs\u001b[0m\u001b[0;34m,\u001b[0m \u001b[0;34m**\u001b[0m\u001b[0mkwargs\u001b[0m\u001b[0;34m:\u001b[0m \u001b[0mfunc\u001b[0m\u001b[0;34m.\u001b[0m\u001b[0mcall\u001b[0m\u001b[0;34m(\u001b[0m\u001b[0;34m*\u001b[0m\u001b[0margs\u001b[0m\u001b[0;34m,\u001b[0m \u001b[0;34m**\u001b[0m\u001b[0mkwargs\u001b[0m\u001b[0;34m)\u001b[0m  \u001b[0;31m# pylint: disable=unnecessary-lambda\u001b[0m\u001b[0;34m\u001b[0m\u001b[0;34m\u001b[0m\u001b[0m\n\u001b[0m\u001b[1;32m    206\u001b[0m         \u001b[0mbound_function\u001b[0m \u001b[0;34m=\u001b[0m \u001b[0mMakeBoundFunction\u001b[0m\u001b[0;34m(\u001b[0m\u001b[0mapi_func\u001b[0m\u001b[0;34m)\u001b[0m\u001b[0;34m\u001b[0m\u001b[0;34m\u001b[0m\u001b[0m\n\u001b[1;32m    207\u001b[0m \u001b[0;34m\u001b[0m\u001b[0m\n",
      "\u001b[0;32m~/opt/anaconda3/lib/python3.9/site-packages/ee/function.py\u001b[0m in \u001b[0;36mcall\u001b[0;34m(self, *args, **kwargs)\u001b[0m\n\u001b[1;32m     65\u001b[0m       \u001b[0mto\u001b[0m \u001b[0mthat\u001b[0m \u001b[0mtype\u001b[0m\u001b[0;34m.\u001b[0m\u001b[0;34m\u001b[0m\u001b[0;34m\u001b[0m\u001b[0m\n\u001b[1;32m     66\u001b[0m     \"\"\"\n\u001b[0;32m---> 67\u001b[0;31m     \u001b[0;32mreturn\u001b[0m \u001b[0mself\u001b[0m\u001b[0;34m.\u001b[0m\u001b[0mapply\u001b[0m\u001b[0;34m(\u001b[0m\u001b[0mself\u001b[0m\u001b[0;34m.\u001b[0m\u001b[0mnameArgs\u001b[0m\u001b[0;34m(\u001b[0m\u001b[0margs\u001b[0m\u001b[0;34m,\u001b[0m \u001b[0mkwargs\u001b[0m\u001b[0;34m)\u001b[0m\u001b[0;34m)\u001b[0m\u001b[0;34m\u001b[0m\u001b[0;34m\u001b[0m\u001b[0m\n\u001b[0m\u001b[1;32m     68\u001b[0m \u001b[0;34m\u001b[0m\u001b[0m\n\u001b[1;32m     69\u001b[0m   \u001b[0;32mdef\u001b[0m \u001b[0mapply\u001b[0m\u001b[0;34m(\u001b[0m\u001b[0mself\u001b[0m\u001b[0;34m,\u001b[0m \u001b[0mnamed_args\u001b[0m\u001b[0;34m)\u001b[0m\u001b[0;34m:\u001b[0m\u001b[0;34m\u001b[0m\u001b[0;34m\u001b[0m\u001b[0m\n",
      "\u001b[0;32m~/opt/anaconda3/lib/python3.9/site-packages/ee/function.py\u001b[0m in \u001b[0;36mapply\u001b[0;34m(self, named_args)\u001b[0m\n\u001b[1;32m     78\u001b[0m       \u001b[0mto\u001b[0m \u001b[0mthat\u001b[0m \u001b[0mtype\u001b[0m\u001b[0;34m.\u001b[0m\u001b[0;34m\u001b[0m\u001b[0;34m\u001b[0m\u001b[0m\n\u001b[1;32m     79\u001b[0m     \"\"\"\n\u001b[0;32m---> 80\u001b[0;31m     \u001b[0mresult\u001b[0m \u001b[0;34m=\u001b[0m \u001b[0mcomputedobject\u001b[0m\u001b[0;34m.\u001b[0m\u001b[0mComputedObject\u001b[0m\u001b[0;34m(\u001b[0m\u001b[0mself\u001b[0m\u001b[0;34m,\u001b[0m \u001b[0mself\u001b[0m\u001b[0;34m.\u001b[0m\u001b[0mpromoteArgs\u001b[0m\u001b[0;34m(\u001b[0m\u001b[0mnamed_args\u001b[0m\u001b[0;34m)\u001b[0m\u001b[0;34m)\u001b[0m\u001b[0;34m\u001b[0m\u001b[0;34m\u001b[0m\u001b[0m\n\u001b[0m\u001b[1;32m     81\u001b[0m     \u001b[0;32mreturn\u001b[0m \u001b[0mFunction\u001b[0m\u001b[0;34m.\u001b[0m\u001b[0m_promoter\u001b[0m\u001b[0;34m(\u001b[0m\u001b[0mresult\u001b[0m\u001b[0;34m,\u001b[0m \u001b[0mself\u001b[0m\u001b[0;34m.\u001b[0m\u001b[0mgetReturnType\u001b[0m\u001b[0;34m(\u001b[0m\u001b[0;34m)\u001b[0m\u001b[0;34m)\u001b[0m\u001b[0;34m\u001b[0m\u001b[0;34m\u001b[0m\u001b[0m\n\u001b[1;32m     82\u001b[0m \u001b[0;34m\u001b[0m\u001b[0m\n",
      "\u001b[0;32m~/opt/anaconda3/lib/python3.9/site-packages/ee/function.py\u001b[0m in \u001b[0;36mpromoteArgs\u001b[0;34m(self, args)\u001b[0m\n\u001b[1;32m    109\u001b[0m         raise ee_exception.EEException(\n\u001b[1;32m    110\u001b[0m             \u001b[0;34m'Required argument (%s) missing to function: %s'\u001b[0m\u001b[0;34m\u001b[0m\u001b[0;34m\u001b[0m\u001b[0m\n\u001b[0;32m--> 111\u001b[0;31m             % (name, self.name))\n\u001b[0m\u001b[1;32m    112\u001b[0m       \u001b[0mknown\u001b[0m\u001b[0;34m.\u001b[0m\u001b[0madd\u001b[0m\u001b[0;34m(\u001b[0m\u001b[0mname\u001b[0m\u001b[0;34m)\u001b[0m\u001b[0;34m\u001b[0m\u001b[0;34m\u001b[0m\u001b[0m\n\u001b[1;32m    113\u001b[0m \u001b[0;34m\u001b[0m\u001b[0m\n",
      "\u001b[0;31mAttributeError\u001b[0m: 'ApiFunction' object has no attribute 'name'"
     ]
    }
   ],
   "source": [
    "pdsi_dict = fc_to_dict(image).getInfo()\n"
   ]
  },
  {
   "cell_type": "code",
   "execution_count": 2,
   "id": "28f573a6-91ed-42be-8f55-c84fc02beba3",
   "metadata": {},
   "outputs": [],
   "source": [
    "lc = (ee.ImageCollection(\"JAXA/GCOM-C/L3/OCEAN/CHLA/V3\")\n",
    "       .filterDate('2021-12-01', '2022-01-01')\n",
    "       .filter(ee.Filter.eq(\"SATELLITE_DIRECTION\", \"D\")))\n"
   ]
  },
  {
   "cell_type": "code",
   "execution_count": null,
   "id": "9aea107d-a0d9-4170-abba-77fabc613653",
   "metadata": {},
   "outputs": [],
   "source": []
  },
  {
   "cell_type": "code",
   "execution_count": null,
   "id": "885c258a-826b-4064-9855-02e39f4d9539",
   "metadata": {},
   "outputs": [],
   "source": []
  },
  {
   "cell_type": "code",
   "execution_count": null,
   "id": "a465a655-9094-4708-94c6-fc2ddea64bd4",
   "metadata": {},
   "outputs": [],
   "source": []
  },
  {
   "cell_type": "code",
   "execution_count": 48,
   "id": "d63504df-00db-4275-bb21-de8f876f56c9",
   "metadata": {},
   "outputs": [],
   "source": [
    "geometry_region = [[-75, -40.3],\n",
    "                  [-71, -40.3],\n",
    "                  [-75, -39.4],\n",
    "                  [-71, -39.4]]\n",
    "\n",
    "geo = ee.Geometry.MultiPolygon(geometry_region)"
   ]
  },
  {
   "cell_type": "code",
   "execution_count": 49,
   "id": "61853d1d-d360-4a83-9662-6bc0430b471b",
   "metadata": {},
   "outputs": [],
   "source": [
    "\n",
    "# landsat = \"LANDSAT/LC08/C02/T1_L2\"\n",
    "# sentinel = \"COPERNICUS/S2_SR\"\n",
    "collection  = ee.ImageCollection(\"JAXA/GCOM-C/L3/OCEAN/CHLA/V3\")\n",
    "collection  = collection.filterDate('2021-01-01', '2021-01-30')\n",
    "collection  = collection.filterBounds(geo)"
   ]
  },
  {
   "cell_type": "code",
   "execution_count": 50,
   "id": "39236276-ea56-43cb-8504-e4fdc1895f67",
   "metadata": {},
   "outputs": [],
   "source": [
    "import folium\n"
   ]
  },
  {
   "cell_type": "code",
   "execution_count": 51,
   "id": "470898f1-aa9e-454c-84b0-a3e4768bdecc",
   "metadata": {},
   "outputs": [
    {
     "name": "stdout",
     "output_type": "stream",
     "text": [
      "Total images:  58\n"
     ]
    },
    {
     "data": {
      "text/html": [
       "<div style=\"width:100%;\"><div style=\"position:relative;width:100%;height:0;padding-bottom:60%;\"><span style=\"color:#565656\">Make this Notebook Trusted to load map: File -> Trust Notebook</span><iframe srcdoc=\"&lt;!DOCTYPE html&gt;\n",
       "&lt;head&gt;    \n",
       "    &lt;meta http-equiv=&quot;content-type&quot; content=&quot;text/html; charset=UTF-8&quot; /&gt;\n",
       "    \n",
       "        &lt;script&gt;\n",
       "            L_NO_TOUCH = false;\n",
       "            L_DISABLE_3D = false;\n",
       "        &lt;/script&gt;\n",
       "    \n",
       "    &lt;style&gt;html, body {width: 100%;height: 100%;margin: 0;padding: 0;}&lt;/style&gt;\n",
       "    &lt;style&gt;#map {position:absolute;top:0;bottom:0;right:0;left:0;}&lt;/style&gt;\n",
       "    &lt;script src=&quot;https://cdn.jsdelivr.net/npm/leaflet@1.6.0/dist/leaflet.js&quot;&gt;&lt;/script&gt;\n",
       "    &lt;script src=&quot;https://code.jquery.com/jquery-1.12.4.min.js&quot;&gt;&lt;/script&gt;\n",
       "    &lt;script src=&quot;https://maxcdn.bootstrapcdn.com/bootstrap/3.2.0/js/bootstrap.min.js&quot;&gt;&lt;/script&gt;\n",
       "    &lt;script src=&quot;https://cdnjs.cloudflare.com/ajax/libs/Leaflet.awesome-markers/2.0.2/leaflet.awesome-markers.js&quot;&gt;&lt;/script&gt;\n",
       "    &lt;link rel=&quot;stylesheet&quot; href=&quot;https://cdn.jsdelivr.net/npm/leaflet@1.6.0/dist/leaflet.css&quot;/&gt;\n",
       "    &lt;link rel=&quot;stylesheet&quot; href=&quot;https://maxcdn.bootstrapcdn.com/bootstrap/3.2.0/css/bootstrap.min.css&quot;/&gt;\n",
       "    &lt;link rel=&quot;stylesheet&quot; href=&quot;https://maxcdn.bootstrapcdn.com/bootstrap/3.2.0/css/bootstrap-theme.min.css&quot;/&gt;\n",
       "    &lt;link rel=&quot;stylesheet&quot; href=&quot;https://maxcdn.bootstrapcdn.com/font-awesome/4.6.3/css/font-awesome.min.css&quot;/&gt;\n",
       "    &lt;link rel=&quot;stylesheet&quot; href=&quot;https://cdnjs.cloudflare.com/ajax/libs/Leaflet.awesome-markers/2.0.2/leaflet.awesome-markers.css&quot;/&gt;\n",
       "    &lt;link rel=&quot;stylesheet&quot; href=&quot;https://cdn.jsdelivr.net/gh/python-visualization/folium/folium/templates/leaflet.awesome.rotate.min.css&quot;/&gt;\n",
       "    \n",
       "            &lt;meta name=&quot;viewport&quot; content=&quot;width=device-width,\n",
       "                initial-scale=1.0, maximum-scale=1.0, user-scalable=no&quot; /&gt;\n",
       "            &lt;style&gt;\n",
       "                #map_c7bccff61353f9c8ebc29f7219da5527 {\n",
       "                    position: relative;\n",
       "                    width: 100.0%;\n",
       "                    height: 100.0%;\n",
       "                    left: 0.0%;\n",
       "                    top: 0.0%;\n",
       "                }\n",
       "            &lt;/style&gt;\n",
       "        \n",
       "&lt;/head&gt;\n",
       "&lt;body&gt;    \n",
       "    \n",
       "            &lt;div class=&quot;folium-map&quot; id=&quot;map_c7bccff61353f9c8ebc29f7219da5527&quot; &gt;&lt;/div&gt;\n",
       "        \n",
       "&lt;/body&gt;\n",
       "&lt;script&gt;    \n",
       "    \n",
       "            var map_c7bccff61353f9c8ebc29f7219da5527 = L.map(\n",
       "                &quot;map_c7bccff61353f9c8ebc29f7219da5527&quot;,\n",
       "                {\n",
       "                    center: [-40.0, -74.0],\n",
       "                    crs: L.CRS.EPSG3857,\n",
       "                    zoom: 10,\n",
       "                    zoomControl: true,\n",
       "                    preferCanvas: false,\n",
       "                }\n",
       "            );\n",
       "\n",
       "            \n",
       "\n",
       "        \n",
       "    \n",
       "            var tile_layer_f946e1ba73420efbe166c76d9ef4a889 = L.tileLayer(\n",
       "                &quot;https://{s}.tile.openstreetmap.org/{z}/{x}/{y}.png&quot;,\n",
       "                {&quot;attribution&quot;: &quot;Data by \\u0026copy; \\u003ca href=\\&quot;http://openstreetmap.org\\&quot;\\u003eOpenStreetMap\\u003c/a\\u003e, under \\u003ca href=\\&quot;http://www.openstreetmap.org/copyright\\&quot;\\u003eODbL\\u003c/a\\u003e.&quot;, &quot;detectRetina&quot;: false, &quot;maxNativeZoom&quot;: 18, &quot;maxZoom&quot;: 18, &quot;minZoom&quot;: 0, &quot;noWrap&quot;: false, &quot;opacity&quot;: 1, &quot;subdomains&quot;: &quot;abc&quot;, &quot;tms&quot;: false}\n",
       "            ).addTo(map_c7bccff61353f9c8ebc29f7219da5527);\n",
       "        \n",
       "    \n",
       "            var tile_layer_70a9e1ec1fe7cda1c5619a261ad5f953 = L.tileLayer(\n",
       "                &quot;https://earthengine.googleapis.com/v1alpha/projects/earthengine-legacy/maps/17d309641164d22fb61b8341de22c740-3fabc8b99b0add7f66fe14f1da3488f8/tiles/{z}/{x}/{y}&quot;,\n",
       "                {&quot;attribution&quot;: &quot;Map Data \\u0026copy; \\u003ca href=\\&quot;https://earthengine.google.com/\\&quot;\\u003eGoogle Earth Engine\\u003c/a\\u003e&quot;, &quot;detectRetina&quot;: false, &quot;maxNativeZoom&quot;: 18, &quot;maxZoom&quot;: 18, &quot;minZoom&quot;: 0, &quot;noWrap&quot;: false, &quot;opacity&quot;: 1, &quot;subdomains&quot;: &quot;abc&quot;, &quot;tms&quot;: false}\n",
       "            ).addTo(map_c7bccff61353f9c8ebc29f7219da5527);\n",
       "        \n",
       "&lt;/script&gt;\" style=\"position:absolute;width:100%;height:100%;left:0;top:0;border:none !important;\" allowfullscreen webkitallowfullscreen mozallowfullscreen></iframe></div></div>"
      ],
      "text/plain": [
       "<folium.folium.Map at 0x7fa4d9ac4520>"
      ]
     },
     "metadata": {},
     "output_type": "display_data"
    }
   ],
   "source": [
    "image_ids = collection.aggregate_array('system:index').getInfo()\n",
    "print('Total images: ', len(image_ids))\n",
    "image_1 = ee.Image(collection.first())\n",
    "\n",
    "def add_ee_layer(self, ee_image_object, vis_params, name):\n",
    "    map_id_dict = ee.Image(ee_image_object).getMapId(vis_params)\n",
    "    folium.raster_layers.TileLayer(\n",
    "      tiles=map_id_dict['tile_fetcher'].url_format,\n",
    "      attr='Map Data &copy; <a href=\"https://earthengine.google.com/\">Google Earth Engine</a>',\n",
    "      name=name,\n",
    "      overlay=True,\n",
    "      control=True\n",
    "    ).add_to(self)\n",
    "\n",
    "folium.Map.add_ee_layer = add_ee_layer\n",
    "\n",
    "map_l8 = folium.Map(location=[-40, -74], zoom_start=10)\n",
    "vis = {'min':0, 'max':3000}\n",
    "\n",
    "map_l8.add_ee_layer(image_1, vis, 'false color composite')\n",
    "display(map_l8)"
   ]
  },
  {
   "cell_type": "code",
   "execution_count": null,
   "id": "64b9382b-e78a-4986-9cad-5f51163a7616",
   "metadata": {},
   "outputs": [],
   "source": []
  },
  {
   "cell_type": "code",
   "execution_count": null,
   "id": "0c4f86fa-109f-442a-9d33-6868f7833994",
   "metadata": {},
   "outputs": [],
   "source": []
  },
  {
   "cell_type": "code",
   "execution_count": 29,
   "id": "f872efaa-665d-476d-b9fe-026871f0824c",
   "metadata": {},
   "outputs": [
    {
     "data": {
      "text/plain": [
       "<ee.image.Image at 0x7fc1a149da90>"
      ]
     },
     "execution_count": 29,
     "metadata": {},
     "output_type": "execute_result"
    }
   ],
   "source": [
    "image"
   ]
  },
  {
   "cell_type": "code",
   "execution_count": 19,
   "id": "e52b5d8b-302f-4054-b1c8-577087dafd65",
   "metadata": {},
   "outputs": [
    {
     "name": "stdout",
     "output_type": "stream",
     "text": [
      "ee.ImageCollection({\n",
      "  \"functionInvocationValue\": {\n",
      "    \"functionName\": \"Collection.filter\",\n",
      "    \"arguments\": {\n",
      "      \"collection\": {\n",
      "        \"functionInvocationValue\": {\n",
      "          \"functionName\": \"ImageCollection.load\",\n",
      "          \"arguments\": {\n",
      "            \"id\": {\n",
      "              \"constantValue\": \"JAXA/GCOM-C/L3/OCEAN/CHLA/V3\"\n",
      "            }\n",
      "          }\n",
      "        }\n",
      "      },\n",
      "      \"filter\": {\n",
      "        \"functionInvocationValue\": {\n",
      "          \"functionName\": \"Filter.dateRangeContains\",\n",
      "          \"arguments\": {\n",
      "            \"leftValue\": {\n",
      "              \"functionInvocationValue\": {\n",
      "                \"functionName\": \"DateRange\",\n",
      "                \"arguments\": {\n",
      "                  \"end\": {\n",
      "                    \"constantValue\": \"2022-01-01\"\n",
      "                  },\n",
      "                  \"start\": {\n",
      "                    \"constantValue\": \"2021-12-01\"\n",
      "                  }\n",
      "                }\n",
      "              }\n",
      "            },\n",
      "            \"rightField\": {\n",
      "              \"constantValue\": \"system:time_start\"\n",
      "            }\n",
      "          }\n",
      "        }\n",
      "      }\n",
      "    }\n",
      "  }\n",
      "})\n"
     ]
    }
   ],
   "source": [
    "print(lc)"
   ]
  },
  {
   "cell_type": "code",
   "execution_count": 21,
   "id": "b611fa6e-6bbc-4ba0-9f46-5cc7de6a3ca8",
   "metadata": {},
   "outputs": [
    {
     "name": "stdout",
     "output_type": "stream",
     "text": [
      "dict_keys(['type', 'bands', 'id', 'version', 'properties', 'features'])\n"
     ]
    }
   ],
   "source": [
    "print(lc.getInfo().keys())"
   ]
  },
  {
   "cell_type": "code",
   "execution_count": 23,
   "id": "c51deb50-dc2f-4d4b-952d-f5c1421e64df",
   "metadata": {},
   "outputs": [
    {
     "name": "stdout",
     "output_type": "stream",
     "text": [
      "[{'type': 'Image', 'bands': [{'id': 'CHLA_AVE', 'data_type': {'type': 'PixelType', 'precision': 'int', 'min': 0, 'max': 65535}, 'dimensions': [8640, 4320], 'crs': 'EPSG:4326', 'crs_transform': [0.041666666666666664, 0, -180, 0, -0.041666666666666664, 90]}, {'id': 'CHLA_QA_flag', 'data_type': {'type': 'PixelType', 'precision': 'int', 'min': 0, 'max': 255}, 'dimensions': [8640, 4320], 'crs': 'EPSG:4326', 'crs_transform': [0.041666666666666664, 0, -180, 0, -0.041666666666666664, 90]}], 'id': 'JAXA/GCOM-C/L3/OCEAN/CHLA/V3/20211201A', 'version': 1639183434960267, 'properties': {'PROCESSING_RESULT': 'Good', 'system:time_end': 1638403200000, 'IMAGE_START_TIME': '2021-11-30T23:59:58.745000', 'CHLA_AVE_SLOPE': '0', 'SATELLITE_DIRECTION': 'A', 'PRODUCT_VERSION': '3000', 'system:time_start': 1638316800000, 'IMAGE_END_TIME': '2021-12-01T23:36:35.573000', 'system:footprint': {'type': 'LinearRing', 'coordinates': [[-180, -90], [180, -90], [180, 90], [-180, 90], [-180, -90]]}, 'PROCESSING_UT': '2021-12-03T00:37:05', 'ALGORITHM_VERSION': '3.00', 'CHLA_AVE_OFFSET': '0', 'GRID_INTERVAL_UNIT': 'deg', 'PRODUCT_FILENAME': 'GC1SG1_20211201A01D_D0000_3MSG_CHLAF_3000.h5', 'system:asset_size': 52841, 'GRID_INTERVAL': '0.041666668', 'system:index': '20211201A'}}, {'type': 'Image', 'bands': [{'id': 'CHLA_AVE', 'data_type': {'type': 'PixelType', 'precision': 'int', 'min': 0, 'max': 65535}, 'dimensions': [8640, 4320], 'crs': 'EPSG:4326', 'crs_transform': [0.041666666666666664, 0, -180, 0, -0.041666666666666664, 90]}, {'id': 'CHLA_QA_flag', 'data_type': {'type': 'PixelType', 'precision': 'int', 'min': 0, 'max': 255}, 'dimensions': [8640, 4320], 'crs': 'EPSG:4326', 'crs_transform': [0.041666666666666664, 0, -180, 0, -0.041666666666666664, 90]}], 'id': 'JAXA/GCOM-C/L3/OCEAN/CHLA/V3/20211201D', 'version': 1639184285005733, 'properties': {'PROCESSING_RESULT': 'Good', 'system:time_end': 1638403200000, 'IMAGE_START_TIME': '2021-12-01T00:49:36.074000', 'CHLA_AVE_SLOPE': '0.0016', 'SATELLITE_DIRECTION': 'D', 'PRODUCT_VERSION': '3000', 'system:time_start': 1638316800000, 'IMAGE_END_TIME': '2021-12-01T23:29:39.661000', 'system:footprint': {'type': 'LinearRing', 'coordinates': [[-180, -90], [180, -90], [180, 90], [-180, 90], [-180, -90]]}, 'PROCESSING_UT': '2021-12-09T18:57:57', 'ALGORITHM_VERSION': '3.00', 'CHLA_AVE_OFFSET': '0', 'GRID_INTERVAL_UNIT': 'deg', 'PRODUCT_FILENAME': 'GC1SG1_20211201D01D_D0000_3MSG_CHLAF_3000.h5', 'system:asset_size': 9794481, 'GRID_INTERVAL': '0.041666668', 'system:index': '20211201D'}}, {'type': 'Image', 'bands': [{'id': 'CHLA_AVE', 'data_type': {'type': 'PixelType', 'precision': 'int', 'min': 0, 'max': 65535}, 'dimensions': [8640, 4320], 'crs': 'EPSG:4326', 'crs_transform': [0.041666666666666664, 0, -180, 0, -0.041666666666666664, 90]}, {'id': 'CHLA_QA_flag', 'data_type': {'type': 'PixelType', 'precision': 'int', 'min': 0, 'max': 255}, 'dimensions': [8640, 4320], 'crs': 'EPSG:4326', 'crs_transform': [0.041666666666666664, 0, -180, 0, -0.041666666666666664, 90]}], 'id': 'JAXA/GCOM-C/L3/OCEAN/CHLA/V3/20211202A', 'version': 1639182452364754, 'properties': {'PROCESSING_RESULT': 'Good', 'system:time_end': 1638489600000, 'IMAGE_START_TIME': '2021-12-02T01:10:01.422000', 'CHLA_AVE_SLOPE': '0', 'SATELLITE_DIRECTION': 'A', 'PRODUCT_VERSION': '3000', 'system:time_start': 1638403200000, 'IMAGE_END_TIME': '2021-12-02T23:09:57.244000', 'system:footprint': {'type': 'LinearRing', 'coordinates': [[-180, -90], [180, -90], [180, 90], [-180, 90], [-180, -90]]}, 'PROCESSING_UT': '2021-12-04T00:09:04', 'ALGORITHM_VERSION': '3.00', 'CHLA_AVE_OFFSET': '0', 'GRID_INTERVAL_UNIT': 'deg', 'PRODUCT_FILENAME': 'GC1SG1_20211202A01D_D0000_3MSG_CHLAF_3000.h5', 'system:asset_size': 47871, 'GRID_INTERVAL': '0.041666668', 'system:index': '20211202A'}}, {'type': 'Image', 'bands': [{'id': 'CHLA_AVE', 'data_type': {'type': 'PixelType', 'precision': 'int', 'min': 0, 'max': 65535}, 'dimensions': [8640, 4320], 'crs': 'EPSG:4326', 'crs_transform': [0.041666666666666664, 0, -180, 0, -0.041666666666666664, 90]}, {'id': 'CHLA_QA_flag', 'data_type': {'type': 'PixelType', 'precision': 'int', 'min': 0, 'max': 255}, 'dimensions': [8640, 4320], 'crs': 'EPSG:4326', 'crs_transform': [0.041666666666666664, 0, -180, 0, -0.041666666666666664, 90]}], 'id': 'JAXA/GCOM-C/L3/OCEAN/CHLA/V3/20211202D', 'version': 1639183296768313, 'properties': {'PROCESSING_RESULT': 'Good', 'system:time_end': 1638489600000, 'IMAGE_START_TIME': '2021-12-02T00:22:53.043000', 'CHLA_AVE_SLOPE': '0.0016', 'SATELLITE_DIRECTION': 'D', 'PRODUCT_VERSION': '3000', 'system:time_start': 1638403200000, 'IMAGE_END_TIME': '2021-12-03T00:01:50.851000', 'system:footprint': {'type': 'LinearRing', 'coordinates': [[-180, -90], [180, -90], [180, 90], [-180, 90], [-180, -90]]}, 'PROCESSING_UT': '2021-12-09T18:55:59', 'ALGORITHM_VERSION': '3.00', 'CHLA_AVE_OFFSET': '0', 'GRID_INTERVAL_UNIT': 'deg', 'PRODUCT_FILENAME': 'GC1SG1_20211202D01D_D0000_3MSG_CHLAF_3000.h5', 'system:asset_size': 9349216, 'GRID_INTERVAL': '0.041666668', 'system:index': '20211202D'}}, {'type': 'Image', 'bands': [{'id': 'CHLA_AVE', 'data_type': {'type': 'PixelType', 'precision': 'int', 'min': 0, 'max': 65535}, 'dimensions': [8640, 4320], 'crs': 'EPSG:4326', 'crs_transform': [0.041666666666666664, 0, -180, 0, -0.041666666666666664, 90]}, {'id': 'CHLA_QA_flag', 'data_type': {'type': 'PixelType', 'precision': 'int', 'min': 0, 'max': 255}, 'dimensions': [8640, 4320], 'crs': 'EPSG:4326', 'crs_transform': [0.041666666666666664, 0, -180, 0, -0.041666666666666664, 90]}], 'id': 'JAXA/GCOM-C/L3/OCEAN/CHLA/V3/20211203A', 'version': 1639184348226158, 'properties': {'PROCESSING_RESULT': 'Good', 'system:time_end': 1638576000000, 'IMAGE_START_TIME': '2021-12-03T00:43:19.406000', 'CHLA_AVE_SLOPE': '0', 'SATELLITE_DIRECTION': 'A', 'PRODUCT_VERSION': '3000', 'system:time_start': 1638489600000, 'IMAGE_END_TIME': '2021-12-03T22:43:16.540000', 'system:footprint': {'type': 'LinearRing', 'coordinates': [[-180, -90], [180, -90], [180, 90], [-180, 90], [-180, -90]]}, 'PROCESSING_UT': '2021-12-05T00:47:53', 'ALGORITHM_VERSION': '3.00', 'CHLA_AVE_OFFSET': '0', 'GRID_INTERVAL_UNIT': 'deg', 'PRODUCT_FILENAME': 'GC1SG1_20211203A01D_D0000_3MSG_CHLAF_3000.h5', 'system:asset_size': 48449, 'GRID_INTERVAL': '0.041666668', 'system:index': '20211203A'}}, {'type': 'Image', 'bands': [{'id': 'CHLA_AVE', 'data_type': {'type': 'PixelType', 'precision': 'int', 'min': 0, 'max': 65535}, 'dimensions': [8640, 4320], 'crs': 'EPSG:4326', 'crs_transform': [0.041666666666666664, 0, -180, 0, -0.041666666666666664, 90]}, {'id': 'CHLA_QA_flag', 'data_type': {'type': 'PixelType', 'precision': 'int', 'min': 0, 'max': 255}, 'dimensions': [8640, 4320], 'crs': 'EPSG:4326', 'crs_transform': [0.041666666666666664, 0, -180, 0, -0.041666666666666664, 90]}], 'id': 'JAXA/GCOM-C/L3/OCEAN/CHLA/V3/20211203D', 'version': 1639184482733430.0, 'properties': {'PROCESSING_RESULT': 'Good', 'system:time_end': 1638576000000, 'IMAGE_START_TIME': '2021-12-03T00:01:15.529000', 'CHLA_AVE_SLOPE': '0.0016', 'SATELLITE_DIRECTION': 'D', 'PRODUCT_VERSION': '3000', 'system:time_start': 1638489600000, 'IMAGE_END_TIME': '2021-12-04T00:00:22.937000', 'system:footprint': {'type': 'LinearRing', 'coordinates': [[-180, -90], [180, -90], [180, 90], [-180, 90], [-180, -90]]}, 'PROCESSING_UT': '2021-12-09T18:55:00', 'ALGORITHM_VERSION': '3.00', 'CHLA_AVE_OFFSET': '0', 'GRID_INTERVAL_UNIT': 'deg', 'PRODUCT_FILENAME': 'GC1SG1_20211203D01D_D0000_3MSG_CHLAF_3000.h5', 'system:asset_size': 9355856, 'GRID_INTERVAL': '0.041666668', 'system:index': '20211203D'}}, {'type': 'Image', 'bands': [{'id': 'CHLA_AVE', 'data_type': {'type': 'PixelType', 'precision': 'int', 'min': 0, 'max': 65535}, 'dimensions': [8640, 4320], 'crs': 'EPSG:4326', 'crs_transform': [0.041666666666666664, 0, -180, 0, -0.041666666666666664, 90]}, {'id': 'CHLA_QA_flag', 'data_type': {'type': 'PixelType', 'precision': 'int', 'min': 0, 'max': 255}, 'dimensions': [8640, 4320], 'crs': 'EPSG:4326', 'crs_transform': [0.041666666666666664, 0, -180, 0, -0.041666666666666664, 90]}], 'id': 'JAXA/GCOM-C/L3/OCEAN/CHLA/V3/20211204A', 'version': 1639182451783680.0, 'properties': {'PROCESSING_RESULT': 'Good', 'system:time_end': 1638662400000, 'IMAGE_START_TIME': '2021-12-04T00:16:37.372000', 'CHLA_AVE_SLOPE': '0', 'SATELLITE_DIRECTION': 'A', 'PRODUCT_VERSION': '3000', 'system:time_start': 1638576000000, 'IMAGE_END_TIME': '2021-12-04T23:57:35.687000', 'system:footprint': {'type': 'LinearRing', 'coordinates': [[-180, -90], [180, -90], [180, 90], [-180, 90], [-180, -90]]}, 'PROCESSING_UT': '2021-12-06T01:54:25', 'ALGORITHM_VERSION': '3.00', 'CHLA_AVE_OFFSET': '0', 'GRID_INTERVAL_UNIT': 'deg', 'PRODUCT_FILENAME': 'GC1SG1_20211204A01D_D0000_3MSG_CHLAF_3000.h5', 'system:asset_size': 49262, 'GRID_INTERVAL': '0.041666668', 'system:index': '20211204A'}}, {'type': 'Image', 'bands': [{'id': 'CHLA_AVE', 'data_type': {'type': 'PixelType', 'precision': 'int', 'min': 0, 'max': 65535}, 'dimensions': [8640, 4320], 'crs': 'EPSG:4326', 'crs_transform': [0.041666666666666664, 0, -180, 0, -0.041666666666666664, 90]}, {'id': 'CHLA_QA_flag', 'data_type': {'type': 'PixelType', 'precision': 'int', 'min': 0, 'max': 255}, 'dimensions': [8640, 4320], 'crs': 'EPSG:4326', 'crs_transform': [0.041666666666666664, 0, -180, 0, -0.041666666666666664, 90]}], 'id': 'JAXA/GCOM-C/L3/OCEAN/CHLA/V3/20211204D', 'version': 1639183321461568, 'properties': {'PROCESSING_RESULT': 'Good', 'system:time_end': 1638662400000, 'IMAGE_START_TIME': '2021-12-03T23:59:47.762000', 'CHLA_AVE_SLOPE': '0.0016', 'SATELLITE_DIRECTION': 'D', 'PRODUCT_VERSION': '3000', 'system:time_start': 1638576000000, 'IMAGE_END_TIME': '2021-12-04T23:50:30.503000', 'system:footprint': {'type': 'LinearRing', 'coordinates': [[-180, -90], [180, -90], [180, 90], [-180, 90], [-180, -90]]}, 'PROCESSING_UT': '2021-12-09T18:57:23', 'ALGORITHM_VERSION': '3.00', 'CHLA_AVE_OFFSET': '0', 'GRID_INTERVAL_UNIT': 'deg', 'PRODUCT_FILENAME': 'GC1SG1_20211204D01D_D0000_3MSG_CHLAF_3000.h5', 'system:asset_size': 9776006, 'GRID_INTERVAL': '0.041666668', 'system:index': '20211204D'}}, {'type': 'Image', 'bands': [{'id': 'CHLA_AVE', 'data_type': {'type': 'PixelType', 'precision': 'int', 'min': 0, 'max': 65535}, 'dimensions': [8640, 4320], 'crs': 'EPSG:4326', 'crs_transform': [0.041666666666666664, 0, -180, 0, -0.041666666666666664, 90]}, {'id': 'CHLA_QA_flag', 'data_type': {'type': 'PixelType', 'precision': 'int', 'min': 0, 'max': 255}, 'dimensions': [8640, 4320], 'crs': 'EPSG:4326', 'crs_transform': [0.041666666666666664, 0, -180, 0, -0.041666666666666664, 90]}], 'id': 'JAXA/GCOM-C/L3/OCEAN/CHLA/V3/20211205A', 'version': 1639183278219035, 'properties': {'PROCESSING_RESULT': 'Good', 'system:time_end': 1638748800000, 'IMAGE_START_TIME': '2021-12-05T01:30:52.259000', 'CHLA_AVE_SLOPE': '0', 'SATELLITE_DIRECTION': 'A', 'PRODUCT_VERSION': '3000', 'system:time_start': 1638662400000, 'IMAGE_END_TIME': '2021-12-05T23:30:54.373000', 'system:footprint': {'type': 'LinearRing', 'coordinates': [[-180, -90], [180, -90], [180, 90], [-180, 90], [-180, -90]]}, 'PROCESSING_UT': '2021-12-07T00:34:01', 'ALGORITHM_VERSION': '3.00', 'CHLA_AVE_OFFSET': '0', 'GRID_INTERVAL_UNIT': 'deg', 'PRODUCT_FILENAME': 'GC1SG1_20211205A01D_D0000_3MSG_CHLAF_3000.h5', 'system:asset_size': 50267, 'GRID_INTERVAL': '0.041666668', 'system:index': '20211205A'}}, {'type': 'Image', 'bands': [{'id': 'CHLA_AVE', 'data_type': {'type': 'PixelType', 'precision': 'int', 'min': 0, 'max': 65535}, 'dimensions': [8640, 4320], 'crs': 'EPSG:4326', 'crs_transform': [0.041666666666666664, 0, -180, 0, -0.041666666666666664, 90]}, {'id': 'CHLA_QA_flag', 'data_type': {'type': 'PixelType', 'precision': 'int', 'min': 0, 'max': 255}, 'dimensions': [8640, 4320], 'crs': 'EPSG:4326', 'crs_transform': [0.041666666666666664, 0, -180, 0, -0.041666666666666664, 90]}], 'id': 'JAXA/GCOM-C/L3/OCEAN/CHLA/V3/20211205D', 'version': 1639183359336081, 'properties': {'PROCESSING_RESULT': 'Good', 'system:time_end': 1638748800000, 'IMAGE_START_TIME': '2021-12-05T00:43:45.352000', 'CHLA_AVE_SLOPE': '0.0016', 'SATELLITE_DIRECTION': 'D', 'PRODUCT_VERSION': '3000', 'system:time_start': 1638662400000, 'IMAGE_END_TIME': '2021-12-05T23:23:48.453000', 'system:footprint': {'type': 'LinearRing', 'coordinates': [[-180, -90], [180, -90], [180, 90], [-180, 90], [-180, -90]]}, 'PROCESSING_UT': '2021-12-09T20:20:59', 'ALGORITHM_VERSION': '3.00', 'CHLA_AVE_OFFSET': '0', 'GRID_INTERVAL_UNIT': 'deg', 'PRODUCT_FILENAME': 'GC1SG1_20211205D01D_D0000_3MSG_CHLAF_3000.h5', 'system:asset_size': 9409035, 'GRID_INTERVAL': '0.041666668', 'system:index': '20211205D'}}, {'type': 'Image', 'bands': [{'id': 'CHLA_AVE', 'data_type': {'type': 'PixelType', 'precision': 'int', 'min': 0, 'max': 65535}, 'dimensions': [8640, 4320], 'crs': 'EPSG:4326', 'crs_transform': [0.041666666666666664, 0, -180, 0, -0.041666666666666664, 90]}, {'id': 'CHLA_QA_flag', 'data_type': {'type': 'PixelType', 'precision': 'int', 'min': 0, 'max': 255}, 'dimensions': [8640, 4320], 'crs': 'EPSG:4326', 'crs_transform': [0.041666666666666664, 0, -180, 0, -0.041666666666666664, 90]}], 'id': 'JAXA/GCOM-C/L3/OCEAN/CHLA/V3/20211206A', 'version': 1639183390711491, 'properties': {'PROCESSING_RESULT': 'Good', 'system:time_end': 1638835200000, 'IMAGE_START_TIME': '2021-12-06T01:04:10.210000', 'CHLA_AVE_SLOPE': '0', 'SATELLITE_DIRECTION': 'A', 'PRODUCT_VERSION': '3000', 'system:time_start': 1638748800000, 'IMAGE_END_TIME': '2021-12-06T23:04:16.578000', 'system:footprint': {'type': 'LinearRing', 'coordinates': [[-180, -90], [180, -90], [180, 90], [-180, 90], [-180, -90]]}, 'PROCESSING_UT': '2021-12-08T01:06:22', 'ALGORITHM_VERSION': '3.00', 'CHLA_AVE_OFFSET': '0', 'GRID_INTERVAL_UNIT': 'deg', 'PRODUCT_FILENAME': 'GC1SG1_20211206A01D_D0000_3MSG_CHLAF_3000.h5', 'system:asset_size': 50565, 'GRID_INTERVAL': '0.041666668', 'system:index': '20211206A'}}, {'type': 'Image', 'bands': [{'id': 'CHLA_AVE', 'data_type': {'type': 'PixelType', 'precision': 'int', 'min': 0, 'max': 65535}, 'dimensions': [8640, 4320], 'crs': 'EPSG:4326', 'crs_transform': [0.041666666666666664, 0, -180, 0, -0.041666666666666664, 90]}, {'id': 'CHLA_QA_flag', 'data_type': {'type': 'PixelType', 'precision': 'int', 'min': 0, 'max': 255}, 'dimensions': [8640, 4320], 'crs': 'EPSG:4326', 'crs_transform': [0.041666666666666664, 0, -180, 0, -0.041666666666666664, 90]}], 'id': 'JAXA/GCOM-C/L3/OCEAN/CHLA/V3/20211206D', 'version': 1639184177138885, 'properties': {'PROCESSING_RESULT': 'Good', 'system:time_end': 1638835200000, 'IMAGE_START_TIME': '2021-12-06T00:17:01.095000', 'CHLA_AVE_SLOPE': '0.0016', 'SATELLITE_DIRECTION': 'D', 'PRODUCT_VERSION': '3000', 'system:time_start': 1638748800000, 'IMAGE_END_TIME': '2021-12-07T00:04:24.240000', 'system:footprint': {'type': 'LinearRing', 'coordinates': [[-180, -90], [180, -90], [180, 90], [-180, 90], [-180, -90]]}, 'PROCESSING_UT': '2021-12-09T18:57:04', 'ALGORITHM_VERSION': '3.00', 'CHLA_AVE_OFFSET': '0', 'GRID_INTERVAL_UNIT': 'deg', 'PRODUCT_FILENAME': 'GC1SG1_20211206D01D_D0000_3MSG_CHLAF_3000.h5', 'system:asset_size': 8933738, 'GRID_INTERVAL': '0.041666668', 'system:index': '20211206D'}}, {'type': 'Image', 'bands': [{'id': 'CHLA_AVE', 'data_type': {'type': 'PixelType', 'precision': 'int', 'min': 0, 'max': 65535}, 'dimensions': [8640, 4320], 'crs': 'EPSG:4326', 'crs_transform': [0.041666666666666664, 0, -180, 0, -0.041666666666666664, 90]}, {'id': 'CHLA_QA_flag', 'data_type': {'type': 'PixelType', 'precision': 'int', 'min': 0, 'max': 255}, 'dimensions': [8640, 4320], 'crs': 'EPSG:4326', 'crs_transform': [0.041666666666666664, 0, -180, 0, -0.041666666666666664, 90]}], 'id': 'JAXA/GCOM-C/L3/OCEAN/CHLA/V3/20211207A', 'version': 1639182439028238, 'properties': {'PROCESSING_RESULT': 'Good', 'system:time_end': 1638921600000, 'IMAGE_START_TIME': '2021-12-07T00:37:28.138000', 'CHLA_AVE_SLOPE': '0', 'SATELLITE_DIRECTION': 'A', 'PRODUCT_VERSION': '3000', 'system:time_start': 1638835200000, 'IMAGE_END_TIME': '2021-12-07T22:37:34.643000', 'system:footprint': {'type': 'LinearRing', 'coordinates': [[-180, -90], [180, -90], [180, 90], [-180, 90], [-180, -90]]}, 'PROCESSING_UT': '2021-12-09T00:23:36', 'ALGORITHM_VERSION': '3.00', 'CHLA_AVE_OFFSET': '0', 'GRID_INTERVAL_UNIT': 'deg', 'PRODUCT_FILENAME': 'GC1SG1_20211207A01D_D0000_3MSG_CHLAF_3000.h5', 'system:asset_size': 51048, 'GRID_INTERVAL': '0.041666668', 'system:index': '20211207A'}}, {'type': 'Image', 'bands': [{'id': 'CHLA_AVE', 'data_type': {'type': 'PixelType', 'precision': 'int', 'min': 0, 'max': 65535}, 'dimensions': [8640, 4320], 'crs': 'EPSG:4326', 'crs_transform': [0.041666666666666664, 0, -180, 0, -0.041666666666666664, 90]}, {'id': 'CHLA_QA_flag', 'data_type': {'type': 'PixelType', 'precision': 'int', 'min': 0, 'max': 255}, 'dimensions': [8640, 4320], 'crs': 'EPSG:4326', 'crs_transform': [0.041666666666666664, 0, -180, 0, -0.041666666666666664, 90]}], 'id': 'JAXA/GCOM-C/L3/OCEAN/CHLA/V3/20211207D', 'version': 1639183288100926, 'properties': {'PROCESSING_RESULT': 'Good', 'system:time_end': 1638921600000, 'IMAGE_START_TIME': '2021-12-07T00:03:49.066000', 'CHLA_AVE_SLOPE': '0.0016', 'SATELLITE_DIRECTION': 'D', 'PRODUCT_VERSION': '3000', 'system:time_start': 1638835200000, 'IMAGE_END_TIME': '2021-12-08T00:01:46.516000', 'system:footprint': {'type': 'LinearRing', 'coordinates': [[-180, -90], [180, -90], [180, 90], [-180, 90], [-180, -90]]}, 'PROCESSING_UT': '2021-12-09T01:35:37', 'ALGORITHM_VERSION': '3.00', 'CHLA_AVE_OFFSET': '0', 'GRID_INTERVAL_UNIT': 'deg', 'PRODUCT_FILENAME': 'GC1SG1_20211207D01D_D0000_3MSG_CHLAF_3000.h5', 'system:asset_size': 9165677, 'GRID_INTERVAL': '0.041666668', 'system:index': '20211207D'}}, {'type': 'Image', 'bands': [{'id': 'CHLA_AVE', 'data_type': {'type': 'PixelType', 'precision': 'int', 'min': 0, 'max': 65535}, 'dimensions': [8640, 4320], 'crs': 'EPSG:4326', 'crs_transform': [0.041666666666666664, 0, -180, 0, -0.041666666666666664, 90]}, {'id': 'CHLA_QA_flag', 'data_type': {'type': 'PixelType', 'precision': 'int', 'min': 0, 'max': 255}, 'dimensions': [8640, 4320], 'crs': 'EPSG:4326', 'crs_transform': [0.041666666666666664, 0, -180, 0, -0.041666666666666664, 90]}], 'id': 'JAXA/GCOM-C/L3/OCEAN/CHLA/V3/20211208A', 'version': 1639182486593402, 'properties': {'PROCESSING_RESULT': 'Good', 'system:time_end': 1639008000000, 'IMAGE_START_TIME': '2021-12-08T00:10:46.054000', 'CHLA_AVE_SLOPE': '0', 'SATELLITE_DIRECTION': 'A', 'PRODUCT_VERSION': '3000', 'system:time_start': 1638921600000, 'IMAGE_END_TIME': '2021-12-08T23:51:51.387000', 'system:footprint': {'type': 'LinearRing', 'coordinates': [[-180, -90], [180, -90], [180, 90], [-180, 90], [-180, -90]]}, 'PROCESSING_UT': '2021-12-10T00:49:25', 'ALGORITHM_VERSION': '3.00', 'CHLA_AVE_OFFSET': '0', 'GRID_INTERVAL_UNIT': 'deg', 'PRODUCT_FILENAME': 'GC1SG1_20211208A01D_D0000_3MSG_CHLAF_3000.h5', 'system:asset_size': 51354, 'GRID_INTERVAL': '0.041666668', 'system:index': '20211208A'}}, {'type': 'Image', 'bands': [{'id': 'CHLA_AVE', 'data_type': {'type': 'PixelType', 'precision': 'int', 'min': 0, 'max': 65535}, 'dimensions': [8640, 4320], 'crs': 'EPSG:4326', 'crs_transform': [0.041666666666666664, 0, -180, 0, -0.041666666666666664, 90]}, {'id': 'CHLA_QA_flag', 'data_type': {'type': 'PixelType', 'precision': 'int', 'min': 0, 'max': 255}, 'dimensions': [8640, 4320], 'crs': 'EPSG:4326', 'crs_transform': [0.041666666666666664, 0, -180, 0, -0.041666666666666664, 90]}], 'id': 'JAXA/GCOM-C/L3/OCEAN/CHLA/V3/20211208D', 'version': 1639184669267952, 'properties': {'PROCESSING_RESULT': 'Good', 'system:time_end': 1639008000000, 'IMAGE_START_TIME': '2021-12-08T00:01:10.164000', 'CHLA_AVE_SLOPE': '0.0016', 'SATELLITE_DIRECTION': 'D', 'PRODUCT_VERSION': '3000', 'system:time_start': 1638921600000, 'IMAGE_END_TIME': '2021-12-08T23:44:39.139000', 'system:footprint': {'type': 'LinearRing', 'coordinates': [[-180, -90], [180, -90], [180, 90], [-180, 90], [-180, -90]]}, 'PROCESSING_UT': '2021-12-10T01:08:32', 'ALGORITHM_VERSION': '3.00', 'CHLA_AVE_OFFSET': '0', 'GRID_INTERVAL_UNIT': 'deg', 'PRODUCT_FILENAME': 'GC1SG1_20211208D01D_D0000_3MSG_CHLAF_3000.h5', 'system:asset_size': 9011536, 'GRID_INTERVAL': '0.041666668', 'system:index': '20211208D'}}, {'type': 'Image', 'bands': [{'id': 'CHLA_AVE', 'data_type': {'type': 'PixelType', 'precision': 'int', 'min': 0, 'max': 65535}, 'dimensions': [8640, 4320], 'crs': 'EPSG:4326', 'crs_transform': [0.041666666666666664, 0, -180, 0, -0.041666666666666664, 90]}, {'id': 'CHLA_QA_flag', 'data_type': {'type': 'PixelType', 'precision': 'int', 'min': 0, 'max': 255}, 'dimensions': [8640, 4320], 'crs': 'EPSG:4326', 'crs_transform': [0.041666666666666664, 0, -180, 0, -0.041666666666666664, 90]}], 'id': 'JAXA/GCOM-C/L3/OCEAN/CHLA/V3/20211209A', 'version': 1639260727703880.0, 'properties': {'PROCESSING_RESULT': 'Good', 'system:time_end': 1639094400000, 'IMAGE_START_TIME': '2021-12-09T01:25:00.892000', 'CHLA_AVE_SLOPE': '0', 'SATELLITE_DIRECTION': 'A', 'PRODUCT_VERSION': '3000', 'system:time_start': 1639008000000, 'IMAGE_END_TIME': '2021-12-09T23:25:13.711000', 'system:footprint': {'type': 'LinearRing', 'coordinates': [[-180, -90], [180, -90], [180, 90], [-180, 90], [-180, -90]]}, 'PROCESSING_UT': '2021-12-11T00:24:37', 'ALGORITHM_VERSION': '3.00', 'CHLA_AVE_OFFSET': '0', 'GRID_INTERVAL_UNIT': 'deg', 'PRODUCT_FILENAME': 'GC1SG1_20211209A01D_D0000_3MSG_CHLAF_3000.h5', 'system:asset_size': 55267, 'GRID_INTERVAL': '0.041666668', 'system:index': '20211209A'}}, {'type': 'Image', 'bands': [{'id': 'CHLA_AVE', 'data_type': {'type': 'PixelType', 'precision': 'int', 'min': 0, 'max': 65535}, 'dimensions': [8640, 4320], 'crs': 'EPSG:4326', 'crs_transform': [0.041666666666666664, 0, -180, 0, -0.041666666666666664, 90]}, {'id': 'CHLA_QA_flag', 'data_type': {'type': 'PixelType', 'precision': 'int', 'min': 0, 'max': 255}, 'dimensions': [8640, 4320], 'crs': 'EPSG:4326', 'crs_transform': [0.041666666666666664, 0, -180, 0, -0.041666666666666664, 90]}], 'id': 'JAXA/GCOM-C/L3/OCEAN/CHLA/V3/20211209D', 'version': 1639260760571688, 'properties': {'PROCESSING_RESULT': 'Good', 'system:time_end': 1639094400000, 'IMAGE_START_TIME': '2021-12-09T00:37:52.219000', 'CHLA_AVE_SLOPE': '0.0016', 'SATELLITE_DIRECTION': 'D', 'PRODUCT_VERSION': '3000', 'system:time_start': 1639008000000, 'IMAGE_END_TIME': '2021-12-09T23:17:57.047000', 'system:footprint': {'type': 'LinearRing', 'coordinates': [[-180, -90], [180, -90], [180, 90], [-180, 90], [-180, -90]]}, 'PROCESSING_UT': '2021-12-11T00:32:46', 'ALGORITHM_VERSION': '3.00', 'CHLA_AVE_OFFSET': '0', 'GRID_INTERVAL_UNIT': 'deg', 'PRODUCT_FILENAME': 'GC1SG1_20211209D01D_D0000_3MSG_CHLAF_3000.h5', 'system:asset_size': 9180624, 'GRID_INTERVAL': '0.041666668', 'system:index': '20211209D'}}, {'type': 'Image', 'bands': [{'id': 'CHLA_AVE', 'data_type': {'type': 'PixelType', 'precision': 'int', 'min': 0, 'max': 65535}, 'dimensions': [8640, 4320], 'crs': 'EPSG:4326', 'crs_transform': [0.041666666666666664, 0, -180, 0, -0.041666666666666664, 90]}, {'id': 'CHLA_QA_flag', 'data_type': {'type': 'PixelType', 'precision': 'int', 'min': 0, 'max': 255}, 'dimensions': [8640, 4320], 'crs': 'EPSG:4326', 'crs_transform': [0.041666666666666664, 0, -180, 0, -0.041666666666666664, 90]}], 'id': 'JAXA/GCOM-C/L3/OCEAN/CHLA/V3/20211210A', 'version': 1639350415168861, 'properties': {'PROCESSING_RESULT': 'Good', 'system:time_end': 1639180800000, 'IMAGE_START_TIME': '2021-12-10T00:58:18.799000', 'CHLA_AVE_SLOPE': '0', 'SATELLITE_DIRECTION': 'A', 'PRODUCT_VERSION': '3000', 'system:time_start': 1639094400000, 'IMAGE_END_TIME': '2021-12-10T22:58:30.577000', 'system:footprint': {'type': 'LinearRing', 'coordinates': [[-180, -90], [180, -90], [180, 90], [-180, 90], [-180, -90]]}, 'PROCESSING_UT': '2021-12-12T01:42:08', 'ALGORITHM_VERSION': '3.00', 'CHLA_AVE_OFFSET': '0', 'GRID_INTERVAL_UNIT': 'deg', 'PRODUCT_FILENAME': 'GC1SG1_20211210A01D_D0000_3MSG_CHLAF_3000.h5', 'system:asset_size': 51130, 'GRID_INTERVAL': '0.041666668', 'system:index': '20211210A'}}, {'type': 'Image', 'bands': [{'id': 'CHLA_AVE', 'data_type': {'type': 'PixelType', 'precision': 'int', 'min': 0, 'max': 65535}, 'dimensions': [8640, 4320], 'crs': 'EPSG:4326', 'crs_transform': [0.041666666666666664, 0, -180, 0, -0.041666666666666664, 90]}, {'id': 'CHLA_QA_flag', 'data_type': {'type': 'PixelType', 'precision': 'int', 'min': 0, 'max': 255}, 'dimensions': [8640, 4320], 'crs': 'EPSG:4326', 'crs_transform': [0.041666666666666664, 0, -180, 0, -0.041666666666666664, 90]}], 'id': 'JAXA/GCOM-C/L3/OCEAN/CHLA/V3/20211210D', 'version': 1639350429805724, 'properties': {'PROCESSING_RESULT': 'Good', 'system:time_end': 1639180800000, 'IMAGE_START_TIME': '2021-12-10T00:11:13.217000', 'CHLA_AVE_SLOPE': '0.0016', 'SATELLITE_DIRECTION': 'D', 'PRODUCT_VERSION': '3000', 'system:time_start': 1639094400000, 'IMAGE_END_TIME': '2021-12-11T00:02:45.193000', 'system:footprint': {'type': 'LinearRing', 'coordinates': [[-180, -90], [180, -90], [180, 90], [-180, 90], [-180, -90]]}, 'PROCESSING_UT': '2021-12-12T02:00:37', 'ALGORITHM_VERSION': '3.00', 'CHLA_AVE_OFFSET': '0', 'GRID_INTERVAL_UNIT': 'deg', 'PRODUCT_FILENAME': 'GC1SG1_20211210D01D_D0000_3MSG_CHLAF_3000.h5', 'system:asset_size': 8985450, 'GRID_INTERVAL': '0.041666668', 'system:index': '20211210D'}}, {'type': 'Image', 'bands': [{'id': 'CHLA_AVE', 'data_type': {'type': 'PixelType', 'precision': 'int', 'min': 0, 'max': 65535}, 'dimensions': [8640, 4320], 'crs': 'EPSG:4326', 'crs_transform': [0.041666666666666664, 0, -180, 0, -0.041666666666666664, 90]}, {'id': 'CHLA_QA_flag', 'data_type': {'type': 'PixelType', 'precision': 'int', 'min': 0, 'max': 255}, 'dimensions': [8640, 4320], 'crs': 'EPSG:4326', 'crs_transform': [0.041666666666666664, 0, -180, 0, -0.041666666666666664, 90]}], 'id': 'JAXA/GCOM-C/L3/OCEAN/CHLA/V3/20211211A', 'version': 1639436898401543, 'properties': {'PROCESSING_RESULT': 'Good', 'system:time_end': 1639267200000, 'IMAGE_START_TIME': '2021-12-11T00:31:36.688000', 'CHLA_AVE_SLOPE': '0', 'SATELLITE_DIRECTION': 'A', 'PRODUCT_VERSION': '3000', 'system:time_start': 1639180800000, 'IMAGE_END_TIME': '2021-12-11T22:31:49.788000', 'system:footprint': {'type': 'LinearRing', 'coordinates': [[-180, -90], [180, -90], [180, 90], [-180, 90], [-180, -90]]}, 'PROCESSING_UT': '2021-12-13T02:01:32', 'ALGORITHM_VERSION': '3.00', 'CHLA_AVE_OFFSET': '0', 'GRID_INTERVAL_UNIT': 'deg', 'PRODUCT_FILENAME': 'GC1SG1_20211211A01D_D0000_3MSG_CHLAF_3000.h5', 'system:asset_size': 51363, 'GRID_INTERVAL': '0.041666668', 'system:index': '20211211A'}}, {'type': 'Image', 'bands': [{'id': 'CHLA_AVE', 'data_type': {'type': 'PixelType', 'precision': 'int', 'min': 0, 'max': 65535}, 'dimensions': [8640, 4320], 'crs': 'EPSG:4326', 'crs_transform': [0.041666666666666664, 0, -180, 0, -0.041666666666666664, 90]}, {'id': 'CHLA_QA_flag', 'data_type': {'type': 'PixelType', 'precision': 'int', 'min': 0, 'max': 255}, 'dimensions': [8640, 4320], 'crs': 'EPSG:4326', 'crs_transform': [0.041666666666666664, 0, -180, 0, -0.041666666666666664, 90]}], 'id': 'JAXA/GCOM-C/L3/OCEAN/CHLA/V3/20211211D', 'version': 1639436826685865, 'properties': {'PROCESSING_RESULT': 'Good', 'system:time_end': 1639267200000, 'IMAGE_START_TIME': '2021-12-11T00:02:10.018000', 'CHLA_AVE_SLOPE': '0.0016', 'SATELLITE_DIRECTION': 'D', 'PRODUCT_VERSION': '3000', 'system:time_start': 1639180800000, 'IMAGE_END_TIME': '2021-12-12T00:01:17.494000', 'system:footprint': {'type': 'LinearRing', 'coordinates': [[-180, -90], [180, -90], [180, 90], [-180, 90], [-180, -90]]}, 'PROCESSING_UT': '2021-12-13T01:29:35', 'ALGORITHM_VERSION': '3.00', 'CHLA_AVE_OFFSET': '0', 'GRID_INTERVAL_UNIT': 'deg', 'PRODUCT_FILENAME': 'GC1SG1_20211211D01D_D0000_3MSG_CHLAF_3000.h5', 'system:asset_size': 9429802, 'GRID_INTERVAL': '0.041666668', 'system:index': '20211211D'}}, {'type': 'Image', 'bands': [{'id': 'CHLA_AVE', 'data_type': {'type': 'PixelType', 'precision': 'int', 'min': 0, 'max': 65535}, 'dimensions': [8640, 4320], 'crs': 'EPSG:4326', 'crs_transform': [0.041666666666666664, 0, -180, 0, -0.041666666666666664, 90]}, {'id': 'CHLA_QA_flag', 'data_type': {'type': 'PixelType', 'precision': 'int', 'min': 0, 'max': 255}, 'dimensions': [8640, 4320], 'crs': 'EPSG:4326', 'crs_transform': [0.041666666666666664, 0, -180, 0, -0.041666666666666664, 90]}], 'id': 'JAXA/GCOM-C/L3/OCEAN/CHLA/V3/20211212A', 'version': 1639545312415210.0, 'properties': {'PROCESSING_RESULT': 'Good', 'system:time_end': 1639353600000, 'IMAGE_START_TIME': '2021-12-12T00:04:54.575000', 'CHLA_AVE_SLOPE': '0', 'SATELLITE_DIRECTION': 'A', 'PRODUCT_VERSION': '3000', 'system:time_start': 1639267200000, 'IMAGE_END_TIME': '2021-12-12T23:46:09.597000', 'system:footprint': {'type': 'LinearRing', 'coordinates': [[-180, -90], [180, -90], [180, 90], [-180, 90], [-180, -90]]}, 'PROCESSING_UT': '2021-12-14T09:38:54', 'ALGORITHM_VERSION': '3.00', 'CHLA_AVE_OFFSET': '0', 'GRID_INTERVAL_UNIT': 'deg', 'PRODUCT_FILENAME': 'GC1SG1_20211212A01D_D0000_3MSG_CHLAF_3000.h5', 'system:asset_size': 51452, 'GRID_INTERVAL': '0.041666668', 'system:index': '20211212A'}}, {'type': 'Image', 'bands': [{'id': 'CHLA_AVE', 'data_type': {'type': 'PixelType', 'precision': 'int', 'min': 0, 'max': 65535}, 'dimensions': [8640, 4320], 'crs': 'EPSG:4326', 'crs_transform': [0.041666666666666664, 0, -180, 0, -0.041666666666666664, 90]}, {'id': 'CHLA_QA_flag', 'data_type': {'type': 'PixelType', 'precision': 'int', 'min': 0, 'max': 255}, 'dimensions': [8640, 4320], 'crs': 'EPSG:4326', 'crs_transform': [0.041666666666666664, 0, -180, 0, -0.041666666666666664, 90]}], 'id': 'JAXA/GCOM-C/L3/OCEAN/CHLA/V3/20211212D', 'version': 1639545517090679, 'properties': {'PROCESSING_RESULT': 'Good', 'system:time_end': 1639353600000, 'IMAGE_START_TIME': '2021-12-12T00:00:42.172000', 'CHLA_AVE_SLOPE': '0.0016', 'SATELLITE_DIRECTION': 'D', 'PRODUCT_VERSION': '3000', 'system:time_start': 1639267200000, 'IMAGE_END_TIME': '2021-12-12T23:38:47.635000', 'system:footprint': {'type': 'LinearRing', 'coordinates': [[-180, -90], [180, -90], [180, 90], [-180, 90], [-180, -90]]}, 'PROCESSING_UT': '2021-12-14T22:54:08', 'ALGORITHM_VERSION': '3.00', 'CHLA_AVE_OFFSET': '0', 'GRID_INTERVAL_UNIT': 'deg', 'PRODUCT_FILENAME': 'GC1SG1_20211212D01D_D0000_3MSG_CHLAF_3000.h5', 'system:asset_size': 9351632, 'GRID_INTERVAL': '0.041666668', 'system:index': '20211212D'}}, {'type': 'Image', 'bands': [{'id': 'CHLA_AVE', 'data_type': {'type': 'PixelType', 'precision': 'int', 'min': 0, 'max': 65535}, 'dimensions': [8640, 4320], 'crs': 'EPSG:4326', 'crs_transform': [0.041666666666666664, 0, -180, 0, -0.041666666666666664, 90]}, {'id': 'CHLA_QA_flag', 'data_type': {'type': 'PixelType', 'precision': 'int', 'min': 0, 'max': 255}, 'dimensions': [8640, 4320], 'crs': 'EPSG:4326', 'crs_transform': [0.041666666666666664, 0, -180, 0, -0.041666666666666664, 90]}], 'id': 'JAXA/GCOM-C/L3/OCEAN/CHLA/V3/20211213A', 'version': 1639610508231436, 'properties': {'PROCESSING_RESULT': 'Good', 'system:time_end': 1639440000000, 'IMAGE_START_TIME': '2021-12-13T01:19:09.388000', 'CHLA_AVE_SLOPE': '0', 'SATELLITE_DIRECTION': 'A', 'PRODUCT_VERSION': '3000', 'system:time_start': 1639353600000, 'IMAGE_END_TIME': '2021-12-13T23:19:27.628000', 'system:footprint': {'type': 'LinearRing', 'coordinates': [[-180, -90], [180, -90], [180, 90], [-180, 90], [-180, -90]]}, 'PROCESSING_UT': '2021-12-15T00:19:33', 'ALGORITHM_VERSION': '3.00', 'CHLA_AVE_OFFSET': '0', 'GRID_INTERVAL_UNIT': 'deg', 'PRODUCT_FILENAME': 'GC1SG1_20211213A01D_D0000_3MSG_CHLAF_3000.h5', 'system:asset_size': 51534, 'GRID_INTERVAL': '0.041666668', 'system:index': '20211213A'}}, {'type': 'Image', 'bands': [{'id': 'CHLA_AVE', 'data_type': {'type': 'PixelType', 'precision': 'int', 'min': 0, 'max': 65535}, 'dimensions': [8640, 4320], 'crs': 'EPSG:4326', 'crs_transform': [0.041666666666666664, 0, -180, 0, -0.041666666666666664, 90]}, {'id': 'CHLA_QA_flag', 'data_type': {'type': 'PixelType', 'precision': 'int', 'min': 0, 'max': 255}, 'dimensions': [8640, 4320], 'crs': 'EPSG:4326', 'crs_transform': [0.041666666666666664, 0, -180, 0, -0.041666666666666664, 90]}], 'id': 'JAXA/GCOM-C/L3/OCEAN/CHLA/V3/20211213D', 'version': 1639609929156901, 'properties': {'PROCESSING_RESULT': 'Good', 'system:time_end': 1639440000000, 'IMAGE_START_TIME': '2021-12-13T00:32:04.394000', 'CHLA_AVE_SLOPE': '0.0016', 'SATELLITE_DIRECTION': 'D', 'PRODUCT_VERSION': '3000', 'system:time_start': 1639353600000, 'IMAGE_END_TIME': '2021-12-13T23:12:05.519000', 'system:footprint': {'type': 'LinearRing', 'coordinates': [[-180, -90], [180, -90], [180, 90], [-180, 90], [-180, -90]]}, 'PROCESSING_UT': '2021-12-15T00:37:05', 'ALGORITHM_VERSION': '3.00', 'CHLA_AVE_OFFSET': '0', 'GRID_INTERVAL_UNIT': 'deg', 'PRODUCT_FILENAME': 'GC1SG1_20211213D01D_D0000_3MSG_CHLAF_3000.h5', 'system:asset_size': 9532322, 'GRID_INTERVAL': '0.041666668', 'system:index': '20211213D'}}, {'type': 'Image', 'bands': [{'id': 'CHLA_AVE', 'data_type': {'type': 'PixelType', 'precision': 'int', 'min': 0, 'max': 65535}, 'dimensions': [8640, 4320], 'crs': 'EPSG:4326', 'crs_transform': [0.041666666666666664, 0, -180, 0, -0.041666666666666664, 90]}, {'id': 'CHLA_QA_flag', 'data_type': {'type': 'PixelType', 'precision': 'int', 'min': 0, 'max': 255}, 'dimensions': [8640, 4320], 'crs': 'EPSG:4326', 'crs_transform': [0.041666666666666664, 0, -180, 0, -0.041666666666666664, 90]}], 'id': 'JAXA/GCOM-C/L3/OCEAN/CHLA/V3/20211214A', 'version': 1639692191016914, 'properties': {'PROCESSING_RESULT': 'Good', 'system:time_end': 1639526400000, 'IMAGE_START_TIME': '2021-12-14T00:52:27.267000', 'CHLA_AVE_SLOPE': '0', 'SATELLITE_DIRECTION': 'A', 'PRODUCT_VERSION': '3000', 'system:time_start': 1639440000000, 'IMAGE_END_TIME': '2021-12-14T22:52:43.290000', 'system:footprint': {'type': 'LinearRing', 'coordinates': [[-180, -90], [180, -90], [180, 90], [-180, 90], [-180, -90]]}, 'PROCESSING_UT': '2021-12-15T23:54:21', 'ALGORITHM_VERSION': '3.00', 'CHLA_AVE_OFFSET': '0', 'GRID_INTERVAL_UNIT': 'deg', 'PRODUCT_FILENAME': 'GC1SG1_20211214A01D_D0000_3MSG_CHLAF_3000.h5', 'system:asset_size': 51543, 'GRID_INTERVAL': '0.041666668', 'system:index': '20211214A'}}, {'type': 'Image', 'bands': [{'id': 'CHLA_AVE', 'data_type': {'type': 'PixelType', 'precision': 'int', 'min': 0, 'max': 65535}, 'dimensions': [8640, 4320], 'crs': 'EPSG:4326', 'crs_transform': [0.041666666666666664, 0, -180, 0, -0.041666666666666664, 90]}, {'id': 'CHLA_QA_flag', 'data_type': {'type': 'PixelType', 'precision': 'int', 'min': 0, 'max': 255}, 'dimensions': [8640, 4320], 'crs': 'EPSG:4326', 'crs_transform': [0.041666666666666664, 0, -180, 0, -0.041666666666666664, 90]}], 'id': 'JAXA/GCOM-C/L3/OCEAN/CHLA/V3/20211214D', 'version': 1639692479482896, 'properties': {'PROCESSING_RESULT': 'Good', 'system:time_end': 1639526400000, 'IMAGE_START_TIME': '2021-12-14T00:05:22.420000', 'CHLA_AVE_SLOPE': '0.0016', 'SATELLITE_DIRECTION': 'D', 'PRODUCT_VERSION': '3000', 'system:time_start': 1639440000000, 'IMAGE_END_TIME': '2021-12-15T00:01:06.037000', 'system:footprint': {'type': 'LinearRing', 'coordinates': [[-180, -90], [180, -90], [180, 90], [-180, 90], [-180, -90]]}, 'PROCESSING_UT': '2021-12-16T01:52:32', 'ALGORITHM_VERSION': '3.00', 'CHLA_AVE_OFFSET': '0', 'GRID_INTERVAL_UNIT': 'deg', 'PRODUCT_FILENAME': 'GC1SG1_20211214D01D_D0000_3MSG_CHLAF_3000.h5', 'system:asset_size': 9700973, 'GRID_INTERVAL': '0.041666668', 'system:index': '20211214D'}}, {'type': 'Image', 'bands': [{'id': 'CHLA_AVE', 'data_type': {'type': 'PixelType', 'precision': 'int', 'min': 0, 'max': 65535}, 'dimensions': [8640, 4320], 'crs': 'EPSG:4326', 'crs_transform': [0.041666666666666664, 0, -180, 0, -0.041666666666666664, 90]}, {'id': 'CHLA_QA_flag', 'data_type': {'type': 'PixelType', 'precision': 'int', 'min': 0, 'max': 255}, 'dimensions': [8640, 4320], 'crs': 'EPSG:4326', 'crs_transform': [0.041666666666666664, 0, -180, 0, -0.041666666666666664, 90]}], 'id': 'JAXA/GCOM-C/L3/OCEAN/CHLA/V3/20211215A', 'version': 1639781105893694, 'properties': {'PROCESSING_RESULT': 'Good', 'system:time_end': 1639612800000, 'IMAGE_START_TIME': '2021-12-15T00:25:45.130000', 'CHLA_AVE_SLOPE': '0', 'SATELLITE_DIRECTION': 'A', 'PRODUCT_VERSION': '3000', 'system:time_start': 1639526400000, 'IMAGE_END_TIME': '2021-12-16T00:00:33.206000', 'system:footprint': {'type': 'LinearRing', 'coordinates': [[-180, -90], [180, -90], [180, 90], [-180, 90], [-180, -90]]}, 'PROCESSING_UT': '2021-12-17T01:08:11', 'ALGORITHM_VERSION': '3.00', 'CHLA_AVE_OFFSET': '0', 'GRID_INTERVAL_UNIT': 'deg', 'PRODUCT_FILENAME': 'GC1SG1_20211215A01D_D0000_3MSG_CHLAF_3000.h5', 'system:asset_size': 49611, 'GRID_INTERVAL': '0.041666668', 'system:index': '20211215A'}}, {'type': 'Image', 'bands': [{'id': 'CHLA_AVE', 'data_type': {'type': 'PixelType', 'precision': 'int', 'min': 0, 'max': 65535}, 'dimensions': [8640, 4320], 'crs': 'EPSG:4326', 'crs_transform': [0.041666666666666664, 0, -180, 0, -0.041666666666666664, 90]}, {'id': 'CHLA_QA_flag', 'data_type': {'type': 'PixelType', 'precision': 'int', 'min': 0, 'max': 255}, 'dimensions': [8640, 4320], 'crs': 'EPSG:4326', 'crs_transform': [0.041666666666666664, 0, -180, 0, -0.041666666666666664, 90]}], 'id': 'JAXA/GCOM-C/L3/OCEAN/CHLA/V3/20211215D', 'version': 1639780860263515, 'properties': {'PROCESSING_RESULT': 'Good', 'system:time_end': 1639612800000, 'IMAGE_START_TIME': '2021-12-15T00:00:30.863000', 'CHLA_AVE_SLOPE': '0.0016', 'SATELLITE_DIRECTION': 'D', 'PRODUCT_VERSION': '3000', 'system:time_start': 1639526400000, 'IMAGE_END_TIME': '2021-12-15T23:59:38.163000', 'system:footprint': {'type': 'LinearRing', 'coordinates': [[-180, -90], [180, -90], [180, 90], [-180, 90], [-180, -90]]}, 'PROCESSING_UT': '2021-12-17T01:27:02', 'ALGORITHM_VERSION': '3.00', 'CHLA_AVE_OFFSET': '0', 'GRID_INTERVAL_UNIT': 'deg', 'PRODUCT_FILENAME': 'GC1SG1_20211215D01D_D0000_3MSG_CHLAF_3000.h5', 'system:asset_size': 9842066, 'GRID_INTERVAL': '0.041666668', 'system:index': '20211215D'}}, {'type': 'Image', 'bands': [{'id': 'CHLA_AVE', 'data_type': {'type': 'PixelType', 'precision': 'int', 'min': 0, 'max': 65535}, 'dimensions': [8640, 4320], 'crs': 'EPSG:4326', 'crs_transform': [0.041666666666666664, 0, -180, 0, -0.041666666666666664, 90]}, {'id': 'CHLA_QA_flag', 'data_type': {'type': 'PixelType', 'precision': 'int', 'min': 0, 'max': 255}, 'dimensions': [8640, 4320], 'crs': 'EPSG:4326', 'crs_transform': [0.041666666666666664, 0, -180, 0, -0.041666666666666664, 90]}], 'id': 'JAXA/GCOM-C/L3/OCEAN/CHLA/V3/20211216A', 'version': 1639868385836007, 'properties': {'PROCESSING_RESULT': 'Good', 'system:time_end': 1639699200000, 'IMAGE_START_TIME': '2021-12-15T23:59:56.560000', 'CHLA_AVE_SLOPE': '0', 'SATELLITE_DIRECTION': 'A', 'PRODUCT_VERSION': '3000', 'system:time_start': 1639612800000, 'IMAGE_END_TIME': '2021-12-16T23:40:20.630000', 'system:footprint': {'type': 'LinearRing', 'coordinates': [[-180, -90], [180, -90], [180, 90], [-180, 90], [-180, -90]]}, 'PROCESSING_UT': '2021-12-18T00:40:13', 'ALGORITHM_VERSION': '3.00', 'CHLA_AVE_OFFSET': '0', 'GRID_INTERVAL_UNIT': 'deg', 'PRODUCT_FILENAME': 'GC1SG1_20211216A01D_D0000_3MSG_CHLAF_3000.h5', 'system:asset_size': 51998, 'GRID_INTERVAL': '0.041666668', 'system:index': '20211216A'}}, {'type': 'Image', 'bands': [{'id': 'CHLA_AVE', 'data_type': {'type': 'PixelType', 'precision': 'int', 'min': 0, 'max': 65535}, 'dimensions': [8640, 4320], 'crs': 'EPSG:4326', 'crs_transform': [0.041666666666666664, 0, -180, 0, -0.041666666666666664, 90]}, {'id': 'CHLA_QA_flag', 'data_type': {'type': 'PixelType', 'precision': 'int', 'min': 0, 'max': 255}, 'dimensions': [8640, 4320], 'crs': 'EPSG:4326', 'crs_transform': [0.041666666666666664, 0, -180, 0, -0.041666666666666664, 90]}], 'id': 'JAXA/GCOM-C/L3/OCEAN/CHLA/V3/20211216D', 'version': 1639868136472416, 'properties': {'PROCESSING_RESULT': 'Good', 'system:time_end': 1639699200000, 'IMAGE_START_TIME': '2021-12-16T00:52:51.386000', 'CHLA_AVE_SLOPE': '0.0016', 'SATELLITE_DIRECTION': 'D', 'PRODUCT_VERSION': '3000', 'system:time_start': 1639612800000, 'IMAGE_END_TIME': '2021-12-16T23:32:56.019000', 'system:footprint': {'type': 'LinearRing', 'coordinates': [[-180, -90], [180, -90], [180, 90], [-180, 90], [-180, -90]]}, 'PROCESSING_UT': '2021-12-18T00:58:58', 'ALGORITHM_VERSION': '3.00', 'CHLA_AVE_OFFSET': '0', 'GRID_INTERVAL_UNIT': 'deg', 'PRODUCT_FILENAME': 'GC1SG1_20211216D01D_D0000_3MSG_CHLAF_3000.h5', 'system:asset_size': 9815267, 'GRID_INTERVAL': '0.041666668', 'system:index': '20211216D'}}, {'type': 'Image', 'bands': [{'id': 'CHLA_AVE', 'data_type': {'type': 'PixelType', 'precision': 'int', 'min': 0, 'max': 65535}, 'dimensions': [8640, 4320], 'crs': 'EPSG:4326', 'crs_transform': [0.041666666666666664, 0, -180, 0, -0.041666666666666664, 90]}, {'id': 'CHLA_QA_flag', 'data_type': {'type': 'PixelType', 'precision': 'int', 'min': 0, 'max': 255}, 'dimensions': [8640, 4320], 'crs': 'EPSG:4326', 'crs_transform': [0.041666666666666664, 0, -180, 0, -0.041666666666666664, 90]}], 'id': 'JAXA/GCOM-C/L3/OCEAN/CHLA/V3/20211217A', 'version': 1639951190679669, 'properties': {'PROCESSING_RESULT': 'Good', 'system:time_end': 1639785600000, 'IMAGE_START_TIME': '2021-12-17T01:13:17.769000', 'CHLA_AVE_SLOPE': '0', 'SATELLITE_DIRECTION': 'A', 'PRODUCT_VERSION': '3000', 'system:time_start': 1639699200000, 'IMAGE_END_TIME': '2021-12-17T23:13:38.626000', 'system:footprint': {'type': 'LinearRing', 'coordinates': [[-180, -90], [180, -90], [180, 90], [-180, 90], [-180, -90]]}, 'PROCESSING_UT': '2021-12-19T02:00:40', 'ALGORITHM_VERSION': '3.00', 'CHLA_AVE_OFFSET': '0', 'GRID_INTERVAL_UNIT': 'deg', 'PRODUCT_FILENAME': 'GC1SG1_20211217A01D_D0000_3MSG_CHLAF_3000.h5', 'system:asset_size': 55601, 'GRID_INTERVAL': '0.041666668', 'system:index': '20211217A'}}, {'type': 'Image', 'bands': [{'id': 'CHLA_AVE', 'data_type': {'type': 'PixelType', 'precision': 'int', 'min': 0, 'max': 65535}, 'dimensions': [8640, 4320], 'crs': 'EPSG:4326', 'crs_transform': [0.041666666666666664, 0, -180, 0, -0.041666666666666664, 90]}, {'id': 'CHLA_QA_flag', 'data_type': {'type': 'PixelType', 'precision': 'int', 'min': 0, 'max': 255}, 'dimensions': [8640, 4320], 'crs': 'EPSG:4326', 'crs_transform': [0.041666666666666664, 0, -180, 0, -0.041666666666666664, 90]}], 'id': 'JAXA/GCOM-C/L3/OCEAN/CHLA/V3/20211217D', 'version': 1639951356120216, 'properties': {'PROCESSING_RESULT': 'Good', 'system:time_end': 1639785600000, 'IMAGE_START_TIME': '2021-12-17T00:26:08.213000', 'CHLA_AVE_SLOPE': '0.0016', 'SATELLITE_DIRECTION': 'D', 'PRODUCT_VERSION': '3000', 'system:time_start': 1639699200000, 'IMAGE_END_TIME': '2021-12-18T00:00:54.654000', 'system:footprint': {'type': 'LinearRing', 'coordinates': [[-180, -90], [180, -90], [180, 90], [-180, 90], [-180, -90]]}, 'PROCESSING_UT': '2021-12-19T02:07:56', 'ALGORITHM_VERSION': '3.00', 'CHLA_AVE_OFFSET': '0', 'GRID_INTERVAL_UNIT': 'deg', 'PRODUCT_FILENAME': 'GC1SG1_20211217D01D_D0000_3MSG_CHLAF_3000.h5', 'system:asset_size': 9600370, 'GRID_INTERVAL': '0.041666668', 'system:index': '20211217D'}}, {'type': 'Image', 'bands': [{'id': 'CHLA_AVE', 'data_type': {'type': 'PixelType', 'precision': 'int', 'min': 0, 'max': 65535}, 'dimensions': [8640, 4320], 'crs': 'EPSG:4326', 'crs_transform': [0.041666666666666664, 0, -180, 0, -0.041666666666666664, 90]}, {'id': 'CHLA_QA_flag', 'data_type': {'type': 'PixelType', 'precision': 'int', 'min': 0, 'max': 255}, 'dimensions': [8640, 4320], 'crs': 'EPSG:4326', 'crs_transform': [0.041666666666666664, 0, -180, 0, -0.041666666666666664, 90]}], 'id': 'JAXA/GCOM-C/L3/OCEAN/CHLA/V3/20211218A', 'version': 1640047462856230.0, 'properties': {'PROCESSING_RESULT': 'Good', 'system:time_end': 1639872000000, 'IMAGE_START_TIME': '2021-12-18T00:46:35.612000', 'CHLA_AVE_SLOPE': '0', 'SATELLITE_DIRECTION': 'A', 'PRODUCT_VERSION': '3000', 'system:time_start': 1639785600000, 'IMAGE_END_TIME': '2021-12-18T22:46:57.337000', 'system:footprint': {'type': 'LinearRing', 'coordinates': [[-180, -90], [180, -90], [180, 90], [-180, 90], [-180, -90]]}, 'PROCESSING_UT': '2021-12-19T23:50:21', 'ALGORITHM_VERSION': '3.00', 'CHLA_AVE_OFFSET': '0', 'GRID_INTERVAL_UNIT': 'deg', 'PRODUCT_FILENAME': 'GC1SG1_20211218A01D_D0000_3MSG_CHLAF_3000.h5', 'system:asset_size': 51620, 'GRID_INTERVAL': '0.041666668', 'system:index': '20211218A'}}, {'type': 'Image', 'bands': [{'id': 'CHLA_AVE', 'data_type': {'type': 'PixelType', 'precision': 'int', 'min': 0, 'max': 65535}, 'dimensions': [8640, 4320], 'crs': 'EPSG:4326', 'crs_transform': [0.041666666666666664, 0, -180, 0, -0.041666666666666664, 90]}, {'id': 'CHLA_QA_flag', 'data_type': {'type': 'PixelType', 'precision': 'int', 'min': 0, 'max': 255}, 'dimensions': [8640, 4320], 'crs': 'EPSG:4326', 'crs_transform': [0.041666666666666664, 0, -180, 0, -0.041666666666666664, 90]}], 'id': 'JAXA/GCOM-C/L3/OCEAN/CHLA/V3/20211218D', 'version': 1640047240635075, 'properties': {'PROCESSING_RESULT': 'Good', 'system:time_end': 1639872000000, 'IMAGE_START_TIME': '2021-12-18T00:00:19.480000', 'CHLA_AVE_SLOPE': '0.0016', 'SATELLITE_DIRECTION': 'D', 'PRODUCT_VERSION': '3000', 'system:time_start': 1639785600000, 'IMAGE_END_TIME': '2021-12-19T00:03:39', 'system:footprint': {'type': 'LinearRing', 'coordinates': [[-180, -90], [180, -90], [180, 90], [-180, 90], [-180, -90]]}, 'PROCESSING_UT': '2021-12-20T01:48:51', 'ALGORITHM_VERSION': '3.00', 'CHLA_AVE_OFFSET': '0', 'GRID_INTERVAL_UNIT': 'deg', 'PRODUCT_FILENAME': 'GC1SG1_20211218D01D_D0000_3MSG_CHLAF_3000.h5', 'system:asset_size': 9890481, 'GRID_INTERVAL': '0.041666668', 'system:index': '20211218D'}}, {'type': 'Image', 'bands': [{'id': 'CHLA_AVE', 'data_type': {'type': 'PixelType', 'precision': 'int', 'min': 0, 'max': 65535}, 'dimensions': [8640, 4320], 'crs': 'EPSG:4326', 'crs_transform': [0.041666666666666664, 0, -180, 0, -0.041666666666666664, 90]}, {'id': 'CHLA_QA_flag', 'data_type': {'type': 'PixelType', 'precision': 'int', 'min': 0, 'max': 255}, 'dimensions': [8640, 4320], 'crs': 'EPSG:4326', 'crs_transform': [0.041666666666666664, 0, -180, 0, -0.041666666666666664, 90]}], 'id': 'JAXA/GCOM-C/L3/OCEAN/CHLA/V3/20211219A', 'version': 1640124006131998, 'properties': {'PROCESSING_RESULT': 'Good', 'system:time_end': 1639958400000, 'IMAGE_START_TIME': '2021-12-19T00:19:53.435000', 'CHLA_AVE_SLOPE': '0', 'SATELLITE_DIRECTION': 'A', 'PRODUCT_VERSION': '3000', 'system:time_start': 1639872000000, 'IMAGE_END_TIME': '2021-12-20T00:01:10.592000', 'system:footprint': {'type': 'LinearRing', 'coordinates': [[-180, -90], [180, -90], [180, 90], [-180, 90], [-180, -90]]}, 'PROCESSING_UT': '2021-12-21T03:30:32', 'ALGORITHM_VERSION': '3.00', 'CHLA_AVE_OFFSET': '0', 'GRID_INTERVAL_UNIT': 'deg', 'PRODUCT_FILENAME': 'GC1SG1_20211219A01D_D0000_3MSG_CHLAF_3000.h5', 'system:asset_size': 61306, 'GRID_INTERVAL': '0.041666668', 'system:index': '20211219A'}}, {'type': 'Image', 'bands': [{'id': 'CHLA_AVE', 'data_type': {'type': 'PixelType', 'precision': 'int', 'min': 0, 'max': 65535}, 'dimensions': [8640, 4320], 'crs': 'EPSG:4326', 'crs_transform': [0.041666666666666664, 0, -180, 0, -0.041666666666666664, 90]}, {'id': 'CHLA_QA_flag', 'data_type': {'type': 'PixelType', 'precision': 'int', 'min': 0, 'max': 255}, 'dimensions': [8640, 4320], 'crs': 'EPSG:4326', 'crs_transform': [0.041666666666666664, 0, -180, 0, -0.041666666666666664, 90]}], 'id': 'JAXA/GCOM-C/L3/OCEAN/CHLA/V3/20211219D', 'version': 1640124182218345, 'properties': {'PROCESSING_RESULT': 'Good', 'system:time_end': 1639958400000, 'IMAGE_START_TIME': '2021-12-19T00:03:03.825000', 'CHLA_AVE_SLOPE': '0.0016', 'SATELLITE_DIRECTION': 'D', 'PRODUCT_VERSION': '3000', 'system:time_start': 1639872000000, 'IMAGE_END_TIME': '2021-12-19T23:53:46.423000', 'system:footprint': {'type': 'LinearRing', 'coordinates': [[-180, -90], [180, -90], [180, 90], [-180, 90], [-180, -90]]}, 'PROCESSING_UT': '2021-12-21T01:50:11', 'ALGORITHM_VERSION': '3.00', 'CHLA_AVE_OFFSET': '0', 'GRID_INTERVAL_UNIT': 'deg', 'PRODUCT_FILENAME': 'GC1SG1_20211219D01D_D0000_3MSG_CHLAF_3000.h5', 'system:asset_size': 9552828, 'GRID_INTERVAL': '0.041666668', 'system:index': '20211219D'}}, {'type': 'Image', 'bands': [{'id': 'CHLA_AVE', 'data_type': {'type': 'PixelType', 'precision': 'int', 'min': 0, 'max': 65535}, 'dimensions': [8640, 4320], 'crs': 'EPSG:4326', 'crs_transform': [0.041666666666666664, 0, -180, 0, -0.041666666666666664, 90]}, {'id': 'CHLA_QA_flag', 'data_type': {'type': 'PixelType', 'precision': 'int', 'min': 0, 'max': 255}, 'dimensions': [8640, 4320], 'crs': 'EPSG:4326', 'crs_transform': [0.041666666666666664, 0, -180, 0, -0.041666666666666664, 90]}], 'id': 'JAXA/GCOM-C/L3/OCEAN/CHLA/V3/20211220A', 'version': 1640225951969769, 'properties': {'PROCESSING_RESULT': 'Good', 'system:time_end': 1640044800000, 'IMAGE_START_TIME': '2021-12-20T01:34:08.169000', 'CHLA_AVE_SLOPE': '0', 'SATELLITE_DIRECTION': 'A', 'PRODUCT_VERSION': '3000', 'system:time_start': 1639958400000, 'IMAGE_END_TIME': '2021-12-20T23:34:31.634000', 'system:footprint': {'type': 'LinearRing', 'coordinates': [[-180, -90], [180, -90], [180, 90], [-180, 90], [-180, -90]]}, 'PROCESSING_UT': '2021-12-21T23:41:02', 'ALGORITHM_VERSION': '3.00', 'CHLA_AVE_OFFSET': '0', 'GRID_INTERVAL_UNIT': 'deg', 'PRODUCT_FILENAME': 'GC1SG1_20211220A01D_D0000_3MSG_CHLAF_3000.h5', 'system:asset_size': 51908, 'GRID_INTERVAL': '0.041666668', 'system:index': '20211220A'}}, {'type': 'Image', 'bands': [{'id': 'CHLA_AVE', 'data_type': {'type': 'PixelType', 'precision': 'int', 'min': 0, 'max': 65535}, 'dimensions': [8640, 4320], 'crs': 'EPSG:4326', 'crs_transform': [0.041666666666666664, 0, -180, 0, -0.041666666666666664, 90]}, {'id': 'CHLA_QA_flag', 'data_type': {'type': 'PixelType', 'precision': 'int', 'min': 0, 'max': 255}, 'dimensions': [8640, 4320], 'crs': 'EPSG:4326', 'crs_transform': [0.041666666666666664, 0, -180, 0, -0.041666666666666664, 90]}], 'id': 'JAXA/GCOM-C/L3/OCEAN/CHLA/V3/20211220D', 'version': 1640226086954014, 'properties': {'PROCESSING_RESULT': 'Good', 'system:time_end': 1640044800000, 'IMAGE_START_TIME': '2021-12-20T00:47:02.439000', 'CHLA_AVE_SLOPE': '0.0016', 'SATELLITE_DIRECTION': 'D', 'PRODUCT_VERSION': '3000', 'system:time_start': 1639958400000, 'IMAGE_END_TIME': '2021-12-20T23:27:04.227000', 'system:footprint': {'type': 'LinearRing', 'coordinates': [[-180, -90], [180, -90], [180, 90], [-180, 90], [-180, -90]]}, 'PROCESSING_UT': '2021-12-22T00:57:25', 'ALGORITHM_VERSION': '3.00', 'CHLA_AVE_OFFSET': '0', 'GRID_INTERVAL_UNIT': 'deg', 'PRODUCT_FILENAME': 'GC1SG1_20211220D01D_D0000_3MSG_CHLAF_3000.h5', 'system:asset_size': 9756277, 'GRID_INTERVAL': '0.041666668', 'system:index': '20211220D'}}, {'type': 'Image', 'bands': [{'id': 'CHLA_AVE', 'data_type': {'type': 'PixelType', 'precision': 'int', 'min': 0, 'max': 65535}, 'dimensions': [8640, 4320], 'crs': 'EPSG:4326', 'crs_transform': [0.041666666666666664, 0, -180, 0, -0.041666666666666664, 90]}, {'id': 'CHLA_QA_flag', 'data_type': {'type': 'PixelType', 'precision': 'int', 'min': 0, 'max': 255}, 'dimensions': [8640, 4320], 'crs': 'EPSG:4326', 'crs_transform': [0.041666666666666664, 0, -180, 0, -0.041666666666666664, 90]}], 'id': 'JAXA/GCOM-C/L3/OCEAN/CHLA/V3/20211221A', 'version': 1640296425444806, 'properties': {'PROCESSING_RESULT': 'Good', 'system:time_end': 1640131200000, 'IMAGE_START_TIME': '2021-12-21T01:07:25.972000', 'CHLA_AVE_SLOPE': '0', 'SATELLITE_DIRECTION': 'A', 'PRODUCT_VERSION': '3000', 'system:time_start': 1640044800000, 'IMAGE_END_TIME': '2021-12-21T23:07:46.625000', 'system:footprint': {'type': 'LinearRing', 'coordinates': [[-180, -90], [180, -90], [180, 90], [-180, 90], [-180, -90]]}, 'PROCESSING_UT': '2021-12-23T01:55:45', 'ALGORITHM_VERSION': '3.00', 'CHLA_AVE_OFFSET': '0', 'GRID_INTERVAL_UNIT': 'deg', 'PRODUCT_FILENAME': 'GC1SG1_20211221A01D_D0000_3MSG_CHLAF_3000.h5', 'system:asset_size': 51288, 'GRID_INTERVAL': '0.041666668', 'system:index': '20211221A'}}, {'type': 'Image', 'bands': [{'id': 'CHLA_AVE', 'data_type': {'type': 'PixelType', 'precision': 'int', 'min': 0, 'max': 65535}, 'dimensions': [8640, 4320], 'crs': 'EPSG:4326', 'crs_transform': [0.041666666666666664, 0, -180, 0, -0.041666666666666664, 90]}, {'id': 'CHLA_QA_flag', 'data_type': {'type': 'PixelType', 'precision': 'int', 'min': 0, 'max': 255}, 'dimensions': [8640, 4320], 'crs': 'EPSG:4326', 'crs_transform': [0.041666666666666664, 0, -180, 0, -0.041666666666666664, 90]}], 'id': 'JAXA/GCOM-C/L3/OCEAN/CHLA/V3/20211221D', 'version': 1640296211228852, 'properties': {'PROCESSING_RESULT': 'Good', 'system:time_end': 1640131200000, 'IMAGE_START_TIME': '2021-12-21T00:20:19.212000', 'CHLA_AVE_SLOPE': '0.0016', 'SATELLITE_DIRECTION': 'D', 'PRODUCT_VERSION': '3000', 'system:time_start': 1640044800000, 'IMAGE_END_TIME': '2021-12-22T00:01:42.664000', 'system:footprint': {'type': 'LinearRing', 'coordinates': [[-180, -90], [180, -90], [180, 90], [-180, 90], [-180, -90]]}, 'PROCESSING_UT': '2021-12-23T02:02:23', 'ALGORITHM_VERSION': '3.00', 'CHLA_AVE_OFFSET': '0', 'GRID_INTERVAL_UNIT': 'deg', 'PRODUCT_FILENAME': 'GC1SG1_20211221D01D_D0000_3MSG_CHLAF_3000.h5', 'system:asset_size': 9643796, 'GRID_INTERVAL': '0.041666668', 'system:index': '20211221D'}}, {'type': 'Image', 'bands': [{'id': 'CHLA_AVE', 'data_type': {'type': 'PixelType', 'precision': 'int', 'min': 0, 'max': 65535}, 'dimensions': [8640, 4320], 'crs': 'EPSG:4326', 'crs_transform': [0.041666666666666664, 0, -180, 0, -0.041666666666666664, 90]}, {'id': 'CHLA_QA_flag', 'data_type': {'type': 'PixelType', 'precision': 'int', 'min': 0, 'max': 255}, 'dimensions': [8640, 4320], 'crs': 'EPSG:4326', 'crs_transform': [0.041666666666666664, 0, -180, 0, -0.041666666666666664, 90]}], 'id': 'JAXA/GCOM-C/L3/OCEAN/CHLA/V3/20211222A', 'version': 1640379045768611, 'properties': {'PROCESSING_RESULT': 'Good', 'system:time_end': 1640217600000, 'IMAGE_START_TIME': '2021-12-22T00:40:43.752000', 'CHLA_AVE_SLOPE': '0', 'SATELLITE_DIRECTION': 'A', 'PRODUCT_VERSION': '3000', 'system:time_start': 1640131200000, 'IMAGE_END_TIME': '2021-12-22T22:41:06.448000', 'system:footprint': {'type': 'LinearRing', 'coordinates': [[-180, -90], [180, -90], [180, 90], [-180, 90], [-180, -90]]}, 'PROCESSING_UT': '2021-12-24T01:26:14', 'ALGORITHM_VERSION': '3.00', 'CHLA_AVE_OFFSET': '0', 'GRID_INTERVAL_UNIT': 'deg', 'PRODUCT_FILENAME': 'GC1SG1_20211222A01D_D0000_3MSG_CHLAF_3000.h5', 'system:asset_size': 51934, 'GRID_INTERVAL': '0.041666668', 'system:index': '20211222A'}}, {'type': 'Image', 'bands': [{'id': 'CHLA_AVE', 'data_type': {'type': 'PixelType', 'precision': 'int', 'min': 0, 'max': 65535}, 'dimensions': [8640, 4320], 'crs': 'EPSG:4326', 'crs_transform': [0.041666666666666664, 0, -180, 0, -0.041666666666666664, 90]}, {'id': 'CHLA_QA_flag', 'data_type': {'type': 'PixelType', 'precision': 'int', 'min': 0, 'max': 255}, 'dimensions': [8640, 4320], 'crs': 'EPSG:4326', 'crs_transform': [0.041666666666666664, 0, -180, 0, -0.041666666666666664, 90]}], 'id': 'JAXA/GCOM-C/L3/OCEAN/CHLA/V3/20211222D', 'version': 1640379056466738, 'properties': {'PROCESSING_RESULT': 'Good', 'system:time_end': 1640217600000, 'IMAGE_START_TIME': '2021-12-22T00:01:07.490000', 'CHLA_AVE_SLOPE': '0.0016', 'SATELLITE_DIRECTION': 'D', 'PRODUCT_VERSION': '3000', 'system:time_start': 1640131200000, 'IMAGE_END_TIME': '2021-12-23T00:01:59.477000', 'system:footprint': {'type': 'LinearRing', 'coordinates': [[-180, -90], [180, -90], [180, 90], [-180, 90], [-180, -90]]}, 'PROCESSING_UT': '2021-12-24T01:42:29', 'ALGORITHM_VERSION': '3.00', 'CHLA_AVE_OFFSET': '0', 'GRID_INTERVAL_UNIT': 'deg', 'PRODUCT_FILENAME': 'GC1SG1_20211222D01D_D0000_3MSG_CHLAF_3000.h5', 'system:asset_size': 9932083, 'GRID_INTERVAL': '0.041666668', 'system:index': '20211222D'}}, {'type': 'Image', 'bands': [{'id': 'CHLA_AVE', 'data_type': {'type': 'PixelType', 'precision': 'int', 'min': 0, 'max': 65535}, 'dimensions': [8640, 4320], 'crs': 'EPSG:4326', 'crs_transform': [0.041666666666666664, 0, -180, 0, -0.041666666666666664, 90]}, {'id': 'CHLA_QA_flag', 'data_type': {'type': 'PixelType', 'precision': 'int', 'min': 0, 'max': 255}, 'dimensions': [8640, 4320], 'crs': 'EPSG:4326', 'crs_transform': [0.041666666666666664, 0, -180, 0, -0.041666666666666664, 90]}], 'id': 'JAXA/GCOM-C/L3/OCEAN/CHLA/V3/20211223A', 'version': 1640467477971158, 'properties': {'PROCESSING_RESULT': 'Good', 'system:time_end': 1640304000000, 'IMAGE_START_TIME': '2021-12-23T00:14:01.510000', 'CHLA_AVE_SLOPE': '0', 'SATELLITE_DIRECTION': 'A', 'PRODUCT_VERSION': '3000', 'system:time_start': 1640217600000, 'IMAGE_END_TIME': '2021-12-23T23:55:18.599000', 'system:footprint': {'type': 'LinearRing', 'coordinates': [[-180, -90], [180, -90], [180, 90], [-180, 90], [-180, -90]]}, 'PROCESSING_UT': '2021-12-25T00:57:58', 'ALGORITHM_VERSION': '3.00', 'CHLA_AVE_OFFSET': '0', 'GRID_INTERVAL_UNIT': 'deg', 'PRODUCT_FILENAME': 'GC1SG1_20211223A01D_D0000_3MSG_CHLAF_3000.h5', 'system:asset_size': 52177, 'GRID_INTERVAL': '0.041666668', 'system:index': '20211223A'}}, {'type': 'Image', 'bands': [{'id': 'CHLA_AVE', 'data_type': {'type': 'PixelType', 'precision': 'int', 'min': 0, 'max': 65535}, 'dimensions': [8640, 4320], 'crs': 'EPSG:4326', 'crs_transform': [0.041666666666666664, 0, -180, 0, -0.041666666666666664, 90]}, {'id': 'CHLA_QA_flag', 'data_type': {'type': 'PixelType', 'precision': 'int', 'min': 0, 'max': 255}, 'dimensions': [8640, 4320], 'crs': 'EPSG:4326', 'crs_transform': [0.041666666666666664, 0, -180, 0, -0.041666666666666664, 90]}], 'id': 'JAXA/GCOM-C/L3/OCEAN/CHLA/V3/20211223D', 'version': 1640467396430160.0, 'properties': {'PROCESSING_RESULT': 'Good', 'system:time_end': 1640304000000, 'IMAGE_START_TIME': '2021-12-23T00:01:24.302000', 'CHLA_AVE_SLOPE': '0.0016', 'SATELLITE_DIRECTION': 'D', 'PRODUCT_VERSION': '3000', 'system:time_start': 1640217600000, 'IMAGE_END_TIME': '2021-12-23T23:47:54.430000', 'system:footprint': {'type': 'LinearRing', 'coordinates': [[-180, -90], [180, -90], [180, 90], [-180, 90], [-180, -90]]}, 'PROCESSING_UT': '2021-12-25T01:14:29', 'ALGORITHM_VERSION': '3.00', 'CHLA_AVE_OFFSET': '0', 'GRID_INTERVAL_UNIT': 'deg', 'PRODUCT_FILENAME': 'GC1SG1_20211223D01D_D0000_3MSG_CHLAF_3000.h5', 'system:asset_size': 9571642, 'GRID_INTERVAL': '0.041666668', 'system:index': '20211223D'}}, {'type': 'Image', 'bands': [{'id': 'CHLA_AVE', 'data_type': {'type': 'PixelType', 'precision': 'int', 'min': 0, 'max': 65535}, 'dimensions': [8640, 4320], 'crs': 'EPSG:4326', 'crs_transform': [0.041666666666666664, 0, -180, 0, -0.041666666666666664, 90]}, {'id': 'CHLA_QA_flag', 'data_type': {'type': 'PixelType', 'precision': 'int', 'min': 0, 'max': 255}, 'dimensions': [8640, 4320], 'crs': 'EPSG:4326', 'crs_transform': [0.041666666666666664, 0, -180, 0, -0.041666666666666664, 90]}], 'id': 'JAXA/GCOM-C/L3/OCEAN/CHLA/V3/20211224A', 'version': 1640555933315698, 'properties': {'PROCESSING_RESULT': 'Good', 'system:time_end': 1640390400000, 'IMAGE_START_TIME': '2021-12-24T01:28:16.172000', 'CHLA_AVE_SLOPE': '0', 'SATELLITE_DIRECTION': 'A', 'PRODUCT_VERSION': '3000', 'system:time_start': 1640304000000, 'IMAGE_END_TIME': '2021-12-24T23:28:38.395000', 'system:footprint': {'type': 'LinearRing', 'coordinates': [[-180, -90], [180, -90], [180, 90], [-180, 90], [-180, -90]]}, 'PROCESSING_UT': '2021-12-26T00:32:31', 'ALGORITHM_VERSION': '3.00', 'CHLA_AVE_OFFSET': '0', 'GRID_INTERVAL_UNIT': 'deg', 'PRODUCT_FILENAME': 'GC1SG1_20211224A01D_D0000_3MSG_CHLAF_3000.h5', 'system:asset_size': 51879, 'GRID_INTERVAL': '0.041666668', 'system:index': '20211224A'}}, {'type': 'Image', 'bands': [{'id': 'CHLA_AVE', 'data_type': {'type': 'PixelType', 'precision': 'int', 'min': 0, 'max': 65535}, 'dimensions': [8640, 4320], 'crs': 'EPSG:4326', 'crs_transform': [0.041666666666666664, 0, -180, 0, -0.041666666666666664, 90]}, {'id': 'CHLA_QA_flag', 'data_type': {'type': 'PixelType', 'precision': 'int', 'min': 0, 'max': 255}, 'dimensions': [8640, 4320], 'crs': 'EPSG:4326', 'crs_transform': [0.041666666666666664, 0, -180, 0, -0.041666666666666664, 90]}], 'id': 'JAXA/GCOM-C/L3/OCEAN/CHLA/V3/20211224D', 'version': 1640555810006010.0, 'properties': {'PROCESSING_RESULT': 'Good', 'system:time_end': 1640390400000, 'IMAGE_START_TIME': '2021-12-24T00:41:10.442000', 'CHLA_AVE_SLOPE': '0.0016', 'SATELLITE_DIRECTION': 'D', 'PRODUCT_VERSION': '3000', 'system:time_start': 1640304000000, 'IMAGE_END_TIME': '2021-12-24T23:21:12.165000', 'system:footprint': {'type': 'LinearRing', 'coordinates': [[-180, -90], [180, -90], [180, 90], [-180, 90], [-180, -90]]}, 'PROCESSING_UT': '2021-12-26T00:39:13', 'ALGORITHM_VERSION': '3.00', 'CHLA_AVE_OFFSET': '0', 'GRID_INTERVAL_UNIT': 'deg', 'PRODUCT_FILENAME': 'GC1SG1_20211224D01D_D0000_3MSG_CHLAF_3000.h5', 'system:asset_size': 9372114, 'GRID_INTERVAL': '0.041666668', 'system:index': '20211224D'}}, {'type': 'Image', 'bands': [{'id': 'CHLA_AVE', 'data_type': {'type': 'PixelType', 'precision': 'int', 'min': 0, 'max': 65535}, 'dimensions': [8640, 4320], 'crs': 'EPSG:4326', 'crs_transform': [0.041666666666666664, 0, -180, 0, -0.041666666666666664, 90]}, {'id': 'CHLA_QA_flag', 'data_type': {'type': 'PixelType', 'precision': 'int', 'min': 0, 'max': 255}, 'dimensions': [8640, 4320], 'crs': 'EPSG:4326', 'crs_transform': [0.041666666666666664, 0, -180, 0, -0.041666666666666664, 90]}], 'id': 'JAXA/GCOM-C/L3/OCEAN/CHLA/V3/20211225A', 'version': 1640637848406864, 'properties': {'PROCESSING_RESULT': 'Good', 'system:time_end': 1640476800000, 'IMAGE_START_TIME': '2021-12-25T01:01:33.905000', 'CHLA_AVE_SLOPE': '0', 'SATELLITE_DIRECTION': 'A', 'PRODUCT_VERSION': '3000', 'system:time_start': 1640390400000, 'IMAGE_END_TIME': '2021-12-25T23:01:54.642000', 'system:footprint': {'type': 'LinearRing', 'coordinates': [[-180, -90], [180, -90], [180, 90], [-180, 90], [-180, -90]]}, 'PROCESSING_UT': '2021-12-27T01:51:16', 'ALGORITHM_VERSION': '3.00', 'CHLA_AVE_OFFSET': '0', 'GRID_INTERVAL_UNIT': 'deg', 'PRODUCT_FILENAME': 'GC1SG1_20211225A01D_D0000_3MSG_CHLAF_3000.h5', 'system:asset_size': 55164, 'GRID_INTERVAL': '0.041666668', 'system:index': '20211225A'}}, {'type': 'Image', 'bands': [{'id': 'CHLA_AVE', 'data_type': {'type': 'PixelType', 'precision': 'int', 'min': 0, 'max': 65535}, 'dimensions': [8640, 4320], 'crs': 'EPSG:4326', 'crs_transform': [0.041666666666666664, 0, -180, 0, -0.041666666666666664, 90]}, {'id': 'CHLA_QA_flag', 'data_type': {'type': 'PixelType', 'precision': 'int', 'min': 0, 'max': 255}, 'dimensions': [8640, 4320], 'crs': 'EPSG:4326', 'crs_transform': [0.041666666666666664, 0, -180, 0, -0.041666666666666664, 90]}], 'id': 'JAXA/GCOM-C/L3/OCEAN/CHLA/V3/20211225D', 'version': 1640637931566832, 'properties': {'PROCESSING_RESULT': 'Good', 'system:time_end': 1640476800000, 'IMAGE_START_TIME': '2021-12-25T00:15:17.773000', 'CHLA_AVE_SLOPE': '0.0016', 'SATELLITE_DIRECTION': 'D', 'PRODUCT_VERSION': '3000', 'system:time_start': 1640390400000, 'IMAGE_END_TIME': '2021-12-26T00:01:47.718000', 'system:footprint': {'type': 'LinearRing', 'coordinates': [[-180, -90], [180, -90], [180, 90], [-180, 90], [-180, -90]]}, 'PROCESSING_UT': '2021-12-27T02:10:53', 'ALGORITHM_VERSION': '3.00', 'CHLA_AVE_OFFSET': '0', 'GRID_INTERVAL_UNIT': 'deg', 'PRODUCT_FILENAME': 'GC1SG1_20211225D01D_D0000_3MSG_CHLAF_3000.h5', 'system:asset_size': 9260034, 'GRID_INTERVAL': '0.041666668', 'system:index': '20211225D'}}, {'type': 'Image', 'bands': [{'id': 'CHLA_AVE', 'data_type': {'type': 'PixelType', 'precision': 'int', 'min': 0, 'max': 65535}, 'dimensions': [8640, 4320], 'crs': 'EPSG:4326', 'crs_transform': [0.041666666666666664, 0, -180, 0, -0.041666666666666664, 90]}, {'id': 'CHLA_QA_flag', 'data_type': {'type': 'PixelType', 'precision': 'int', 'min': 0, 'max': 255}, 'dimensions': [8640, 4320], 'crs': 'EPSG:4326', 'crs_transform': [0.041666666666666664, 0, -180, 0, -0.041666666666666664, 90]}], 'id': 'JAXA/GCOM-C/L3/OCEAN/CHLA/V3/20211226A', 'version': 1640724897466988, 'properties': {'PROCESSING_RESULT': 'Good', 'system:time_end': 1640563200000, 'IMAGE_START_TIME': '2021-12-26T00:34:51.616000', 'CHLA_AVE_SLOPE': '0', 'SATELLITE_DIRECTION': 'A', 'PRODUCT_VERSION': '3000', 'system:time_start': 1640476800000, 'IMAGE_END_TIME': '2021-12-26T22:35:11.604000', 'system:footprint': {'type': 'LinearRing', 'coordinates': [[-180, -90], [180, -90], [180, 90], [-180, 90], [-180, -90]]}, 'PROCESSING_UT': '2021-12-28T01:21:15', 'ALGORITHM_VERSION': '3.00', 'CHLA_AVE_OFFSET': '0', 'GRID_INTERVAL_UNIT': 'deg', 'PRODUCT_FILENAME': 'GC1SG1_20211226A01D_D0000_3MSG_CHLAF_3000.h5', 'system:asset_size': 51559, 'GRID_INTERVAL': '0.041666668', 'system:index': '20211226A'}}, {'type': 'Image', 'bands': [{'id': 'CHLA_AVE', 'data_type': {'type': 'PixelType', 'precision': 'int', 'min': 0, 'max': 65535}, 'dimensions': [8640, 4320], 'crs': 'EPSG:4326', 'crs_transform': [0.041666666666666664, 0, -180, 0, -0.041666666666666664, 90]}, {'id': 'CHLA_QA_flag', 'data_type': {'type': 'PixelType', 'precision': 'int', 'min': 0, 'max': 255}, 'dimensions': [8640, 4320], 'crs': 'EPSG:4326', 'crs_transform': [0.041666666666666664, 0, -180, 0, -0.041666666666666664, 90]}], 'id': 'JAXA/GCOM-C/L3/OCEAN/CHLA/V3/20211226D', 'version': 1640725103218242, 'properties': {'PROCESSING_RESULT': 'Good', 'system:time_end': 1640563200000, 'IMAGE_START_TIME': '2021-12-26T00:01:12.544000', 'CHLA_AVE_SLOPE': '0.0016', 'SATELLITE_DIRECTION': 'D', 'PRODUCT_VERSION': '3000', 'system:time_start': 1640476800000, 'IMAGE_END_TIME': '2021-12-27T00:00:19.682000', 'system:footprint': {'type': 'LinearRing', 'coordinates': [[-180, -90], [180, -90], [180, 90], [-180, 90], [-180, -90]]}, 'PROCESSING_UT': '2021-12-28T01:44:55', 'ALGORITHM_VERSION': '3.00', 'CHLA_AVE_OFFSET': '0', 'GRID_INTERVAL_UNIT': 'deg', 'PRODUCT_FILENAME': 'GC1SG1_20211226D01D_D0000_3MSG_CHLAF_3000.h5', 'system:asset_size': 9518866, 'GRID_INTERVAL': '0.041666668', 'system:index': '20211226D'}}, {'type': 'Image', 'bands': [{'id': 'CHLA_AVE', 'data_type': {'type': 'PixelType', 'precision': 'int', 'min': 0, 'max': 65535}, 'dimensions': [8640, 4320], 'crs': 'EPSG:4326', 'crs_transform': [0.041666666666666664, 0, -180, 0, -0.041666666666666664, 90]}, {'id': 'CHLA_QA_flag', 'data_type': {'type': 'PixelType', 'precision': 'int', 'min': 0, 'max': 255}, 'dimensions': [8640, 4320], 'crs': 'EPSG:4326', 'crs_transform': [0.041666666666666664, 0, -180, 0, -0.041666666666666664, 90]}], 'id': 'JAXA/GCOM-C/L3/OCEAN/CHLA/V3/20211227A', 'version': 1640813087052422, 'properties': {'PROCESSING_RESULT': 'Good', 'system:time_end': 1640649600000, 'IMAGE_START_TIME': '2021-12-27T00:08:09.313000', 'CHLA_AVE_SLOPE': '0', 'SATELLITE_DIRECTION': 'A', 'PRODUCT_VERSION': '3000', 'system:time_start': 1640563200000, 'IMAGE_END_TIME': '2021-12-27T23:49:26.642000', 'system:footprint': {'type': 'LinearRing', 'coordinates': [[-180, -90], [180, -90], [180, 90], [-180, 90], [-180, -90]]}, 'PROCESSING_UT': '2021-12-28T23:57:58', 'ALGORITHM_VERSION': '3.00', 'CHLA_AVE_OFFSET': '0', 'GRID_INTERVAL_UNIT': 'deg', 'PRODUCT_FILENAME': 'GC1SG1_20211227A01D_D0000_3MSG_CHLAF_3000.h5', 'system:asset_size': 51264, 'GRID_INTERVAL': '0.041666668', 'system:index': '20211227A'}}, {'type': 'Image', 'bands': [{'id': 'CHLA_AVE', 'data_type': {'type': 'PixelType', 'precision': 'int', 'min': 0, 'max': 65535}, 'dimensions': [8640, 4320], 'crs': 'EPSG:4326', 'crs_transform': [0.041666666666666664, 0, -180, 0, -0.041666666666666664, 90]}, {'id': 'CHLA_QA_flag', 'data_type': {'type': 'PixelType', 'precision': 'int', 'min': 0, 'max': 255}, 'dimensions': [8640, 4320], 'crs': 'EPSG:4326', 'crs_transform': [0.041666666666666664, 0, -180, 0, -0.041666666666666664, 90]}], 'id': 'JAXA/GCOM-C/L3/OCEAN/CHLA/V3/20211227D', 'version': 1640813221338956, 'properties': {'PROCESSING_RESULT': 'Good', 'system:time_end': 1640649600000, 'IMAGE_START_TIME': '2021-12-26T23:59:44.508000', 'CHLA_AVE_SLOPE': '0.0016', 'SATELLITE_DIRECTION': 'D', 'PRODUCT_VERSION': '3000', 'system:time_start': 1640563200000, 'IMAGE_END_TIME': '2021-12-27T23:42:02.178000', 'system:footprint': {'type': 'LinearRing', 'coordinates': [[-180, -90], [180, -90], [180, 90], [-180, 90], [-180, -90]]}, 'PROCESSING_UT': '2021-12-29T01:12:01', 'ALGORITHM_VERSION': '3.00', 'CHLA_AVE_OFFSET': '0', 'GRID_INTERVAL_UNIT': 'deg', 'PRODUCT_FILENAME': 'GC1SG1_20211227D01D_D0000_3MSG_CHLAF_3000.h5', 'system:asset_size': 9304194, 'GRID_INTERVAL': '0.041666668', 'system:index': '20211227D'}}, {'type': 'Image', 'bands': [{'id': 'CHLA_AVE', 'data_type': {'type': 'PixelType', 'precision': 'int', 'min': 0, 'max': 65535}, 'dimensions': [8640, 4320], 'crs': 'EPSG:4326', 'crs_transform': [0.041666666666666664, 0, -180, 0, -0.041666666666666664, 90]}, {'id': 'CHLA_QA_flag', 'data_type': {'type': 'PixelType', 'precision': 'int', 'min': 0, 'max': 255}, 'dimensions': [8640, 4320], 'crs': 'EPSG:4326', 'crs_transform': [0.041666666666666664, 0, -180, 0, -0.041666666666666664, 90]}], 'id': 'JAXA/GCOM-C/L3/OCEAN/CHLA/V3/20211228A', 'version': 1640898174863209, 'properties': {'PROCESSING_RESULT': 'Good', 'system:time_end': 1640736000000, 'IMAGE_START_TIME': '2021-12-28T01:22:23.916000', 'CHLA_AVE_SLOPE': '0', 'SATELLITE_DIRECTION': 'A', 'PRODUCT_VERSION': '3000', 'system:time_start': 1640649600000, 'IMAGE_END_TIME': '2021-12-28T23:22:43.443000', 'system:footprint': {'type': 'LinearRing', 'coordinates': [[-180, -90], [180, -90], [180, 90], [-180, 90], [-180, -90]]}, 'PROCESSING_UT': '2021-12-30T00:25:26', 'ALGORITHM_VERSION': '3.00', 'CHLA_AVE_OFFSET': '0', 'GRID_INTERVAL_UNIT': 'deg', 'PRODUCT_FILENAME': 'GC1SG1_20211228A01D_D0000_3MSG_CHLAF_3000.h5', 'system:asset_size': 51674, 'GRID_INTERVAL': '0.041666668', 'system:index': '20211228A'}}, {'type': 'Image', 'bands': [{'id': 'CHLA_AVE', 'data_type': {'type': 'PixelType', 'precision': 'int', 'min': 0, 'max': 65535}, 'dimensions': [8640, 4320], 'crs': 'EPSG:4326', 'crs_transform': [0.041666666666666664, 0, -180, 0, -0.041666666666666664, 90]}, {'id': 'CHLA_QA_flag', 'data_type': {'type': 'PixelType', 'precision': 'int', 'min': 0, 'max': 255}, 'dimensions': [8640, 4320], 'crs': 'EPSG:4326', 'crs_transform': [0.041666666666666664, 0, -180, 0, -0.041666666666666664, 90]}], 'id': 'JAXA/GCOM-C/L3/OCEAN/CHLA/V3/20211228D', 'version': 1640898257037626, 'properties': {'PROCESSING_RESULT': 'Good', 'system:time_end': 1640736000000, 'IMAGE_START_TIME': '2021-12-28T00:35:18.481000', 'CHLA_AVE_SLOPE': '0.0016', 'SATELLITE_DIRECTION': 'D', 'PRODUCT_VERSION': '3000', 'system:time_start': 1640649600000, 'IMAGE_END_TIME': '2021-12-28T23:15:19.862000', 'system:footprint': {'type': 'LinearRing', 'coordinates': [[-180, -90], [180, -90], [180, 90], [-180, 90], [-180, -90]]}, 'PROCESSING_UT': '2021-12-30T00:34:21', 'ALGORITHM_VERSION': '3.00', 'CHLA_AVE_OFFSET': '0', 'GRID_INTERVAL_UNIT': 'deg', 'PRODUCT_FILENAME': 'GC1SG1_20211228D01D_D0000_3MSG_CHLAF_3000.h5', 'system:asset_size': 9352545, 'GRID_INTERVAL': '0.041666668', 'system:index': '20211228D'}}, {'type': 'Image', 'bands': [{'id': 'CHLA_AVE', 'data_type': {'type': 'PixelType', 'precision': 'int', 'min': 0, 'max': 65535}, 'dimensions': [8640, 4320], 'crs': 'EPSG:4326', 'crs_transform': [0.041666666666666664, 0, -180, 0, -0.041666666666666664, 90]}, {'id': 'CHLA_QA_flag', 'data_type': {'type': 'PixelType', 'precision': 'int', 'min': 0, 'max': 255}, 'dimensions': [8640, 4320], 'crs': 'EPSG:4326', 'crs_transform': [0.041666666666666664, 0, -180, 0, -0.041666666666666664, 90]}], 'id': 'JAXA/GCOM-C/L3/OCEAN/CHLA/V3/20211229A', 'version': 1640990220459498, 'properties': {'PROCESSING_RESULT': 'Good', 'system:time_end': 1640822400000, 'IMAGE_START_TIME': '2021-12-29T00:55:41.597000', 'CHLA_AVE_SLOPE': '0', 'SATELLITE_DIRECTION': 'A', 'PRODUCT_VERSION': '3000', 'system:time_start': 1640736000000, 'IMAGE_END_TIME': '2021-12-29T22:55:59.784000', 'system:footprint': {'type': 'LinearRing', 'coordinates': [[-180, -90], [180, -90], [180, 90], [-180, 90], [-180, -90]]}, 'PROCESSING_UT': '2021-12-31T01:45:36', 'ALGORITHM_VERSION': '3.00', 'CHLA_AVE_OFFSET': '0', 'GRID_INTERVAL_UNIT': 'deg', 'PRODUCT_FILENAME': 'GC1SG1_20211229A01D_D0000_3MSG_CHLAF_3000.h5', 'system:asset_size': 51544, 'GRID_INTERVAL': '0.041666668', 'system:index': '20211229A'}}, {'type': 'Image', 'bands': [{'id': 'CHLA_AVE', 'data_type': {'type': 'PixelType', 'precision': 'int', 'min': 0, 'max': 65535}, 'dimensions': [8640, 4320], 'crs': 'EPSG:4326', 'crs_transform': [0.041666666666666664, 0, -180, 0, -0.041666666666666664, 90]}, {'id': 'CHLA_QA_flag', 'data_type': {'type': 'PixelType', 'precision': 'int', 'min': 0, 'max': 255}, 'dimensions': [8640, 4320], 'crs': 'EPSG:4326', 'crs_transform': [0.041666666666666664, 0, -180, 0, -0.041666666666666664, 90]}], 'id': 'JAXA/GCOM-C/L3/OCEAN/CHLA/V3/20211229D', 'version': 1640987645106500.0, 'properties': {'PROCESSING_RESULT': 'Good', 'system:time_end': 1640822400000, 'IMAGE_START_TIME': '2021-12-29T00:08:35.279000', 'CHLA_AVE_SLOPE': '0.0016', 'SATELLITE_DIRECTION': 'D', 'PRODUCT_VERSION': '3000', 'system:time_start': 1640736000000, 'IMAGE_END_TIME': '2021-12-30T00:01:02.508000', 'system:footprint': {'type': 'LinearRing', 'coordinates': [[-180, -90], [180, -90], [180, 90], [-180, 90], [-180, -90]]}, 'PROCESSING_UT': '2021-12-31T02:06:12', 'ALGORITHM_VERSION': '3.00', 'CHLA_AVE_OFFSET': '0', 'GRID_INTERVAL_UNIT': 'deg', 'PRODUCT_FILENAME': 'GC1SG1_20211229D01D_D0000_3MSG_CHLAF_3000.h5', 'system:asset_size': 9937359, 'GRID_INTERVAL': '0.041666668', 'system:index': '20211229D'}}, {'type': 'Image', 'bands': [{'id': 'CHLA_AVE', 'data_type': {'type': 'PixelType', 'precision': 'int', 'min': 0, 'max': 65535}, 'dimensions': [8640, 4320], 'crs': 'EPSG:4326', 'crs_transform': [0.041666666666666664, 0, -180, 0, -0.041666666666666664, 90]}, {'id': 'CHLA_QA_flag', 'data_type': {'type': 'PixelType', 'precision': 'int', 'min': 0, 'max': 255}, 'dimensions': [8640, 4320], 'crs': 'EPSG:4326', 'crs_transform': [0.041666666666666664, 0, -180, 0, -0.041666666666666664, 90]}], 'id': 'JAXA/GCOM-C/L3/OCEAN/CHLA/V3/20211230A', 'version': 1641078378314264, 'properties': {'PROCESSING_RESULT': 'Good', 'system:time_end': 1640908800000, 'IMAGE_START_TIME': '2021-12-30T00:28:59.255000', 'CHLA_AVE_SLOPE': '0', 'SATELLITE_DIRECTION': 'A', 'PRODUCT_VERSION': '3000', 'system:time_start': 1640822400000, 'IMAGE_END_TIME': '2021-12-30T22:29:16.699000', 'system:footprint': {'type': 'LinearRing', 'coordinates': [[-180, -90], [180, -90], [180, 90], [-180, 90], [-180, -90]]}, 'PROCESSING_UT': '2022-01-01T02:05:57', 'ALGORITHM_VERSION': '3.00', 'CHLA_AVE_OFFSET': '0', 'GRID_INTERVAL_UNIT': 'deg', 'PRODUCT_FILENAME': 'GC1SG1_20211230A01D_D0000_3MSG_CHLAF_3000.h5', 'system:asset_size': 51439, 'GRID_INTERVAL': '0.041666668', 'system:index': '20211230A'}}, {'type': 'Image', 'bands': [{'id': 'CHLA_AVE', 'data_type': {'type': 'PixelType', 'precision': 'int', 'min': 0, 'max': 65535}, 'dimensions': [8640, 4320], 'crs': 'EPSG:4326', 'crs_transform': [0.041666666666666664, 0, -180, 0, -0.041666666666666664, 90]}, {'id': 'CHLA_QA_flag', 'data_type': {'type': 'PixelType', 'precision': 'int', 'min': 0, 'max': 255}, 'dimensions': [8640, 4320], 'crs': 'EPSG:4326', 'crs_transform': [0.041666666666666664, 0, -180, 0, -0.041666666666666664, 90]}], 'id': 'JAXA/GCOM-C/L3/OCEAN/CHLA/V3/20211230D', 'version': 1641080318470638, 'properties': {'PROCESSING_RESULT': 'Good', 'system:time_end': 1640908800000, 'IMAGE_START_TIME': '2021-12-30T00:00:26.598000', 'CHLA_AVE_SLOPE': '0.0016', 'SATELLITE_DIRECTION': 'D', 'PRODUCT_VERSION': '3000', 'system:time_start': 1640822400000, 'IMAGE_END_TIME': '2021-12-31T00:02:52.083000', 'system:footprint': {'type': 'LinearRing', 'coordinates': [[-180, -90], [180, -90], [180, 90], [-180, 90], [-180, -90]]}, 'PROCESSING_UT': '2022-01-01T01:34:34', 'ALGORITHM_VERSION': '3.00', 'CHLA_AVE_OFFSET': '0', 'GRID_INTERVAL_UNIT': 'deg', 'PRODUCT_FILENAME': 'GC1SG1_20211230D01D_D0000_3MSG_CHLAF_3000.h5', 'system:asset_size': 9701424, 'GRID_INTERVAL': '0.041666668', 'system:index': '20211230D'}}, {'type': 'Image', 'bands': [{'id': 'CHLA_AVE', 'data_type': {'type': 'PixelType', 'precision': 'int', 'min': 0, 'max': 65535}, 'dimensions': [8640, 4320], 'crs': 'EPSG:4326', 'crs_transform': [0.041666666666666664, 0, -180, 0, -0.041666666666666664, 90]}, {'id': 'CHLA_QA_flag', 'data_type': {'type': 'PixelType', 'precision': 'int', 'min': 0, 'max': 255}, 'dimensions': [8640, 4320], 'crs': 'EPSG:4326', 'crs_transform': [0.041666666666666664, 0, -180, 0, -0.041666666666666664, 90]}], 'id': 'JAXA/GCOM-C/L3/OCEAN/CHLA/V3/20211231A', 'version': 1641163994534344, 'properties': {'PROCESSING_RESULT': 'Good', 'system:time_end': 1640995200000, 'IMAGE_START_TIME': '2021-12-31T00:02:16.909000', 'CHLA_AVE_SLOPE': '0', 'SATELLITE_DIRECTION': 'A', 'PRODUCT_VERSION': '3000', 'system:time_start': 1640908800000, 'IMAGE_END_TIME': '2021-12-31T23:43:29.341000', 'system:footprint': {'type': 'LinearRing', 'coordinates': [[-180, -90], [180, -90], [180, 90], [-180, 90], [-180, -90]]}, 'PROCESSING_UT': '2022-01-02T00:48:32', 'ALGORITHM_VERSION': '3.00', 'CHLA_AVE_OFFSET': '0', 'GRID_INTERVAL_UNIT': 'deg', 'PRODUCT_FILENAME': 'GC1SG1_20211231A01D_D0000_3MSG_CHLAF_3000.h5', 'system:asset_size': 51943, 'GRID_INTERVAL': '0.041666668', 'system:index': '20211231A'}}, {'type': 'Image', 'bands': [{'id': 'CHLA_AVE', 'data_type': {'type': 'PixelType', 'precision': 'int', 'min': 0, 'max': 65535}, 'dimensions': [8640, 4320], 'crs': 'EPSG:4326', 'crs_transform': [0.041666666666666664, 0, -180, 0, -0.041666666666666664, 90]}, {'id': 'CHLA_QA_flag', 'data_type': {'type': 'PixelType', 'precision': 'int', 'min': 0, 'max': 255}, 'dimensions': [8640, 4320], 'crs': 'EPSG:4326', 'crs_transform': [0.041666666666666664, 0, -180, 0, -0.041666666666666664, 90]}], 'id': 'JAXA/GCOM-C/L3/OCEAN/CHLA/V3/20211231D', 'version': 1641164908882966, 'properties': {'PROCESSING_RESULT': 'Good', 'system:time_end': 1640995200000, 'IMAGE_START_TIME': '2021-12-31T00:56:07.203000', 'CHLA_AVE_SLOPE': '0.0016', 'SATELLITE_DIRECTION': 'D', 'PRODUCT_VERSION': '3000', 'system:time_start': 1640908800000, 'IMAGE_END_TIME': '2021-12-31T23:36:09.734000', 'system:footprint': {'type': 'LinearRing', 'coordinates': [[-180, -90], [180, -90], [180, 90], [-180, 90], [-180, -90]]}, 'PROCESSING_UT': '2022-01-02T01:04:37', 'ALGORITHM_VERSION': '3.00', 'CHLA_AVE_OFFSET': '0', 'GRID_INTERVAL_UNIT': 'deg', 'PRODUCT_FILENAME': 'GC1SG1_20211231D01D_D0000_3MSG_CHLAF_3000.h5', 'system:asset_size': 9636742, 'GRID_INTERVAL': '0.041666668', 'system:index': '20211231D'}}]\n"
     ]
    }
   ],
   "source": [
    "print(lc.getInfo()['features'])"
   ]
  },
  {
   "cell_type": "code",
   "execution_count": 15,
   "id": "ba142999-f22e-438d-92ef-9bc538008d74",
   "metadata": {},
   "outputs": [],
   "source": [
    "import pprint"
   ]
  },
  {
   "cell_type": "code",
   "execution_count": 16,
   "id": "877fc9be-b793-4c29-84fb-e8ddbf313cff",
   "metadata": {},
   "outputs": [
    {
     "ename": "TypeError",
     "evalue": "'module' object is not callable",
     "output_type": "error",
     "traceback": [
      "\u001b[0;31m---------------------------------------------------------------------------\u001b[0m",
      "\u001b[0;31mTypeError\u001b[0m                                 Traceback (most recent call last)",
      "\u001b[0;32m/var/folders/s2/lnzc2s7j3t9ch7f10ppkfc5x4_fqxh/T/ipykernel_10512/3106663477.py\u001b[0m in \u001b[0;36m<module>\u001b[0;34m\u001b[0m\n\u001b[0;32m----> 1\u001b[0;31m \u001b[0mpprint\u001b[0m\u001b[0;34m(\u001b[0m\u001b[0mlc\u001b[0m\u001b[0;34m)\u001b[0m\u001b[0;34m\u001b[0m\u001b[0;34m\u001b[0m\u001b[0m\n\u001b[0m",
      "\u001b[0;31mTypeError\u001b[0m: 'module' object is not callable"
     ]
    }
   ],
   "source": [
    "pprint(lc)"
   ]
  },
  {
   "cell_type": "code",
   "execution_count": 14,
   "id": "3c32d7f1-efde-41b9-81f2-eae7f90c3d73",
   "metadata": {},
   "outputs": [
    {
     "ename": "AttributeError",
     "evalue": "'List' object has no attribute 'val'",
     "output_type": "error",
     "traceback": [
      "\u001b[0;31m---------------------------------------------------------------------------\u001b[0m",
      "\u001b[0;31mAttributeError\u001b[0m                            Traceback (most recent call last)",
      "\u001b[0;32m/var/folders/s2/lnzc2s7j3t9ch7f10ppkfc5x4_fqxh/T/ipykernel_10512/1919561256.py\u001b[0m in \u001b[0;36m<module>\u001b[0;34m\u001b[0m\n\u001b[0;32m----> 1\u001b[0;31m \u001b[0mlc\u001b[0m\u001b[0;34m.\u001b[0m\u001b[0mtoDictionary\u001b[0m\u001b[0;34m(\u001b[0m\u001b[0;34m)\u001b[0m\u001b[0;34m.\u001b[0m\u001b[0mkeys\u001b[0m\u001b[0;34m(\u001b[0m\u001b[0;34m)\u001b[0m\u001b[0;34m.\u001b[0m\u001b[0mval\u001b[0m\u001b[0;34m\u001b[0m\u001b[0;34m\u001b[0m\u001b[0m\n\u001b[0m",
      "\u001b[0;31mAttributeError\u001b[0m: 'List' object has no attribute 'val'"
     ]
    }
   ],
   "source": [
    "lc.toDictionary().keys()"
   ]
  },
  {
   "cell_type": "code",
   "execution_count": null,
   "id": "eb03fb95-2e77-442e-93f6-953d5b964330",
   "metadata": {},
   "outputs": [],
   "source": []
  }
 ],
 "metadata": {
  "kernelspec": {
   "display_name": "vuelvealoceano",
   "language": "python",
   "name": "vuelvealoceano"
  },
  "language_info": {
   "codemirror_mode": {
    "name": "ipython",
    "version": 3
   },
   "file_extension": ".py",
   "mimetype": "text/x-python",
   "name": "python",
   "nbconvert_exporter": "python",
   "pygments_lexer": "ipython3",
   "version": "3.9.7"
  },
  "widgets": {
   "application/vnd.jupyter.widget-state+json": {
    "state": {},
    "version_major": 2,
    "version_minor": 0
   }
  }
 },
 "nbformat": 4,
 "nbformat_minor": 5
}
