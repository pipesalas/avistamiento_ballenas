{
 "cells": [
  {
   "cell_type": "code",
   "execution_count": null,
   "id": "c07fc927-87d6-424f-ae18-3b4177169f19",
   "metadata": {},
   "outputs": [],
   "source": [
    "# https://developers.google.com/earth-engine/tutorials/community/intro-to-python-api"
   ]
  },
  {
   "cell_type": "code",
   "execution_count": 1,
   "id": "de59480c-3482-4256-ad37-41f369f1052b",
   "metadata": {},
   "outputs": [
    {
     "data": {
      "text/html": [
       "<p>To authorize access needed by Earth Engine, open the following\n",
       "        URL in a web browser and follow the instructions:</p>\n",
       "        <p><a href=https://code.earthengine.google.com/client-auth?scopes=https%3A//www.googleapis.com/auth/earthengine%20https%3A//www.googleapis.com/auth/devstorage.full_control&request_id=iJhNH5aQnN8PaguPayOKoGeZfPd59TNX_Bm_7IPdHek&tc=WtiVO8TxvWLT_Se_VaqsNbyMp-uXfSNJd0q6ImHIZOo&cc=4z5f40IWu9rSiEEXmhsijuU_PnkTKyBBMqIg7dPH6w0>https://code.earthengine.google.com/client-auth?scopes=https%3A//www.googleapis.com/auth/earthengine%20https%3A//www.googleapis.com/auth/devstorage.full_control&request_id=iJhNH5aQnN8PaguPayOKoGeZfPd59TNX_Bm_7IPdHek&tc=WtiVO8TxvWLT_Se_VaqsNbyMp-uXfSNJd0q6ImHIZOo&cc=4z5f40IWu9rSiEEXmhsijuU_PnkTKyBBMqIg7dPH6w0</a></p>\n",
       "        <p>The authorization workflow will generate a code, which you should paste in the box below.</p>\n",
       "        "
      ],
      "text/plain": [
       "<IPython.core.display.HTML object>"
      ]
     },
     "metadata": {},
     "output_type": "display_data"
    },
    {
     "name": "stdin",
     "output_type": "stream",
     "text": [
      "Enter verification code:  4/1ARtbsJrBAb8-nsHvWrgvMDFU0MX-HWnySFBRrkFoTHDvsZrP8i2M0AovMtA\n"
     ]
    },
    {
     "name": "stdout",
     "output_type": "stream",
     "text": [
      "\n",
      "Successfully saved authorization token.\n"
     ]
    }
   ],
   "source": [
    "import ee\n",
    "\n",
    "# Trigger the authentication flow.\n",
    "ee.Authenticate()\n",
    "\n",
    "# Initialize the library.\n",
    "ee.Initialize()"
   ]
  },
  {
   "cell_type": "code",
   "execution_count": 2,
   "id": "2f661ac5-f02c-4aaf-ba7a-4a0287cf00de",
   "metadata": {},
   "outputs": [],
   "source": [
    "# Define the urban location of interest as a point near Lyon, France.\n",
    "u_lon = -73.2\n",
    "u_lat = -39.8\n",
    "u_poi = ee.Geometry.Point(u_lon, u_lat)\n",
    "\n",
    "# Define the rural location of interest as a point away from the city.\n",
    "r_lon = -73\n",
    "r_lat = -40\n",
    "r_poi = ee.Geometry.Point(r_lon, r_lat)"
   ]
  },
  {
   "cell_type": "code",
   "execution_count": 2,
   "id": "3f3edc5d-9f93-4cb2-8daa-762266138d22",
   "metadata": {},
   "outputs": [],
   "source": [
    "# Import the MODIS land cover collection.\n",
    "lc = ee.ImageCollection('MODIS/006/MCD12Q1')\n",
    "\n",
    "# Import the MODIS land surface temperature collection.\n",
    "lst = ee.ImageCollection('MODIS/006/MOD11A1')\n",
    "\n",
    "# Import the USGS ground elevation image.\n",
    "elv = ee.Image('USGS/SRTMGL1_003')"
   ]
  },
  {
   "cell_type": "code",
   "execution_count": 3,
   "id": "0286f1c7-d6d9-418b-b9b2-0dd4b14c8812",
   "metadata": {},
   "outputs": [],
   "source": [
    "# Initial date of interest (inclusive).\n",
    "i_date = '2017-01-01'\n",
    "# Final date of interest (exclusive).\n",
    "f_date = '2020-01-01'\n",
    "\n",
    "# Selection of appropriate bands and dates for LST.\n",
    "lst = lst.select('LST_Day_1km', 'QC_Day').filterDate(i_date, f_date)"
   ]
  },
  {
   "cell_type": "code",
   "execution_count": 38,
   "id": "6a71cc9c-3585-4c29-9b29-d6cd883af158",
   "metadata": {},
   "outputs": [
    {
     "data": {
      "text/plain": [
       "<ee.computedobject.ComputedObject at 0x7fa651162430>"
      ]
     },
     "execution_count": 38,
     "metadata": {},
     "output_type": "execute_result"
    }
   ],
   "source": [
    "lst.get('LST_Day_1km')"
   ]
  },
  {
   "cell_type": "code",
   "execution_count": 25,
   "id": "817fd514-d238-42f9-bffc-e2079659a050",
   "metadata": {},
   "outputs": [
    {
     "name": "stdout",
     "output_type": "stream",
     "text": [
      "Ground elevation at urban point: 7 m\n"
     ]
    },
    {
     "ename": "AttributeError",
     "evalue": "'ImageCollection' object has no attribute 'sample'",
     "output_type": "error",
     "traceback": [
      "\u001b[0;31m---------------------------------------------------------------------------\u001b[0m",
      "\u001b[0;31mAttributeError\u001b[0m                            Traceback (most recent call last)",
      "\u001b[0;32m/var/folders/s2/lnzc2s7j3t9ch7f10ppkfc5x4_fqxh/T/ipykernel_35332/1959220158.py\u001b[0m in \u001b[0;36m<module>\u001b[0;34m\u001b[0m\n\u001b[1;32m      6\u001b[0m \u001b[0;34m\u001b[0m\u001b[0m\n\u001b[1;32m      7\u001b[0m \u001b[0;31m# Calculate and print the mean value of the LST collection at the point.\u001b[0m\u001b[0;34m\u001b[0m\u001b[0;34m\u001b[0m\u001b[0m\n\u001b[0;32m----> 8\u001b[0;31m \u001b[0mlst_urban_point\u001b[0m \u001b[0;34m=\u001b[0m \u001b[0mlst\u001b[0m\u001b[0;34m.\u001b[0m\u001b[0msample\u001b[0m\u001b[0;34m(\u001b[0m\u001b[0mu_poi\u001b[0m\u001b[0;34m,\u001b[0m \u001b[0mscale\u001b[0m\u001b[0;34m)\u001b[0m\u001b[0;34m.\u001b[0m\u001b[0mfirst\u001b[0m\u001b[0;34m(\u001b[0m\u001b[0;34m)\u001b[0m\u001b[0;34m.\u001b[0m\u001b[0mget\u001b[0m\u001b[0;34m(\u001b[0m\u001b[0;34m'LST_Day_1km'\u001b[0m\u001b[0;34m)\u001b[0m\u001b[0;34m.\u001b[0m\u001b[0mgetInfo\u001b[0m\u001b[0;34m(\u001b[0m\u001b[0;34m)\u001b[0m\u001b[0;34m\u001b[0m\u001b[0;34m\u001b[0m\u001b[0m\n\u001b[0m\u001b[1;32m      9\u001b[0m \u001b[0;31m#lst_urban_point = lst.mean().sample(u_poi, scale).first().get('LST_Day_1km').getInfo()\u001b[0m\u001b[0;34m\u001b[0m\u001b[0;34m\u001b[0m\u001b[0m\n\u001b[1;32m     10\u001b[0m \u001b[0mprint\u001b[0m\u001b[0;34m(\u001b[0m\u001b[0;34m'Average daytime LST at urban point:'\u001b[0m\u001b[0;34m,\u001b[0m \u001b[0mround\u001b[0m\u001b[0;34m(\u001b[0m\u001b[0mlst_urban_point\u001b[0m\u001b[0;34m*\u001b[0m\u001b[0;36m0.02\u001b[0m \u001b[0;34m-\u001b[0m\u001b[0;36m273.15\u001b[0m\u001b[0;34m,\u001b[0m \u001b[0;36m2\u001b[0m\u001b[0;34m)\u001b[0m\u001b[0;34m,\u001b[0m \u001b[0;34m'°C'\u001b[0m\u001b[0;34m)\u001b[0m\u001b[0;34m\u001b[0m\u001b[0;34m\u001b[0m\u001b[0m\n",
      "\u001b[0;31mAttributeError\u001b[0m: 'ImageCollection' object has no attribute 'sample'"
     ]
    }
   ],
   "source": [
    "scale = 1000  # scale in meters\n",
    "\n",
    "# Print the elevation near Lyon, France.\n",
    "elv_urban_point = elv.sample(u_poi, scale).first().get('elevation').getInfo()\n",
    "print('Ground elevation at urban point:', elv_urban_point, 'm')\n",
    "\n",
    "# Calculate and print the mean value of the LST collection at the point.\n",
    "lst_urban_point = lst.sample(u_poi, scale).first().get('LST_Day_1km').getInfo()\n",
    "#lst_urban_point = lst.mean().sample(u_poi, scale).first().get('LST_Day_1km').getInfo()\n",
    "print('Average daytime LST at urban point:', round(lst_urban_point*0.02 -273.15, 2), '°C')\n",
    "\n",
    "# Print the land cover type at the point.\n",
    "lc_urban_point = lc.first().sample(u_poi, scale).first().get('LC_Type1').getInfo()\n",
    "print('Land cover value at urban point is:', lc_urban_point)"
   ]
  },
  {
   "cell_type": "code",
   "execution_count": 8,
   "id": "999cc74c-ebc9-431b-9d75-1dc439711d70",
   "metadata": {},
   "outputs": [
    {
     "data": {
      "text/plain": [
       "[['id', 'longitude', 'latitude', 'time', 'LST_Day_1km', 'QC_Day'],\n",
       " ['2017_01_01',\n",
       "  -73.19922092647921,\n",
       "  -39.799858662915405,\n",
       "  1483228800000,\n",
       "  14616,\n",
       "  65],\n",
       " ['2017_01_02',\n",
       "  -73.19922092647921,\n",
       "  -39.799858662915405,\n",
       "  1483315200000,\n",
       "  14880,\n",
       "  81],\n",
       " ['2017_01_03',\n",
       "  -73.19922092647921,\n",
       "  -39.799858662915405,\n",
       "  1483401600000,\n",
       "  None,\n",
       "  2],\n",
       " ['2017_01_04',\n",
       "  -73.19922092647921,\n",
       "  -39.799858662915405,\n",
       "  1483488000000,\n",
       "  None,\n",
       "  2]]"
      ]
     },
     "execution_count": 8,
     "metadata": {},
     "output_type": "execute_result"
    }
   ],
   "source": [
    "# Get the data for the pixel intersecting the point in urban area.\n",
    "lst_u_poi = lst.getRegion(u_poi, scale).getInfo()\n",
    "\n",
    "# Get the data for the pixel intersecting the point in rural area.\n",
    "lst_r_poi = lst.getRegion(r_poi, scale).getInfo()\n",
    "\n",
    "# Preview the result.\n",
    "lst_u_poi[:5]"
   ]
  },
  {
   "cell_type": "code",
   "execution_count": 11,
   "id": "2610da0c-0022-4515-822c-4f13b7a31b66",
   "metadata": {},
   "outputs": [],
   "source": [
    "import pandas as pd\n",
    "\n",
    "def ee_array_to_df(arr, list_of_bands):\n",
    "    \"\"\"Transforms client-side ee.Image.getRegion array to pandas.DataFrame.\"\"\"\n",
    "    df = pd.DataFrame(arr)\n",
    "\n",
    "    # Rearrange the header.\n",
    "    headers = df.iloc[0]\n",
    "    df = pd.DataFrame(df.values[1:], columns=headers)\n",
    "\n",
    "    # Remove rows without data inside.\n",
    "    df = df[['longitude', 'latitude', 'time', *list_of_bands]].dropna()\n",
    "\n",
    "    # Convert the data to numeric values.\n",
    "    for band in list_of_bands:\n",
    "        df[band] = pd.to_numeric(df[band], errors='coerce')\n",
    "\n",
    "    # Convert the time field into a datetime.\n",
    "    df['datetime'] = pd.to_datetime(df['time'], unit='ms')\n",
    "\n",
    "    # Keep the columns of interest.\n",
    "    df = df[['time','datetime',  *list_of_bands]]\n",
    "\n",
    "    return df"
   ]
  },
  {
   "cell_type": "code",
   "execution_count": 12,
   "id": "959fdd7e-bc9b-4b15-9e87-321b76d86035",
   "metadata": {},
   "outputs": [
    {
     "data": {
      "text/html": [
       "<div>\n",
       "<style scoped>\n",
       "    .dataframe tbody tr th:only-of-type {\n",
       "        vertical-align: middle;\n",
       "    }\n",
       "\n",
       "    .dataframe tbody tr th {\n",
       "        vertical-align: top;\n",
       "    }\n",
       "\n",
       "    .dataframe thead th {\n",
       "        text-align: right;\n",
       "    }\n",
       "</style>\n",
       "<table border=\"1\" class=\"dataframe\">\n",
       "  <thead>\n",
       "    <tr style=\"text-align: right;\">\n",
       "      <th></th>\n",
       "      <th>time</th>\n",
       "      <th>datetime</th>\n",
       "      <th>LST_Day_1km</th>\n",
       "    </tr>\n",
       "  </thead>\n",
       "  <tbody>\n",
       "    <tr>\n",
       "      <th>0</th>\n",
       "      <td>1483228800000</td>\n",
       "      <td>2017-01-01</td>\n",
       "      <td>19.17</td>\n",
       "    </tr>\n",
       "    <tr>\n",
       "      <th>1</th>\n",
       "      <td>1483315200000</td>\n",
       "      <td>2017-01-02</td>\n",
       "      <td>24.45</td>\n",
       "    </tr>\n",
       "    <tr>\n",
       "      <th>5</th>\n",
       "      <td>1483660800000</td>\n",
       "      <td>2017-01-06</td>\n",
       "      <td>24.43</td>\n",
       "    </tr>\n",
       "    <tr>\n",
       "      <th>8</th>\n",
       "      <td>1483920000000</td>\n",
       "      <td>2017-01-09</td>\n",
       "      <td>16.89</td>\n",
       "    </tr>\n",
       "    <tr>\n",
       "      <th>10</th>\n",
       "      <td>1484092800000</td>\n",
       "      <td>2017-01-11</td>\n",
       "      <td>24.23</td>\n",
       "    </tr>\n",
       "  </tbody>\n",
       "</table>\n",
       "</div>"
      ],
      "text/plain": [
       "0            time   datetime  LST_Day_1km\n",
       "0   1483228800000 2017-01-01        19.17\n",
       "1   1483315200000 2017-01-02        24.45\n",
       "5   1483660800000 2017-01-06        24.43\n",
       "8   1483920000000 2017-01-09        16.89\n",
       "10  1484092800000 2017-01-11        24.23"
      ]
     },
     "execution_count": 12,
     "metadata": {},
     "output_type": "execute_result"
    }
   ],
   "source": [
    "lst_df_urban = ee_array_to_df(lst_u_poi,['LST_Day_1km'])\n",
    "\n",
    "def t_modis_to_celsius(t_modis):\n",
    "    \"\"\"Converts MODIS LST units to degrees Celsius.\"\"\"\n",
    "    t_celsius =  0.02*t_modis - 273.15\n",
    "    return t_celsius\n",
    "\n",
    "# Apply the function to get temperature in celsius.\n",
    "lst_df_urban['LST_Day_1km'] = lst_df_urban['LST_Day_1km'].apply(t_modis_to_celsius)\n",
    "\n",
    "# Do the same for the rural point.\n",
    "lst_df_rural = ee_array_to_df(lst_r_poi,['LST_Day_1km'])\n",
    "lst_df_rural['LST_Day_1km'] = lst_df_rural['LST_Day_1km'].apply(t_modis_to_celsius)\n",
    "\n",
    "lst_df_urban.head()"
   ]
  },
  {
   "cell_type": "code",
   "execution_count": 15,
   "id": "9ca1eccf-8106-49d0-aa22-1b7a3fa0d8ce",
   "metadata": {},
   "outputs": [],
   "source": [
    "roi = u_poi.buffer(1e6)\n"
   ]
  },
  {
   "cell_type": "code",
   "execution_count": 16,
   "id": "e5e5d303-10fe-47b8-a781-b5637a72d5f7",
   "metadata": {},
   "outputs": [],
   "source": [
    "# Reduce the LST collection by mean.\n",
    "lst_img = lst.mean()\n",
    "\n",
    "# Adjust for scale factor.\n",
    "lst_img = lst_img.select('LST_Day_1km').multiply(0.02)\n",
    "\n",
    "# Convert Kelvin to Celsius.\n",
    "lst_img = lst_img.select('LST_Day_1km').add(-273.15)"
   ]
  },
  {
   "cell_type": "code",
   "execution_count": 17,
   "id": "90b28305-46df-4b85-8da9-74f583159ebe",
   "metadata": {},
   "outputs": [
    {
     "name": "stdout",
     "output_type": "stream",
     "text": [
      "https://earthengine.googleapis.com/v1alpha/projects/earthengine-legacy/thumbnails/d8883755009d0c366baf8a3d93849a8c-784df19a39e05f968af0f55039962b9d:getPixels\n",
      "\n",
      "Please wait while the thumbnail loads, it may take a moment...\n"
     ]
    },
    {
     "data": {
      "text/html": [
       "<img src=\"https://earthengine.googleapis.com/v1alpha/projects/earthengine-legacy/thumbnails/d8883755009d0c366baf8a3d93849a8c-784df19a39e05f968af0f55039962b9d:getPixels\"/>"
      ],
      "text/plain": [
       "<IPython.core.display.Image object>"
      ]
     },
     "execution_count": 17,
     "metadata": {},
     "output_type": "execute_result"
    }
   ],
   "source": [
    "from IPython.display import Image\n",
    "\n",
    "# Create a URL to the styled image for a region around France.\n",
    "url = lst_img.getThumbUrl({\n",
    "    'min': 10, 'max': 30, 'dimensions': 512, 'region': roi,\n",
    "    'palette': ['blue', 'yellow', 'orange', 'red']})\n",
    "print(url)\n",
    "\n",
    "# Display the thumbnail land surface temperature in France.\n",
    "print('\\nPlease wait while the thumbnail loads, it may take a moment...')\n",
    "Image(url=url)"
   ]
  },
  {
   "cell_type": "code",
   "execution_count": 36,
   "id": "c36b65e1-1342-4cbb-a88f-b7486f2fc694",
   "metadata": {},
   "outputs": [
    {
     "name": "stdout",
     "output_type": "stream",
     "text": [
      "ee.Array({\n",
      "  \"functionInvocationValue\": {\n",
      "    \"functionName\": \"Array\",\n",
      "    \"arguments\": {\n",
      "      \"values\": {\n",
      "        \"functionInvocationValue\": {\n",
      "          \"functionName\": \"Element.getArray\",\n",
      "          \"arguments\": {\n",
      "            \"object\": {\n",
      "              \"functionInvocationValue\": {\n",
      "                \"functionName\": \"Image.add\",\n",
      "                \"arguments\": {\n",
      "                  \"image1\": {\n",
      "                    \"functionInvocationValue\": {\n",
      "                      \"functionName\": \"Image.select\",\n",
      "                      \"arguments\": {\n",
      "                        \"bandSelectors\": {\n",
      "                          \"constantValue\": [\n",
      "                            \"LST_Day_1km\"\n",
      "                          ]\n",
      "                        },\n",
      "                        \"input\": {\n",
      "                          \"functionInvocationValue\": {\n",
      "                            \"functionName\": \"Image.multiply\",\n",
      "                            \"arguments\": {\n",
      "                              \"image1\": {\n",
      "                                \"functionInvocationValue\": {\n",
      "                                  \"functionName\": \"Image.select\",\n",
      "                                  \"arguments\": {\n",
      "                                    \"bandSelectors\": {\n",
      "                                      \"constantValue\": [\n",
      "                                        \"LST_Day_1km\"\n",
      "                                      ]\n",
      "                                    },\n",
      "                                    \"input\": {\n",
      "                                      \"functionInvocationValue\": {\n",
      "                                        \"functionName\": \"reduce.mean\",\n",
      "                                        \"arguments\": {\n",
      "                                          \"collection\": {\n",
      "                                            \"functionInvocationValue\": {\n",
      "                                              \"functionName\": \"Collection.filter\",\n",
      "                                              \"arguments\": {\n",
      "                                                \"collection\": {\n",
      "                                                  \"functionInvocationValue\": {\n",
      "                                                    \"functionName\": \"Collection.map\",\n",
      "                                                    \"arguments\": {\n",
      "                                                      \"baseAlgorithm\": {\n",
      "                                                        \"functionDefinitionValue\": {\n",
      "                                                          \"argumentNames\": [\n",
      "                                                            \"_MAPPING_VAR_0_0\"\n",
      "                                                          ],\n",
      "                                                          \"body\": {\n",
      "                                                            \"functionInvocationValue\": {\n",
      "                                                              \"functionName\": \"Image.select\",\n",
      "                                                              \"arguments\": {\n",
      "                                                                \"bandSelectors\": {\n",
      "                                                                  \"constantValue\": [\n",
      "                                                                    \"LST_Day_1km\",\n",
      "                                                                    \"QC_Day\"\n",
      "                                                                  ]\n",
      "                                                                },\n",
      "                                                                \"input\": {\n",
      "                                                                  \"argumentReference\": \"_MAPPING_VAR_0_0\"\n",
      "                                                                }\n",
      "                                                              }\n",
      "                                                            }\n",
      "                                                          }\n",
      "                                                        }\n",
      "                                                      },\n",
      "                                                      \"collection\": {\n",
      "                                                        \"functionInvocationValue\": {\n",
      "                                                          \"functionName\": \"ImageCollection.load\",\n",
      "                                                          \"arguments\": {\n",
      "                                                            \"id\": {\n",
      "                                                              \"constantValue\": \"MODIS/006/MOD11A1\"\n",
      "                                                            }\n",
      "                                                          }\n",
      "                                                        }\n",
      "                                                      }\n",
      "                                                    }\n",
      "                                                  }\n",
      "                                                },\n",
      "                                                \"filter\": {\n",
      "                                                  \"functionInvocationValue\": {\n",
      "                                                    \"functionName\": \"Filter.dateRangeContains\",\n",
      "                                                    \"arguments\": {\n",
      "                                                      \"leftValue\": {\n",
      "                                                        \"functionInvocationValue\": {\n",
      "                                                          \"functionName\": \"DateRange\",\n",
      "                                                          \"arguments\": {\n",
      "                                                            \"end\": {\n",
      "                                                              \"constantValue\": \"2020-01-01\"\n",
      "                                                            },\n",
      "                                                            \"start\": {\n",
      "                                                              \"constantValue\": \"2017-01-01\"\n",
      "                                                            }\n",
      "                                                          }\n",
      "                                                        }\n",
      "                                                      },\n",
      "                                                      \"rightField\": {\n",
      "                                                        \"constantValue\": \"system:time_start\"\n",
      "                                                      }\n",
      "                                                    }\n",
      "                                                  }\n",
      "                                                }\n",
      "                                              }\n",
      "                                            }\n",
      "                                          }\n",
      "                                        }\n",
      "                                      }\n",
      "                                    }\n",
      "                                  }\n",
      "                                }\n",
      "                              },\n",
      "                              \"image2\": {\n",
      "                                \"functionInvocationValue\": {\n",
      "                                  \"functionName\": \"Image.constant\",\n",
      "                                  \"arguments\": {\n",
      "                                    \"value\": {\n",
      "                                      \"constantValue\": 0.02\n",
      "                                    }\n",
      "                                  }\n",
      "                                }\n",
      "                              }\n",
      "                            }\n",
      "                          }\n",
      "                        }\n",
      "                      }\n",
      "                    }\n",
      "                  },\n",
      "                  \"image2\": {\n",
      "                    \"functionInvocationValue\": {\n",
      "                      \"functionName\": \"Image.constant\",\n",
      "                      \"arguments\": {\n",
      "                        \"value\": {\n",
      "                          \"constantValue\": -273.15\n",
      "                        }\n",
      "                      }\n",
      "                    }\n",
      "                  }\n",
      "                }\n",
      "              }\n",
      "            },\n",
      "            \"property\": {\n",
      "              \"constantValue\": \"LST_Day_1km\"\n",
      "            }\n",
      "          }\n",
      "        }\n",
      "      }\n",
      "    }\n",
      "  }\n",
      "})\n"
     ]
    }
   ],
   "source": [
    "from IPython.display import Image\n",
    "\n",
    "# Create a URL to the styled image for a region around France.\n",
    "url = lst_img.getArray('LST_Day_1km')\n",
    "print(url)\n"
   ]
  },
  {
   "cell_type": "code",
   "execution_count": 34,
   "id": "9e464e0c-d14a-4d50-b97a-7413c18cfcf2",
   "metadata": {},
   "outputs": [
    {
     "ename": "InvalidSchema",
     "evalue": "No connection adapters were found for 'ee.Array({\\n  \"functionInvocationValue\": {\\n    \"functionName\": \"Array\",\\n    \"arguments\": {\\n      \"values\": {\\n        \"functionInvocationValue\": {\\n          \"functionName\": \"Element.getArray\",\\n          \"arguments\": {\\n            \"object\": {\\n              \"functionInvocationValue\": {\\n                \"functionName\": \"Image.add\",\\n                \"arguments\": {\\n                  \"image1\": {\\n                    \"functionInvocationValue\": {\\n                      \"functionName\": \"Image.select\",\\n                      \"arguments\": {\\n                        \"bandSelectors\": {\\n                          \"constantValue\": [\\n                            \"LST_Day_1km\"\\n                          ]\\n                        },\\n                        \"input\": {\\n                          \"functionInvocationValue\": {\\n                            \"functionName\": \"Image.multiply\",\\n                            \"arguments\": {\\n                              \"image1\": {\\n                                \"functionInvocationValue\": {\\n                                  \"functionName\": \"Image.select\",\\n                                  \"arguments\": {\\n                                    \"bandSelectors\": {\\n                                      \"constantValue\": [\\n                                        \"LST_Day_1km\"\\n                                      ]\\n                                    },\\n                                    \"input\": {\\n                                      \"functionInvocationValue\": {\\n                                        \"functionName\": \"reduce.mean\",\\n                                        \"arguments\": {\\n                                          \"collection\": {\\n                                            \"functionInvocationValue\": {\\n                                              \"functionName\": \"Collection.filter\",\\n                                              \"arguments\": {\\n                                                \"collection\": {\\n                                                  \"functionInvocationValue\": {\\n                                                    \"functionName\": \"Collection.map\",\\n                                                    \"arguments\": {\\n                                                      \"baseAlgorithm\": {\\n                                                        \"functionDefinitionValue\": {\\n                                                          \"argumentNames\": [\\n                                                            \"_MAPPING_VAR_0_0\"\\n                                                          ],\\n                                                          \"body\": {\\n                                                            \"functionInvocationValue\": {\\n                                                              \"functionName\": \"Image.select\",\\n                                                              \"arguments\": {\\n                                                                \"bandSelectors\": {\\n                                                                  \"constantValue\": [\\n                                                                    \"LST_Day_1km\",\\n                                                                    \"QC_Day\"\\n                                                                  ]\\n                                                                },\\n                                                                \"input\": {\\n                                                                  \"argumentReference\": \"_MAPPING_VAR_0_0\"\\n                                                                }\\n                                                              }\\n                                                            }\\n                                                          }\\n                                                        }\\n                                                      },\\n                                                      \"collection\": {\\n                                                        \"functionInvocationValue\": {\\n                                                          \"functionName\": \"ImageCollection.load\",\\n                                                          \"arguments\": {\\n                                                            \"id\": {\\n                                                              \"constantValue\": \"MODIS/006/MOD11A1\"\\n                                                            }\\n                                                          }\\n                                                        }\\n                                                      }\\n                                                    }\\n                                                  }\\n                                                },\\n                                                \"filter\": {\\n                                                  \"functionInvocationValue\": {\\n                                                    \"functionName\": \"Filter.dateRangeContains\",\\n                                                    \"arguments\": {\\n                                                      \"leftValue\": {\\n                                                        \"functionInvocationValue\": {\\n                                                          \"functionName\": \"DateRange\",\\n                                                          \"arguments\": {\\n                                                            \"end\": {\\n                                                              \"constantValue\": \"2020-01-01\"\\n                                                            },\\n                                                            \"start\": {\\n                                                              \"constantValue\": \"2017-01-01\"\\n                                                            }\\n                                                          }\\n                                                        }\\n                                                      },\\n                                                      \"rightField\": {\\n                                                        \"constantValue\": \"system:time_start\"\\n                                                      }\\n                                                    }\\n                                                  }\\n                                                }\\n                                              }\\n                                            }\\n                                          }\\n                                        }\\n                                      }\\n                                    }\\n                                  }\\n                                }\\n                              },\\n                              \"image2\": {\\n                                \"functionInvocationValue\": {\\n                                  \"functionName\": \"Image.constant\",\\n                                  \"arguments\": {\\n                                    \"value\": {\\n                                      \"constantValue\": 0.02\\n                                    }\\n                                  }\\n                                }\\n                              }\\n                            }\\n                          }\\n                        }\\n                      }\\n                    }\\n                  },\\n                  \"image2\": {\\n                    \"functionInvocationValue\": {\\n                      \"functionName\": \"Image.constant\",\\n                      \"arguments\": {\\n                        \"value\": {\\n                          \"constantValue\": -273.15\\n                        }\\n                      }\\n                    }\\n                  }\\n                }\\n              }\\n            },\\n            \"property\": {\\n              \"dictionaryValue\": {\\n                \"values\": {\\n                  \"dimensions\": {\\n                    \"constantValue\": 512\\n                  },\\n                  \"max\": {\\n                    \"constantValue\": 30\\n                  },\\n                  \"min\": {\\n                    \"constantValue\": 10\\n                  },\\n                  \"palette\": {\\n                    \"constantValue\": [\\n                      \"blue\",\\n                      \"yellow\",\\n                      \"orange\",\\n                      \"red\"\\n                    ]\\n                  },\\n                  \"region\": {\\n                    \"functionInvocationValue\": {\\n                      \"functionName\": \"Geometry.buffer\",\\n                      \"arguments\": {\\n                        \"distance\": {\\n                          \"constantValue\": 1000000.0\\n                        },\\n                        \"geometry\": {\\n                          \"functionInvocationValue\": {\\n                            \"functionName\": \"GeometryConstructors.Point\",\\n                            \"arguments\": {\\n                              \"coordinates\": {\\n                                \"constantValue\": [\\n                                  -73.2,\\n                                  -39.8\\n                                ]\\n                              }\\n                            }\\n                          }\\n                        }\\n                      }\\n                    }\\n                  }\\n                }\\n              }\\n            }\\n          }\\n        }\\n      }\\n    }\\n  }\\n})'",
     "output_type": "error",
     "traceback": [
      "\u001b[0;31m---------------------------------------------------------------------------\u001b[0m",
      "\u001b[0;31mInvalidSchema\u001b[0m                             Traceback (most recent call last)",
      "\u001b[0;32m/var/folders/s2/lnzc2s7j3t9ch7f10ppkfc5x4_fqxh/T/ipykernel_35332/2095023615.py\u001b[0m in \u001b[0;36m<module>\u001b[0;34m\u001b[0m\n\u001b[1;32m      1\u001b[0m \u001b[0;32mimport\u001b[0m \u001b[0mrequests\u001b[0m\u001b[0;34m\u001b[0m\u001b[0;34m\u001b[0m\u001b[0m\n\u001b[1;32m      2\u001b[0m \u001b[0;34m\u001b[0m\u001b[0m\n\u001b[0;32m----> 3\u001b[0;31m \u001b[0mr\u001b[0m \u001b[0;34m=\u001b[0m \u001b[0mrequests\u001b[0m\u001b[0;34m.\u001b[0m\u001b[0mget\u001b[0m\u001b[0;34m(\u001b[0m\u001b[0murl\u001b[0m\u001b[0;34m)\u001b[0m\u001b[0;34m\u001b[0m\u001b[0;34m\u001b[0m\u001b[0m\n\u001b[0m",
      "\u001b[0;32m~/opt/anaconda3/lib/python3.9/site-packages/requests/api.py\u001b[0m in \u001b[0;36mget\u001b[0;34m(url, params, **kwargs)\u001b[0m\n\u001b[1;32m     73\u001b[0m     \"\"\"\n\u001b[1;32m     74\u001b[0m \u001b[0;34m\u001b[0m\u001b[0m\n\u001b[0;32m---> 75\u001b[0;31m     \u001b[0;32mreturn\u001b[0m \u001b[0mrequest\u001b[0m\u001b[0;34m(\u001b[0m\u001b[0;34m'get'\u001b[0m\u001b[0;34m,\u001b[0m \u001b[0murl\u001b[0m\u001b[0;34m,\u001b[0m \u001b[0mparams\u001b[0m\u001b[0;34m=\u001b[0m\u001b[0mparams\u001b[0m\u001b[0;34m,\u001b[0m \u001b[0;34m**\u001b[0m\u001b[0mkwargs\u001b[0m\u001b[0;34m)\u001b[0m\u001b[0;34m\u001b[0m\u001b[0;34m\u001b[0m\u001b[0m\n\u001b[0m\u001b[1;32m     76\u001b[0m \u001b[0;34m\u001b[0m\u001b[0m\n\u001b[1;32m     77\u001b[0m \u001b[0;34m\u001b[0m\u001b[0m\n",
      "\u001b[0;32m~/opt/anaconda3/lib/python3.9/site-packages/requests/api.py\u001b[0m in \u001b[0;36mrequest\u001b[0;34m(method, url, **kwargs)\u001b[0m\n\u001b[1;32m     59\u001b[0m     \u001b[0;31m# cases, and look like a memory leak in others.\u001b[0m\u001b[0;34m\u001b[0m\u001b[0;34m\u001b[0m\u001b[0m\n\u001b[1;32m     60\u001b[0m     \u001b[0;32mwith\u001b[0m \u001b[0msessions\u001b[0m\u001b[0;34m.\u001b[0m\u001b[0mSession\u001b[0m\u001b[0;34m(\u001b[0m\u001b[0;34m)\u001b[0m \u001b[0;32mas\u001b[0m \u001b[0msession\u001b[0m\u001b[0;34m:\u001b[0m\u001b[0;34m\u001b[0m\u001b[0;34m\u001b[0m\u001b[0m\n\u001b[0;32m---> 61\u001b[0;31m         \u001b[0;32mreturn\u001b[0m \u001b[0msession\u001b[0m\u001b[0;34m.\u001b[0m\u001b[0mrequest\u001b[0m\u001b[0;34m(\u001b[0m\u001b[0mmethod\u001b[0m\u001b[0;34m=\u001b[0m\u001b[0mmethod\u001b[0m\u001b[0;34m,\u001b[0m \u001b[0murl\u001b[0m\u001b[0;34m=\u001b[0m\u001b[0murl\u001b[0m\u001b[0;34m,\u001b[0m \u001b[0;34m**\u001b[0m\u001b[0mkwargs\u001b[0m\u001b[0;34m)\u001b[0m\u001b[0;34m\u001b[0m\u001b[0;34m\u001b[0m\u001b[0m\n\u001b[0m\u001b[1;32m     62\u001b[0m \u001b[0;34m\u001b[0m\u001b[0m\n\u001b[1;32m     63\u001b[0m \u001b[0;34m\u001b[0m\u001b[0m\n",
      "\u001b[0;32m~/opt/anaconda3/lib/python3.9/site-packages/requests/sessions.py\u001b[0m in \u001b[0;36mrequest\u001b[0;34m(self, method, url, params, data, headers, cookies, files, auth, timeout, allow_redirects, proxies, hooks, stream, verify, cert, json)\u001b[0m\n\u001b[1;32m    540\u001b[0m         }\n\u001b[1;32m    541\u001b[0m         \u001b[0msend_kwargs\u001b[0m\u001b[0;34m.\u001b[0m\u001b[0mupdate\u001b[0m\u001b[0;34m(\u001b[0m\u001b[0msettings\u001b[0m\u001b[0;34m)\u001b[0m\u001b[0;34m\u001b[0m\u001b[0;34m\u001b[0m\u001b[0m\n\u001b[0;32m--> 542\u001b[0;31m         \u001b[0mresp\u001b[0m \u001b[0;34m=\u001b[0m \u001b[0mself\u001b[0m\u001b[0;34m.\u001b[0m\u001b[0msend\u001b[0m\u001b[0;34m(\u001b[0m\u001b[0mprep\u001b[0m\u001b[0;34m,\u001b[0m \u001b[0;34m**\u001b[0m\u001b[0msend_kwargs\u001b[0m\u001b[0;34m)\u001b[0m\u001b[0;34m\u001b[0m\u001b[0;34m\u001b[0m\u001b[0m\n\u001b[0m\u001b[1;32m    543\u001b[0m \u001b[0;34m\u001b[0m\u001b[0m\n\u001b[1;32m    544\u001b[0m         \u001b[0;32mreturn\u001b[0m \u001b[0mresp\u001b[0m\u001b[0;34m\u001b[0m\u001b[0;34m\u001b[0m\u001b[0m\n",
      "\u001b[0;32m~/opt/anaconda3/lib/python3.9/site-packages/requests/sessions.py\u001b[0m in \u001b[0;36msend\u001b[0;34m(self, request, **kwargs)\u001b[0m\n\u001b[1;32m    647\u001b[0m \u001b[0;34m\u001b[0m\u001b[0m\n\u001b[1;32m    648\u001b[0m         \u001b[0;31m# Get the appropriate adapter to use\u001b[0m\u001b[0;34m\u001b[0m\u001b[0;34m\u001b[0m\u001b[0m\n\u001b[0;32m--> 649\u001b[0;31m         \u001b[0madapter\u001b[0m \u001b[0;34m=\u001b[0m \u001b[0mself\u001b[0m\u001b[0;34m.\u001b[0m\u001b[0mget_adapter\u001b[0m\u001b[0;34m(\u001b[0m\u001b[0murl\u001b[0m\u001b[0;34m=\u001b[0m\u001b[0mrequest\u001b[0m\u001b[0;34m.\u001b[0m\u001b[0murl\u001b[0m\u001b[0;34m)\u001b[0m\u001b[0;34m\u001b[0m\u001b[0;34m\u001b[0m\u001b[0m\n\u001b[0m\u001b[1;32m    650\u001b[0m \u001b[0;34m\u001b[0m\u001b[0m\n\u001b[1;32m    651\u001b[0m         \u001b[0;31m# Start time (approximately) of the request\u001b[0m\u001b[0;34m\u001b[0m\u001b[0;34m\u001b[0m\u001b[0m\n",
      "\u001b[0;32m~/opt/anaconda3/lib/python3.9/site-packages/requests/sessions.py\u001b[0m in \u001b[0;36mget_adapter\u001b[0;34m(self, url)\u001b[0m\n\u001b[1;32m    740\u001b[0m \u001b[0;34m\u001b[0m\u001b[0m\n\u001b[1;32m    741\u001b[0m         \u001b[0;31m# Nothing matches :-/\u001b[0m\u001b[0;34m\u001b[0m\u001b[0;34m\u001b[0m\u001b[0m\n\u001b[0;32m--> 742\u001b[0;31m         \u001b[0;32mraise\u001b[0m \u001b[0mInvalidSchema\u001b[0m\u001b[0;34m(\u001b[0m\u001b[0;34m\"No connection adapters were found for {!r}\"\u001b[0m\u001b[0;34m.\u001b[0m\u001b[0mformat\u001b[0m\u001b[0;34m(\u001b[0m\u001b[0murl\u001b[0m\u001b[0;34m)\u001b[0m\u001b[0;34m)\u001b[0m\u001b[0;34m\u001b[0m\u001b[0;34m\u001b[0m\u001b[0m\n\u001b[0m\u001b[1;32m    743\u001b[0m \u001b[0;34m\u001b[0m\u001b[0m\n\u001b[1;32m    744\u001b[0m     \u001b[0;32mdef\u001b[0m \u001b[0mclose\u001b[0m\u001b[0;34m(\u001b[0m\u001b[0mself\u001b[0m\u001b[0;34m)\u001b[0m\u001b[0;34m:\u001b[0m\u001b[0;34m\u001b[0m\u001b[0;34m\u001b[0m\u001b[0m\n",
      "\u001b[0;31mInvalidSchema\u001b[0m: No connection adapters were found for 'ee.Array({\\n  \"functionInvocationValue\": {\\n    \"functionName\": \"Array\",\\n    \"arguments\": {\\n      \"values\": {\\n        \"functionInvocationValue\": {\\n          \"functionName\": \"Element.getArray\",\\n          \"arguments\": {\\n            \"object\": {\\n              \"functionInvocationValue\": {\\n                \"functionName\": \"Image.add\",\\n                \"arguments\": {\\n                  \"image1\": {\\n                    \"functionInvocationValue\": {\\n                      \"functionName\": \"Image.select\",\\n                      \"arguments\": {\\n                        \"bandSelectors\": {\\n                          \"constantValue\": [\\n                            \"LST_Day_1km\"\\n                          ]\\n                        },\\n                        \"input\": {\\n                          \"functionInvocationValue\": {\\n                            \"functionName\": \"Image.multiply\",\\n                            \"arguments\": {\\n                              \"image1\": {\\n                                \"functionInvocationValue\": {\\n                                  \"functionName\": \"Image.select\",\\n                                  \"arguments\": {\\n                                    \"bandSelectors\": {\\n                                      \"constantValue\": [\\n                                        \"LST_Day_1km\"\\n                                      ]\\n                                    },\\n                                    \"input\": {\\n                                      \"functionInvocationValue\": {\\n                                        \"functionName\": \"reduce.mean\",\\n                                        \"arguments\": {\\n                                          \"collection\": {\\n                                            \"functionInvocationValue\": {\\n                                              \"functionName\": \"Collection.filter\",\\n                                              \"arguments\": {\\n                                                \"collection\": {\\n                                                  \"functionInvocationValue\": {\\n                                                    \"functionName\": \"Collection.map\",\\n                                                    \"arguments\": {\\n                                                      \"baseAlgorithm\": {\\n                                                        \"functionDefinitionValue\": {\\n                                                          \"argumentNames\": [\\n                                                            \"_MAPPING_VAR_0_0\"\\n                                                          ],\\n                                                          \"body\": {\\n                                                            \"functionInvocationValue\": {\\n                                                              \"functionName\": \"Image.select\",\\n                                                              \"arguments\": {\\n                                                                \"bandSelectors\": {\\n                                                                  \"constantValue\": [\\n                                                                    \"LST_Day_1km\",\\n                                                                    \"QC_Day\"\\n                                                                  ]\\n                                                                },\\n                                                                \"input\": {\\n                                                                  \"argumentReference\": \"_MAPPING_VAR_0_0\"\\n                                                                }\\n                                                              }\\n                                                            }\\n                                                          }\\n                                                        }\\n                                                      },\\n                                                      \"collection\": {\\n                                                        \"functionInvocationValue\": {\\n                                                          \"functionName\": \"ImageCollection.load\",\\n                                                          \"arguments\": {\\n                                                            \"id\": {\\n                                                              \"constantValue\": \"MODIS/006/MOD11A1\"\\n                                                            }\\n                                                          }\\n                                                        }\\n                                                      }\\n                                                    }\\n                                                  }\\n                                                },\\n                                                \"filter\": {\\n                                                  \"functionInvocationValue\": {\\n                                                    \"functionName\": \"Filter.dateRangeContains\",\\n                                                    \"arguments\": {\\n                                                      \"leftValue\": {\\n                                                        \"functionInvocationValue\": {\\n                                                          \"functionName\": \"DateRange\",\\n                                                          \"arguments\": {\\n                                                            \"end\": {\\n                                                              \"constantValue\": \"2020-01-01\"\\n                                                            },\\n                                                            \"start\": {\\n                                                              \"constantValue\": \"2017-01-01\"\\n                                                            }\\n                                                          }\\n                                                        }\\n                                                      },\\n                                                      \"rightField\": {\\n                                                        \"constantValue\": \"system:time_start\"\\n                                                      }\\n                                                    }\\n                                                  }\\n                                                }\\n                                              }\\n                                            }\\n                                          }\\n                                        }\\n                                      }\\n                                    }\\n                                  }\\n                                }\\n                              },\\n                              \"image2\": {\\n                                \"functionInvocationValue\": {\\n                                  \"functionName\": \"Image.constant\",\\n                                  \"arguments\": {\\n                                    \"value\": {\\n                                      \"constantValue\": 0.02\\n                                    }\\n                                  }\\n                                }\\n                              }\\n                            }\\n                          }\\n                        }\\n                      }\\n                    }\\n                  },\\n                  \"image2\": {\\n                    \"functionInvocationValue\": {\\n                      \"functionName\": \"Image.constant\",\\n                      \"arguments\": {\\n                        \"value\": {\\n                          \"constantValue\": -273.15\\n                        }\\n                      }\\n                    }\\n                  }\\n                }\\n              }\\n            },\\n            \"property\": {\\n              \"dictionaryValue\": {\\n                \"values\": {\\n                  \"dimensions\": {\\n                    \"constantValue\": 512\\n                  },\\n                  \"max\": {\\n                    \"constantValue\": 30\\n                  },\\n                  \"min\": {\\n                    \"constantValue\": 10\\n                  },\\n                  \"palette\": {\\n                    \"constantValue\": [\\n                      \"blue\",\\n                      \"yellow\",\\n                      \"orange\",\\n                      \"red\"\\n                    ]\\n                  },\\n                  \"region\": {\\n                    \"functionInvocationValue\": {\\n                      \"functionName\": \"Geometry.buffer\",\\n                      \"arguments\": {\\n                        \"distance\": {\\n                          \"constantValue\": 1000000.0\\n                        },\\n                        \"geometry\": {\\n                          \"functionInvocationValue\": {\\n                            \"functionName\": \"GeometryConstructors.Point\",\\n                            \"arguments\": {\\n                              \"coordinates\": {\\n                                \"constantValue\": [\\n                                  -73.2,\\n                                  -39.8\\n                                ]\\n                              }\\n                            }\\n                          }\\n                        }\\n                      }\\n                    }\\n                  }\\n                }\\n              }\\n            }\\n          }\\n        }\\n      }\\n    }\\n  }\\n})'"
     ]
    }
   ],
   "source": [
    "import requests\n",
    "\n",
    "r = requests.get(url)"
   ]
  },
  {
   "cell_type": "code",
   "execution_count": 32,
   "id": "0ea33e5e-652f-400a-ae4a-b8564cfa4537",
   "metadata": {},
   "outputs": [
    {
     "data": {
      "text/plain": [
       "'<!DOCTYPE html>\\n<html lang=en>\\n  <meta charset=utf-8>\\n  <meta name=viewport content=\"initial-scale=1, minimum-scale=1, width=device-width\">\\n  <title>Error 404 (Not Found)!!1</title>\\n  <style>\\n    *{margin:0;padding:0}html,code{font:15px/22px arial,sans-serif}html{background:#fff;color:#222;padding:15px}body{margin:7% auto 0;max-width:390px;min-height:180px;padding:30px 0 15px}* > body{background:url(//www.google.com/images/errors/robot.png) 100% 5px no-repeat;padding-right:205px}p{margin:11px 0 22px;overflow:hidden}ins{color:#777;text-decoration:none}a img{border:0}@media screen and (max-width:772px){body{background:none;margin-top:0;max-width:none;padding-right:0}}#logo{background:url(//www.google.com/images/branding/googlelogo/1x/googlelogo_color_150x54dp.png) no-repeat;margin-left:-5px}@media only screen and (min-resolution:192dpi){#logo{background:url(//www.google.com/images/branding/googlelogo/2x/googlelogo_color_150x54dp.png) no-repeat 0% 0%/100% 100%;-moz-border-image:url(//www.google.com/images/branding/googlelogo/2x/googlelogo_color_150x54dp.png) 0}}@media only screen and (-webkit-min-device-pixel-ratio:2){#logo{background:url(//www.google.com/images/branding/googlelogo/2x/googlelogo_color_150x54dp.png) no-repeat;-webkit-background-size:100% 100%}}#logo{display:inline-block;height:54px;width:150px}\\n  </style>\\n  <a href=//www.google.com/><span id=logo aria-label=Google></span></a>\\n  <p><b>404.</b> <ins>That’s an error.</ins>\\n  <p>The requested URL <code>/v1alpha/projects/earthengine-legacy/thumbnails/d8883755009d0c366baf8a3d93849a8c-784df19a39e05f968af0f55039962b9d</code> was not found on this server.  <ins>That’s all we know.</ins>\\n'"
      ]
     },
     "execution_count": 32,
     "metadata": {},
     "output_type": "execute_result"
    }
   ],
   "source": [
    "r.text"
   ]
  },
  {
   "cell_type": "code",
   "execution_count": null,
   "id": "64970a67-00a6-4450-bad0-c93d416058b3",
   "metadata": {},
   "outputs": [],
   "source": []
  },
  {
   "cell_type": "code",
   "execution_count": null,
   "id": "91e32a9a-b2a8-4fa9-9e10-7a095b148838",
   "metadata": {},
   "outputs": [],
   "source": []
  },
  {
   "cell_type": "code",
   "execution_count": 18,
   "id": "917b8ed9-d70a-4043-bc28-e55ac01c51b2",
   "metadata": {},
   "outputs": [
    {
     "data": {
      "text/html": [
       "<img src=\"https://earthengine.googleapis.com/v1alpha/projects/earthengine-legacy/thumbnails/6727dff4687b9d0da22d945c237bbbaf-d59dfbd63e14a0a0f625c889f614760d:getPixels\"/>"
      ],
      "text/plain": [
       "<IPython.core.display.Image object>"
      ]
     },
     "execution_count": 18,
     "metadata": {},
     "output_type": "execute_result"
    }
   ],
   "source": [
    "# Make pixels with elevation below sea level transparent.\n",
    "elv_img = elv.updateMask(elv.gt(0))\n",
    "\n",
    "# Display the thumbnail of styled elevation in France.\n",
    "Image(url=elv_img.getThumbURL({\n",
    "    'min': 0, 'max': 2000, 'dimensions': 512, 'region': roi,\n",
    "    'palette': ['006633', 'E5FFCC', '662A00', 'D8D8D8', 'F5F5F5']}))"
   ]
  },
  {
   "cell_type": "code",
   "execution_count": 19,
   "id": "bf5f49ca-8a71-409a-91b1-5915cd139f7d",
   "metadata": {},
   "outputs": [
    {
     "data": {
      "text/html": [
       "<img src=\"https://earthengine.googleapis.com/v1alpha/projects/earthengine-legacy/thumbnails/43a3ee9ddaade751152b5bd937669170-33ef9d24bcd9dd62fdbd3d6a8c1bcefb:getPixels\"/>"
      ],
      "text/plain": [
       "<IPython.core.display.Image object>"
      ]
     },
     "execution_count": 19,
     "metadata": {},
     "output_type": "execute_result"
    }
   ],
   "source": [
    "# Create a buffer zone of 10 km around Lyon.\n",
    "lyon = u_poi.buffer(10000)  # meters\n",
    "\n",
    "url = elv_img.getThumbUrl({\n",
    "    'min': 150, 'max': 350, 'region': lyon, 'dimensions': 512,\n",
    "    'palette': ['006633', 'E5FFCC', '662A00', 'D8D8D8', 'F5F5F5']})\n",
    "Image(url=url)"
   ]
  },
  {
   "cell_type": "code",
   "execution_count": 22,
   "id": "a91136f1-2f8b-4f37-8967-6267e6d967f3",
   "metadata": {},
   "outputs": [
    {
     "data": {
      "text/html": [
       "<img src=\"https://earthengine.googleapis.com/v1alpha/projects/earthengine-legacy/thumbnails/b7befd2c87babc15cdce2fca6c6697ba-615b980de47a19fc7f6f4f5c2acc8e7a:getPixels\"/>"
      ],
      "text/plain": [
       "<IPython.core.display.Image object>"
      ]
     },
     "execution_count": 22,
     "metadata": {},
     "output_type": "execute_result"
    }
   ],
   "source": [
    "# Get a feature collection of administrative boundaries.\n",
    "countries = ee.FeatureCollection('FAO/GAUL/2015/level0').select('ADM0_NAME')\n",
    "\n",
    "# Filter the feature collection to subset France.\n",
    "chile = countries.filter(ee.Filter.eq('ADM0_NAME', 'Chile'))\n",
    "\n",
    "# Clip the image by France.\n",
    "elv_fr = elv_img.clip(chile)\n",
    "\n",
    "# Create the URL associated with the styled image data.\n",
    "url = elv_fr.getThumbUrl({\n",
    "    'min': 0, 'max': 2500, 'region': roi, 'dimensions': 512,\n",
    "    'palette': ['006633', 'E5FFCC', '662A00', 'D8D8D8', 'F5F5F5']})\n",
    "\n",
    "# Display a thumbnail of elevation in France.\n",
    "Image(url=url)"
   ]
  },
  {
   "cell_type": "code",
   "execution_count": null,
   "id": "8082f525-d5a6-49f2-9704-ee9ba8844116",
   "metadata": {},
   "outputs": [],
   "source": []
  }
 ],
 "metadata": {
  "kernelspec": {
   "display_name": "vuelvealoceano",
   "language": "python",
   "name": "vuelvealoceano"
  },
  "language_info": {
   "codemirror_mode": {
    "name": "ipython",
    "version": 3
   },
   "file_extension": ".py",
   "mimetype": "text/x-python",
   "name": "python",
   "nbconvert_exporter": "python",
   "pygments_lexer": "ipython3",
   "version": "3.9.7"
  },
  "widgets": {
   "application/vnd.jupyter.widget-state+json": {
    "state": {},
    "version_major": 2,
    "version_minor": 0
   }
  }
 },
 "nbformat": 4,
 "nbformat_minor": 5
}
