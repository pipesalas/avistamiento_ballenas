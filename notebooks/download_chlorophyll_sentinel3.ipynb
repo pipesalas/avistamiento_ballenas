{
 "cells": [
  {
   "cell_type": "code",
   "execution_count": 3,
   "id": "59747471",
   "metadata": {},
   "outputs": [
    {
     "name": "stdout",
     "output_type": "stream",
     "text": [
      "Requirement already satisfied: sentinelhub in /Users/59011/anaconda3/envs/vuelvealoceano/lib/python3.9/site-packages (3.10.0)\n",
      "Requirement already satisfied: tomli in /Users/59011/anaconda3/envs/vuelvealoceano/lib/python3.9/site-packages (from sentinelhub) (2.0.1)\n",
      "Requirement already satisfied: requests-oauthlib>=1.0.0 in /Users/59011/anaconda3/envs/vuelvealoceano/lib/python3.9/site-packages (from sentinelhub) (1.3.1)\n",
      "Requirement already satisfied: typing-extensions>=4.5.0 in /Users/59011/anaconda3/envs/vuelvealoceano/lib/python3.9/site-packages (from sentinelhub) (4.5.0)\n",
      "Requirement already satisfied: tomli-w in /Users/59011/anaconda3/envs/vuelvealoceano/lib/python3.9/site-packages (from sentinelhub) (1.0.0)\n",
      "Requirement already satisfied: pillow>=9.2.0 in /Users/59011/anaconda3/envs/vuelvealoceano/lib/python3.9/site-packages (from sentinelhub) (9.5.0)\n",
      "Requirement already satisfied: click in /Users/59011/anaconda3/envs/vuelvealoceano/lib/python3.9/site-packages (from sentinelhub) (8.1.3)\n",
      "Requirement already satisfied: utm in /Users/59011/anaconda3/envs/vuelvealoceano/lib/python3.9/site-packages (from sentinelhub) (0.7.0)\n",
      "Requirement already satisfied: aenum>=2.1.4 in /Users/59011/anaconda3/envs/vuelvealoceano/lib/python3.9/site-packages (from sentinelhub) (3.1.15)\n",
      "Requirement already satisfied: pyproj>=2.2.0 in /Users/59011/anaconda3/envs/vuelvealoceano/lib/python3.9/site-packages (from sentinelhub) (3.5.0)\n",
      "Requirement already satisfied: python-dateutil in /Users/59011/anaconda3/envs/vuelvealoceano/lib/python3.9/site-packages (from sentinelhub) (2.8.2)\n",
      "Requirement already satisfied: tqdm in /Users/59011/anaconda3/envs/vuelvealoceano/lib/python3.9/site-packages (from sentinelhub) (4.66.1)\n",
      "Requirement already satisfied: numpy in /Users/59011/anaconda3/envs/vuelvealoceano/lib/python3.9/site-packages (from sentinelhub) (1.24.2)\n",
      "Requirement already satisfied: tifffile>=2020.9.30 in /Users/59011/anaconda3/envs/vuelvealoceano/lib/python3.9/site-packages (from sentinelhub) (2023.12.9)\n",
      "Requirement already satisfied: dataclasses-json in /Users/59011/anaconda3/envs/vuelvealoceano/lib/python3.9/site-packages (from sentinelhub) (0.6.3)\n",
      "Requirement already satisfied: oauthlib in /Users/59011/anaconda3/envs/vuelvealoceano/lib/python3.9/site-packages (from sentinelhub) (3.2.2)\n",
      "Requirement already satisfied: shapely in /Users/59011/anaconda3/envs/vuelvealoceano/lib/python3.9/site-packages (from sentinelhub) (2.0.1)\n",
      "Requirement already satisfied: requests>=2.27.0 in /Users/59011/anaconda3/envs/vuelvealoceano/lib/python3.9/site-packages (from sentinelhub) (2.28.2)\n",
      "Requirement already satisfied: certifi in /Users/59011/anaconda3/envs/vuelvealoceano/lib/python3.9/site-packages (from pyproj>=2.2.0->sentinelhub) (2022.12.7)\n",
      "Requirement already satisfied: urllib3<1.27,>=1.21.1 in /Users/59011/anaconda3/envs/vuelvealoceano/lib/python3.9/site-packages (from requests>=2.27.0->sentinelhub) (1.26.15)\n",
      "Requirement already satisfied: idna<4,>=2.5 in /Users/59011/anaconda3/envs/vuelvealoceano/lib/python3.9/site-packages (from requests>=2.27.0->sentinelhub) (3.4)\n",
      "Requirement already satisfied: charset-normalizer<4,>=2 in /Users/59011/anaconda3/envs/vuelvealoceano/lib/python3.9/site-packages (from requests>=2.27.0->sentinelhub) (3.1.0)\n",
      "Requirement already satisfied: typing-inspect<1,>=0.4.0 in /Users/59011/anaconda3/envs/vuelvealoceano/lib/python3.9/site-packages (from dataclasses-json->sentinelhub) (0.9.0)\n",
      "Requirement already satisfied: marshmallow<4.0.0,>=3.18.0 in /Users/59011/anaconda3/envs/vuelvealoceano/lib/python3.9/site-packages (from dataclasses-json->sentinelhub) (3.20.1)\n",
      "Requirement already satisfied: six>=1.5 in /Users/59011/anaconda3/envs/vuelvealoceano/lib/python3.9/site-packages (from python-dateutil->sentinelhub) (1.16.0)\n",
      "Requirement already satisfied: packaging>=17.0 in /Users/59011/anaconda3/envs/vuelvealoceano/lib/python3.9/site-packages (from marshmallow<4.0.0,>=3.18.0->dataclasses-json->sentinelhub) (23.1)\n",
      "Requirement already satisfied: mypy-extensions>=0.3.0 in /Users/59011/anaconda3/envs/vuelvealoceano/lib/python3.9/site-packages (from typing-inspect<1,>=0.4.0->dataclasses-json->sentinelhub) (1.0.0)\n"
     ]
    }
   ],
   "source": [
    "!pip install --upgrade sentinelhub\n"
   ]
  },
  {
   "cell_type": "code",
   "execution_count": 7,
   "id": "5d6b7349",
   "metadata": {},
   "outputs": [
    {
     "ename": "ImportError",
     "evalue": "cannot import name 'AwsTile' from 'sentinelhub' (/Users/59011/anaconda3/envs/vuelvealoceano/lib/python3.9/site-packages/sentinelhub/__init__.py)",
     "output_type": "error",
     "traceback": [
      "\u001b[0;31m---------------------------------------------------------------------------\u001b[0m",
      "\u001b[0;31mImportError\u001b[0m                               Traceback (most recent call last)",
      "Cell \u001b[0;32mIn[7], line 4\u001b[0m\n\u001b[1;32m      2\u001b[0m \u001b[38;5;28;01mfrom\u001b[39;00m \u001b[38;5;21;01mdatetime\u001b[39;00m \u001b[38;5;28;01mimport\u001b[39;00m datetime\n\u001b[1;32m      3\u001b[0m \u001b[38;5;28;01mimport\u001b[39;00m \u001b[38;5;21;01mpandas\u001b[39;00m \u001b[38;5;28;01mas\u001b[39;00m \u001b[38;5;21;01mpd\u001b[39;00m\n\u001b[0;32m----> 4\u001b[0m \u001b[38;5;28;01mfrom\u001b[39;00m \u001b[38;5;21;01msentinelhub\u001b[39;00m \u001b[38;5;28;01mimport\u001b[39;00m BBox, CRS, SHConfig, SentinelHubRequest, AwsTile, MimeType, SentinelHubAws\n\u001b[1;32m      6\u001b[0m \u001b[38;5;66;03m# Set your Sentinel Hub API key\u001b[39;00m\n\u001b[1;32m      7\u001b[0m \u001b[38;5;66;03m# You can obtain it by signing up at https://www.sentinel-hub.com/\u001b[39;00m\n\u001b[1;32m      9\u001b[0m config \u001b[38;5;241m=\u001b[39m SHConfig()\n",
      "\u001b[0;31mImportError\u001b[0m: cannot import name 'AwsTile' from 'sentinelhub' (/Users/59011/anaconda3/envs/vuelvealoceano/lib/python3.9/site-packages/sentinelhub/__init__.py)"
     ]
    }
   ],
   "source": [
    "import os\n",
    "from datetime import datetime\n",
    "import pandas as pd\n",
    "from sentinelhub import BBox, CRS, SHConfig, SentinelHubRequest, AwsTile, MimeType, SentinelHubAws\n",
    "\n",
    "# Set your Sentinel Hub API key\n",
    "# You can obtain it by signing up at https://www.sentinel-hub.com/\n",
    "\n",
    "config = SHConfig()\n",
    "\n",
    "# Set the region of interest (ROI) and time range\n",
    "roi = BBox(bbox=[-73.7, -40, -73, -39], crs=CRS.WGS84)\n",
    "start_time = datetime(2023, 1, 1)\n",
    "end_time = datetime(2023, 12, 31)\n",
    "\n",
    "# Set up SentinelHubRequest parameters for surface temperature and chlorophyll concentration\n",
    "layer = 'COPERNICUS/S3/OLCI'\n",
    "bands = ['surface_temperature', 'chlorophyll_concentration']\n",
    "data_folder = 'data'  # Folder to store downloaded data\n",
    "\n",
    "# Create data folder if it doesn't exist\n",
    "os.makedirs(data_folder, exist_ok=True)\n",
    "\n",
    "# Function to download and parse data into a pandas dataframe\n",
    "def download_and_parse_data():\n",
    "    request = SentinelHubRequest(\n",
    "        evalscript=\"\"\"\n",
    "        //VERSION=3\n",
    "        function setup() {\n",
    "            return {\n",
    "                input: [{\n",
    "                    bands: [\"surface_temperature\", \"chlorophyll_concentration\"]\n",
    "                }],\n",
    "                output: [\n",
    "                    {\n",
    "                        id: \"output\",\n",
    "                        bands: 2,\n",
    "                        sampleType: SampleType.FLOAT32\n",
    "                    }\n",
    "                ]\n",
    "            };\n",
    "        }\n",
    "\n",
    "        function evaluatePixel(sample) {\n",
    "            return [sample.surface_temperature, sample.chlorophyll_concentration];\n",
    "        }\n",
    "        \"\"\",\n",
    "        input_data=[\n",
    "            SentinelHubRequest.input_data(\n",
    "                data_source=AwsTile(\n",
    "                    tile_id='your_tile_id',\n",
    "                    time=(start_time, end_time)\n",
    "                ),\n",
    "                dataset='OLCI',\n",
    "                bands=bands,\n",
    "            )\n",
    "        ],\n",
    "        bbox=roi,\n",
    "        width=512,\n",
    "        height=512,\n",
    "        config=config,\n",
    "        data_folder=data_folder,\n",
    "        safe_format=True,\n",
    "        resolution=(0.01, -0.01),\n",
    "        image_format=MimeType.TIFF,\n",
    "    )\n",
    "\n",
    "    data = request.get_data(save_data=True)\n",
    "    return data\n",
    "\n",
    "# Download and parse data\n",
    "download_and_parse_data()\n",
    "\n",
    "# Load data into a pandas dataframe\n",
    "df = pd.read_csv(os.path.join(data_folder, 'output.csv'), header=None, names=bands)\n",
    "\n",
    "# Print the dataframe\n",
    "print(df)\n"
   ]
  },
  {
   "cell_type": "code",
   "execution_count": 5,
   "id": "8287f1e0",
   "metadata": {},
   "outputs": [],
   "source": [
    "import numpy as np\n",
    "\n",
    "def largo_techo(altura_1, altura_2, base: float = 2.44):\n",
    "    return np.sqrt(base**2 + (altura_1-altura_2)**2)\n",
    "\n",
    "    "
   ]
  },
  {
   "cell_type": "code",
   "execution_count": 4,
   "id": "95bdd02d",
   "metadata": {},
   "outputs": [
    {
     "data": {
      "text/plain": [
       "[122, 244, 366, 488, 610, 732]"
      ]
     },
     "execution_count": 4,
     "metadata": {},
     "output_type": "execute_result"
    }
   ],
   "source": [
    "[122*k for k in range(1,7)]"
   ]
  },
  {
   "cell_type": "code",
   "execution_count": 8,
   "id": "c8a0a1e0",
   "metadata": {},
   "outputs": [
    {
     "data": {
      "text/plain": [
       "2.625737991498771"
      ]
     },
     "execution_count": 8,
     "metadata": {},
     "output_type": "execute_result"
    }
   ],
   "source": [
    "largo_techo(2.44, 3.41)"
   ]
  },
  {
   "cell_type": "code",
   "execution_count": 5,
   "id": "4ed9a5d9",
   "metadata": {},
   "outputs": [
    {
     "ename": "NameError",
     "evalue": "name 'SHConfig' is not defined",
     "output_type": "error",
     "traceback": [
      "\u001b[0;31m---------------------------------------------------------------------------\u001b[0m",
      "\u001b[0;31mNameError\u001b[0m                                 Traceback (most recent call last)",
      "Cell \u001b[0;32mIn[5], line 4\u001b[0m\n\u001b[1;32m      1\u001b[0m \u001b[38;5;66;03m# Set your Sentinel Hub API key\u001b[39;00m\n\u001b[1;32m      2\u001b[0m \u001b[38;5;66;03m# You can obtain it by signing up at https://www.sentinel-hub.com/\u001b[39;00m\n\u001b[0;32m----> 4\u001b[0m config \u001b[38;5;241m=\u001b[39m \u001b[43mSHConfig\u001b[49m()\n\u001b[1;32m      5\u001b[0m config\u001b[38;5;241m.\u001b[39msh_client_id \u001b[38;5;241m=\u001b[39m \u001b[38;5;124m'\u001b[39m\u001b[38;5;124m4932a255-efeb-4941-b254-bb24bb47bc10\u001b[39m\u001b[38;5;124m'\u001b[39m\n\u001b[1;32m      6\u001b[0m config\u001b[38;5;241m.\u001b[39msh_client_secret \u001b[38;5;241m=\u001b[39m \u001b[38;5;124m'\u001b[39m\u001b[38;5;124miS0d0oHFLF83qGOz6y8YuO4hCyyQYNoi\u001b[39m\u001b[38;5;124m'\u001b[39m\n",
      "\u001b[0;31mNameError\u001b[0m: name 'SHConfig' is not defined"
     ]
    }
   ],
   "source": [
    "pi\n",
    "# Set your Sentinel Hub API key\n",
    "# You can obtain it by signing up at https://www.sentinel-hub.com/\n",
    "\n",
    "config = SHConfig()\n",
    "config.sh_client_id = '4932a255-efeb-4941-b254-bb24bb47bc10'\n",
    "config.sh_client_secret = 'iS0d0oHFLF83qGOz6y8YuO4hCyyQYNoi'\n"
   ]
  },
  {
   "cell_type": "code",
   "execution_count": null,
   "id": "ad6b2d25",
   "metadata": {},
   "outputs": [],
   "source": [
    "\n",
    "# Set the region of interest (ROI) and time range\n",
    "roi = BBox(bbox=[-73.7, -40, -73, -39], crs=CRS.WGS84)\n",
    "start_time = datetime(2023, 1, 1)\n",
    "end_time = datetime(2023, 12, 31)\n",
    "\n",
    "# Set up SentinelHubRequest parameters for surface temperature and chlorophyll concentration\n",
    "layer = 'COPERNICUS/S3/OLCI'\n",
    "bands = ['surface_temperature', 'chlorophyll_concentration']\n",
    "data_folder = 'data'  # Folder to store downloaded data\n",
    "\n",
    "# Create data folder if it doesn't exist\n",
    "os.makedirs(data_folder, exist_ok=True)\n",
    "\n",
    "# Function to download and parse data into a pandas dataframe\n",
    "def download_and_parse_data():\n",
    "    request = SentinelHubRequest(\n",
    "        evalscript=\"\"\"\n",
    "        //VERSION=3\n",
    "        function setup() {\n",
    "            return {\n",
    "                input: [{\n",
    "                    bands: [\"surface_temperature\", \"chlorophyll_concentration\"]\n",
    "                }],\n",
    "                output: [\n",
    "                    {\n",
    "                        id: \"output\",\n",
    "                        bands: 2,\n",
    "                        sampleType: SampleType.FLOAT32\n",
    "                    }\n",
    "                ]\n",
    "            };\n",
    "        }\n",
    "\n",
    "        function evaluatePixel(sample) {\n",
    "            return [sample.surface_temperature, sample.chlorophyll_concentration];\n",
    "        }\n",
    "        \"\"\",\n",
    "        input_data=[\n",
    "            SentinelHubRequest.input_data(\n",
    "                data_source=DataSource.SENTINEL3,\n",
    "                dataset='OLCI',\n",
    "                bands=bands,\n",
    "            )\n",
    "        ],\n",
    "        bbox=roi,\n",
    "        time=(start_time, end_time),\n",
    "        width=512,\n",
    "        height=512,\n",
    "        config=config,\n",
    "        data_folder=data_folder,\n",
    "        safe_format=True,\n",
    "        resolution=(0.01, -0.01),\n",
    "        image_format=MimeType.TIFF,\n",
    "    )\n",
    "\n",
    "    data = request.get_data(save_data=True)\n",
    "    return data\n",
    "\n",
    "# Download and parse data\n",
    "download_and_parse_data()\n",
    "\n",
    "# Load data into a pandas dataframe\n",
    "df = pd.read_csv(os.path.join(data_folder, 'output.csv'), header=None, names=bands)\n",
    "\n",
    "# Print the dataframe\n",
    "print(df)\n"
   ]
  },
  {
   "cell_type": "code",
   "execution_count": null,
   "id": "8c66c67a",
   "metadata": {},
   "outputs": [],
   "source": []
  }
 ],
 "metadata": {
  "kernelspec": {
   "display_name": "vuelvealoceano",
   "language": "python",
   "name": "python3"
  },
  "language_info": {
   "codemirror_mode": {
    "name": "ipython",
    "version": 3
   },
   "file_extension": ".py",
   "mimetype": "text/x-python",
   "name": "python",
   "nbconvert_exporter": "python",
   "pygments_lexer": "ipython3",
   "version": "3.9.16"
  },
  "widgets": {
   "application/vnd.jupyter.widget-state+json": {
    "state": {},
    "version_major": 2,
    "version_minor": 0
   }
  }
 },
 "nbformat": 4,
 "nbformat_minor": 5
}
