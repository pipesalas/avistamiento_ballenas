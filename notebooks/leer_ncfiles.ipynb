{
 "cells": [
  {
   "cell_type": "code",
   "execution_count": 1,
   "metadata": {},
   "outputs": [],
   "source": [
    "from netCDF4 import Dataset\n",
    "import pandas as pd"
   ]
  },
  {
   "cell_type": "code",
   "execution_count": 3,
   "metadata": {},
   "outputs": [],
   "source": [
    "def load_temperature():\n",
    "\n",
    "    nc_file = Dataset('../app/data/cmems_mod_glo_phy-thetao_anfc_0.083deg_P1D-m_1710297272421.nc', 'r') \n",
    "    \n",
    "    temperature = []\n",
    "    for idx_time, time in enumerate(nc_file.variables['time'][:]):\n",
    "        for idx_depth, depth in enumerate(nc_file.variables['depth'][:]):\n",
    "            for idx_lat, lat in enumerate(nc_file.variables['latitude'][:]):\n",
    "                for idx_lon, lon in enumerate(nc_file.variables['longitude'][:]):\n",
    "                    temperature.append({\n",
    "                    'time': time,\n",
    "                    'depth': depth,\n",
    "                    'latitude': lat,\n",
    "                    'longitude': lon,\n",
    "                    'temperature': nc_file.variables['thetao'][idx_time, idx_depth, idx_lat, idx_lon],\n",
    "                     })\n",
    "    temperature['time'] = pd.to_datetime(temperature['time'], unit='s')\n",
    "    return temperature\n",
    "\n",
    "\n",
    "def load_chlorophyll():\n",
    "    \n",
    "    nc_file = Dataset('../app/data/cmems_mod_glo_bgc-pft_anfc_0.25deg_P1D-m_1710297291244.nc', 'r')\n",
    "    \n",
    "    chlorophyll = []\n",
    "    for idx_time, time in enumerate(nc_file.variables['time'][:]):\n",
    "        for idx_depth, depth in enumerate(nc_file.variables['depth'][:]):\n",
    "            for idx_lat, lat in enumerate(nc_file.variables['latitude'][:]):\n",
    "                for idx_lon, lon in enumerate(nc_file.variables['longitude'][:]):\n",
    "                    chlorophyll.append({\n",
    "                    'time': time,\n",
    "                    'depth': depth,\n",
    "                    'latitude': lat,\n",
    "                    'longitude': lon,\n",
    "                    'chlorophyll': nc_file.variables['chl'][idx_time, idx_depth, idx_lat, idx_lon],\n",
    "                    'phyc': nc_file.variables['phyc'][idx_time, idx_depth, idx_lat, idx_lon],\n",
    "                })\n",
    "    chlorophyll = pd.DataFrame(chlorophyll)\n",
    "    chlorophyll['time'] = pd.to_datetime(chlorophyll['time'], unit='s')\n",
    "    return chlorophyll"
   ]
  },
  {
   "cell_type": "code",
   "execution_count": 4,
   "metadata": {},
   "outputs": [
    {
     "ename": "FileNotFoundError",
     "evalue": "[Errno 2] No such file or directory: 'app/data/cmems_mod_glo_bgc-pft_anfc_0.25deg_P1D-m_1710297291244.nc'",
     "output_type": "error",
     "traceback": [
      "\u001b[0;31m---------------------------------------------------------------------------\u001b[0m",
      "\u001b[0;31mFileNotFoundError\u001b[0m                         Traceback (most recent call last)",
      "Cell \u001b[0;32mIn[4], line 1\u001b[0m\n\u001b[0;32m----> 1\u001b[0m chlorophyll \u001b[38;5;241m=\u001b[39m \u001b[43mload_chlorophyll\u001b[49m\u001b[43m(\u001b[49m\u001b[43m)\u001b[49m\n\u001b[1;32m      2\u001b[0m temperature \u001b[38;5;241m=\u001b[39m load_temperature()\n",
      "Cell \u001b[0;32mIn[3], line 23\u001b[0m, in \u001b[0;36mload_chlorophyll\u001b[0;34m()\u001b[0m\n\u001b[1;32m     21\u001b[0m \u001b[38;5;28;01mdef\u001b[39;00m \u001b[38;5;21mload_chlorophyll\u001b[39m():\n\u001b[0;32m---> 23\u001b[0m     nc_file \u001b[38;5;241m=\u001b[39m \u001b[43mDataset\u001b[49m\u001b[43m(\u001b[49m\u001b[38;5;124;43m'\u001b[39;49m\u001b[38;5;124;43mapp/data/cmems_mod_glo_bgc-pft_anfc_0.25deg_P1D-m_1710297291244.nc\u001b[39;49m\u001b[38;5;124;43m'\u001b[39;49m\u001b[43m,\u001b[49m\u001b[43m \u001b[49m\u001b[38;5;124;43m'\u001b[39;49m\u001b[38;5;124;43mr\u001b[39;49m\u001b[38;5;124;43m'\u001b[39;49m\u001b[43m)\u001b[49m\n\u001b[1;32m     25\u001b[0m     chlorophyll \u001b[38;5;241m=\u001b[39m []\n\u001b[1;32m     26\u001b[0m     \u001b[38;5;28;01mfor\u001b[39;00m idx_time, time \u001b[38;5;129;01min\u001b[39;00m \u001b[38;5;28menumerate\u001b[39m(nc_file\u001b[38;5;241m.\u001b[39mvariables[\u001b[38;5;124m'\u001b[39m\u001b[38;5;124mtime\u001b[39m\u001b[38;5;124m'\u001b[39m][:]):\n",
      "File \u001b[0;32msrc/netCDF4/_netCDF4.pyx:2469\u001b[0m, in \u001b[0;36mnetCDF4._netCDF4.Dataset.__init__\u001b[0;34m()\u001b[0m\n",
      "File \u001b[0;32msrc/netCDF4/_netCDF4.pyx:2028\u001b[0m, in \u001b[0;36mnetCDF4._netCDF4._ensure_nc_success\u001b[0;34m()\u001b[0m\n",
      "\u001b[0;31mFileNotFoundError\u001b[0m: [Errno 2] No such file or directory: 'app/data/cmems_mod_glo_bgc-pft_anfc_0.25deg_P1D-m_1710297291244.nc'"
     ]
    }
   ],
   "source": [
    "chlorophyll = load_chlorophyll()\n",
    "temperature = load_temperature()"
   ]
  },
  {
   "cell_type": "code",
   "execution_count": null,
   "metadata": {},
   "outputs": [],
   "source": []
  }
 ],
 "metadata": {
  "kernelspec": {
   "display_name": "vuelvealoceano",
   "language": "python",
   "name": "python3"
  },
  "language_info": {
   "codemirror_mode": {
    "name": "ipython",
    "version": 3
   },
   "file_extension": ".py",
   "mimetype": "text/x-python",
   "name": "python",
   "nbconvert_exporter": "python",
   "pygments_lexer": "ipython3",
   "version": "3.9.16"
  }
 },
 "nbformat": 4,
 "nbformat_minor": 2
}
