{
 "cells": [
  {
   "cell_type": "code",
   "execution_count": 1,
   "metadata": {},
   "outputs": [],
   "source": [
    "from netCDF4 import Dataset\n",
    "import pandas as pd"
   ]
  },
  {
   "cell_type": "code",
   "execution_count": 2,
   "metadata": {},
   "outputs": [],
   "source": [
    "def load_temperature():\n",
    "\n",
    "    nc_file = Dataset('../app/data/cmems_mod_glo_phy-thetao_anfc_0.083deg_P1D-m_1710340018462.nc', 'r') \n",
    "    \n",
    "    temperature = []\n",
    "    for idx_time, time in enumerate(nc_file.variables['time'][:]):\n",
    "        for idx_depth, depth in enumerate(nc_file.variables['depth'][:]):\n",
    "            for idx_lat, lat in enumerate(nc_file.variables['latitude'][:]):\n",
    "                for idx_lon, lon in enumerate(nc_file.variables['longitude'][:]):\n",
    "                    temperature.append({\n",
    "                    'time': time,\n",
    "                    'depth': depth,\n",
    "                    'latitude': lat,\n",
    "                    'longitude': lon,\n",
    "                    'temperature': nc_file.variables['thetao'][idx_time, idx_depth, idx_lat, idx_lon],\n",
    "                     })\n",
    "    temperature = pd.DataFrame(temperature)\n",
    "    temperature['time'] = pd.to_datetime(temperature['time'], unit='s')\n",
    "    temperature = temperature.query('temperature > -100')\n",
    "    temperature['temperature'] = temperature['temperature'].astype(float)\n",
    "    \n",
    "    return temperature\n",
    "\n",
    "\n",
    "def load_chlorophyll():\n",
    "    \n",
    "    nc_file = Dataset('../app/data/cmems_mod_glo_bgc-pft_anfc_0.25deg_P1D-m_1710340033733.nc', 'r')\n",
    "    \n",
    "    chlorophyll = []\n",
    "    for idx_time, time in enumerate(nc_file.variables['time'][:]):\n",
    "        for idx_depth, depth in enumerate(nc_file.variables['depth'][:]):\n",
    "            for idx_lat, lat in enumerate(nc_file.variables['latitude'][:]):\n",
    "                for idx_lon, lon in enumerate(nc_file.variables['longitude'][:]):\n",
    "                    chlorophyll.append({\n",
    "                    'time': time,\n",
    "                    'depth': depth,\n",
    "                    'latitude': lat,\n",
    "                    'longitude': lon,\n",
    "                    'chlorophyll': nc_file.variables['chl'][idx_time, idx_depth, idx_lat, idx_lon],\n",
    "                    'phyc': nc_file.variables['phyc'][idx_time, idx_depth, idx_lat, idx_lon],\n",
    "                })\n",
    "    chlorophyll = pd.DataFrame(chlorophyll)\n",
    "    chlorophyll['time'] = pd.to_datetime(chlorophyll['time'], unit='s')\n",
    "    chlorophyll = chlorophyll.query('chlorophyll > -100')\n",
    "    chlorophyll['chlorophyll'] = chlorophyll['chlorophyll'].astype(float)\n",
    "    chlorophyll['phyc'] = chlorophyll['phyc'].astype(float)\n",
    "    return chlorophyll"
   ]
  },
  {
   "cell_type": "code",
   "execution_count": 3,
   "metadata": {},
   "outputs": [
    {
     "name": "stderr",
     "output_type": "stream",
     "text": [
      "/var/folders/s2/lnzc2s7j3t9ch7f10ppkfc5x4_fqxh/T/ipykernel_42045/307497982.py:45: SettingWithCopyWarning: \n",
      "A value is trying to be set on a copy of a slice from a DataFrame.\n",
      "Try using .loc[row_indexer,col_indexer] = value instead\n",
      "\n",
      "See the caveats in the documentation: https://pandas.pydata.org/pandas-docs/stable/user_guide/indexing.html#returning-a-view-versus-a-copy\n",
      "  chlorophyll['chlorophyll'] = chlorophyll['chlorophyll'].astype(float)\n",
      "/var/folders/s2/lnzc2s7j3t9ch7f10ppkfc5x4_fqxh/T/ipykernel_42045/307497982.py:46: SettingWithCopyWarning: \n",
      "A value is trying to be set on a copy of a slice from a DataFrame.\n",
      "Try using .loc[row_indexer,col_indexer] = value instead\n",
      "\n",
      "See the caveats in the documentation: https://pandas.pydata.org/pandas-docs/stable/user_guide/indexing.html#returning-a-view-versus-a-copy\n",
      "  chlorophyll['phyc'] = chlorophyll['phyc'].astype(float)\n",
      "/var/folders/s2/lnzc2s7j3t9ch7f10ppkfc5x4_fqxh/T/ipykernel_42045/307497982.py:20: SettingWithCopyWarning: \n",
      "A value is trying to be set on a copy of a slice from a DataFrame.\n",
      "Try using .loc[row_indexer,col_indexer] = value instead\n",
      "\n",
      "See the caveats in the documentation: https://pandas.pydata.org/pandas-docs/stable/user_guide/indexing.html#returning-a-view-versus-a-copy\n",
      "  temperature['temperature'] = temperature['temperature'].astype(float)\n"
     ]
    }
   ],
   "source": [
    "chlorophyll = load_chlorophyll()\n",
    "temperature = load_temperature()"
   ]
  },
  {
   "cell_type": "code",
   "execution_count": 4,
   "metadata": {},
   "outputs": [],
   "source": [
    "temperature.to_pickle('../app/data/temperature.pkl')\n",
    "chlorophyll.to_pickle('../app/data/chlorophyll.pkl')"
   ]
  },
  {
   "cell_type": "code",
   "execution_count": null,
   "metadata": {},
   "outputs": [],
   "source": []
  }
 ],
 "metadata": {
  "kernelspec": {
   "display_name": "vuelvealoceano",
   "language": "python",
   "name": "python3"
  },
  "language_info": {
   "codemirror_mode": {
    "name": "ipython",
    "version": 3
   },
   "file_extension": ".py",
   "mimetype": "text/x-python",
   "name": "python",
   "nbconvert_exporter": "python",
   "pygments_lexer": "ipython3",
   "version": "3.9.16"
  }
 },
 "nbformat": 4,
 "nbformat_minor": 2
}
