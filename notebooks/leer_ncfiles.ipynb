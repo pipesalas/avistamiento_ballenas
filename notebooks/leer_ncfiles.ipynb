{
 "cells": [
  {
   "cell_type": "code",
   "execution_count": 1,
   "metadata": {},
   "outputs": [],
   "source": [
    "from netCDF4 import Dataset\n",
    "import pandas as pd"
   ]
  },
  {
   "cell_type": "code",
   "execution_count": 10,
   "metadata": {},
   "outputs": [],
   "source": [
    "nc_file = Dataset('../app/data/cmems_mod_glo_bgc-pft_anfc_0.25deg_P1D-m_1710340033733.nc', 'r')"
   ]
  },
  {
   "cell_type": "code",
   "execution_count": 11,
   "metadata": {},
   "outputs": [
    {
     "data": {
      "text/plain": [
       "dict_keys(['chl', 'depth', 'latitude', 'longitude', 'phyc', 'time'])"
      ]
     },
     "execution_count": 11,
     "metadata": {},
     "output_type": "execute_result"
    }
   ],
   "source": [
    "nc_file.variables.keys()"
   ]
  },
  {
   "cell_type": "code",
   "execution_count": 12,
   "metadata": {},
   "outputs": [
    {
     "data": {
      "text/plain": [
       "<class 'netCDF4._netCDF4.Variable'>\n",
       "float32 phyc(time, depth, latitude, longitude)\n",
       "    units: mmol m-3\n",
       "    _FillValue: nan\n",
       "    standard_name: mole_concentration_of_phytoplankton_expressed_as_carbon_in_sea_water\n",
       "    long_name: Total Phytoplankton\n",
       "unlimited dimensions: \n",
       "current shape = (439, 11, 9, 11)\n",
       "filling off"
      ]
     },
     "execution_count": 12,
     "metadata": {},
     "output_type": "execute_result"
    }
   ],
   "source": [
    "nc_file.variables['phyc']"
   ]
  },
  {
   "cell_type": "code",
   "execution_count": 13,
   "metadata": {},
   "outputs": [
    {
     "data": {
      "text/plain": [
       "<class 'netCDF4._netCDF4.Variable'>\n",
       "float32 depth(depth)\n",
       "    standard_name: depth\n",
       "    long_name: Depth\n",
       "    units: m\n",
       "    unit_long: Meters\n",
       "    axis: Z\n",
       "    positive: down\n",
       "    valid_min: 0.49402538\n",
       "    valid_max: 5727.9165\n",
       "unlimited dimensions: \n",
       "current shape = (11,)\n",
       "filling off"
      ]
     },
     "execution_count": 13,
     "metadata": {},
     "output_type": "execute_result"
    }
   ],
   "source": [
    "nc_file.variables['depth']"
   ]
  },
  {
   "cell_type": "code",
   "execution_count": 14,
   "metadata": {},
   "outputs": [],
   "source": [
    "nc_file = Dataset('../app/data/cmems_mod_glo_phy-thetao_anfc_0.083deg_P1D-m_1710340018462.nc', 'r') \n",
    "\n",
    "temperature = []\n",
    "for idx_time, time in enumerate(nc_file.variables['time'][:]):\n",
    "    for idx_depth, depth in enumerate(nc_file.variables['depth'][:]):\n",
    "        for idx_lat, lat in enumerate(nc_file.variables['latitude'][:]):\n",
    "            for idx_lon, lon in enumerate(nc_file.variables['longitude'][:]):\n",
    "                temperature.append({\n",
    "                'time': time,\n",
    "                'depth': depth,\n",
    "                'latitude': lat,\n",
    "                'longitude': lon,\n",
    "                'temperature': nc_file.variables['thetao'][idx_time, idx_depth, idx_lat, idx_lon],\n",
    "                    })\n",
    "temperature = pd.DataFrame(temperature)\n",
    "temperature['time'] = pd.to_datetime(temperature['time'], unit='s')"
   ]
  },
  {
   "cell_type": "code",
   "execution_count": 39,
   "metadata": {},
   "outputs": [
    {
     "data": {
      "text/html": [
       "<div>\n",
       "<style scoped>\n",
       "    .dataframe tbody tr th:only-of-type {\n",
       "        vertical-align: middle;\n",
       "    }\n",
       "\n",
       "    .dataframe tbody tr th {\n",
       "        vertical-align: top;\n",
       "    }\n",
       "\n",
       "    .dataframe thead th {\n",
       "        text-align: right;\n",
       "    }\n",
       "</style>\n",
       "<table border=\"1\" class=\"dataframe\">\n",
       "  <thead>\n",
       "    <tr style=\"text-align: right;\">\n",
       "      <th></th>\n",
       "      <th>time</th>\n",
       "      <th>depth</th>\n",
       "      <th>latitude</th>\n",
       "      <th>longitude</th>\n",
       "      <th>temperature</th>\n",
       "    </tr>\n",
       "  </thead>\n",
       "  <tbody>\n",
       "    <tr>\n",
       "      <th>0</th>\n",
       "      <td>2023-01-01</td>\n",
       "      <td>1.541375</td>\n",
       "      <td>-41.0</td>\n",
       "      <td>-75.999992</td>\n",
       "      <td>15.721602</td>\n",
       "    </tr>\n",
       "    <tr>\n",
       "      <th>1</th>\n",
       "      <td>2023-01-01</td>\n",
       "      <td>1.541375</td>\n",
       "      <td>-41.0</td>\n",
       "      <td>-75.916664</td>\n",
       "      <td>15.770151</td>\n",
       "    </tr>\n",
       "    <tr>\n",
       "      <th>2</th>\n",
       "      <td>2023-01-01</td>\n",
       "      <td>1.541375</td>\n",
       "      <td>-41.0</td>\n",
       "      <td>-75.833328</td>\n",
       "      <td>15.80881</td>\n",
       "    </tr>\n",
       "    <tr>\n",
       "      <th>3</th>\n",
       "      <td>2023-01-01</td>\n",
       "      <td>1.541375</td>\n",
       "      <td>-41.0</td>\n",
       "      <td>-75.749992</td>\n",
       "      <td>15.842848</td>\n",
       "    </tr>\n",
       "    <tr>\n",
       "      <th>4</th>\n",
       "      <td>2023-01-01</td>\n",
       "      <td>1.541375</td>\n",
       "      <td>-41.0</td>\n",
       "      <td>-75.666664</td>\n",
       "      <td>15.890457</td>\n",
       "    </tr>\n",
       "    <tr>\n",
       "      <th>...</th>\n",
       "      <td>...</td>\n",
       "      <td>...</td>\n",
       "      <td>...</td>\n",
       "      <td>...</td>\n",
       "      <td>...</td>\n",
       "    </tr>\n",
       "    <tr>\n",
       "      <th>3605245</th>\n",
       "      <td>2024-03-12</td>\n",
       "      <td>18.495560</td>\n",
       "      <td>-39.0</td>\n",
       "      <td>-73.916664</td>\n",
       "      <td>14.503203</td>\n",
       "    </tr>\n",
       "    <tr>\n",
       "      <th>3605246</th>\n",
       "      <td>2024-03-12</td>\n",
       "      <td>18.495560</td>\n",
       "      <td>-39.0</td>\n",
       "      <td>-73.833328</td>\n",
       "      <td>14.797481</td>\n",
       "    </tr>\n",
       "    <tr>\n",
       "      <th>3605247</th>\n",
       "      <td>2024-03-12</td>\n",
       "      <td>18.495560</td>\n",
       "      <td>-39.0</td>\n",
       "      <td>-73.749992</td>\n",
       "      <td>14.535657</td>\n",
       "    </tr>\n",
       "    <tr>\n",
       "      <th>3605248</th>\n",
       "      <td>2024-03-12</td>\n",
       "      <td>18.495560</td>\n",
       "      <td>-39.0</td>\n",
       "      <td>-73.666664</td>\n",
       "      <td>13.640317</td>\n",
       "    </tr>\n",
       "    <tr>\n",
       "      <th>3605249</th>\n",
       "      <td>2024-03-12</td>\n",
       "      <td>18.495560</td>\n",
       "      <td>-39.0</td>\n",
       "      <td>-73.583328</td>\n",
       "      <td>13.148331</td>\n",
       "    </tr>\n",
       "  </tbody>\n",
       "</table>\n",
       "<p>3605250 rows × 5 columns</p>\n",
       "</div>"
      ],
      "text/plain": [
       "              time      depth  latitude  longitude temperature\n",
       "0       2023-01-01   1.541375     -41.0 -75.999992   15.721602\n",
       "1       2023-01-01   1.541375     -41.0 -75.916664   15.770151\n",
       "2       2023-01-01   1.541375     -41.0 -75.833328    15.80881\n",
       "3       2023-01-01   1.541375     -41.0 -75.749992   15.842848\n",
       "4       2023-01-01   1.541375     -41.0 -75.666664   15.890457\n",
       "...            ...        ...       ...        ...         ...\n",
       "3605245 2024-03-12  18.495560     -39.0 -73.916664   14.503203\n",
       "3605246 2024-03-12  18.495560     -39.0 -73.833328   14.797481\n",
       "3605247 2024-03-12  18.495560     -39.0 -73.749992   14.535657\n",
       "3605248 2024-03-12  18.495560     -39.0 -73.666664   13.640317\n",
       "3605249 2024-03-12  18.495560     -39.0 -73.583328   13.148331\n",
       "\n",
       "[3605250 rows x 5 columns]"
      ]
     },
     "execution_count": 39,
     "metadata": {},
     "output_type": "execute_result"
    }
   ],
   "source": [
    "lat, lon = temperature.sample(1)[['latitude', 'longitude']].values[0]\n",
    "temperature"
   ]
  },
  {
   "cell_type": "code",
   "execution_count": 41,
   "metadata": {},
   "outputs": [],
   "source": [
    "import geopandas as gpd"
   ]
  },
  {
   "cell_type": "code",
   "execution_count": 42,
   "metadata": {},
   "outputs": [
    {
     "name": "stderr",
     "output_type": "stream",
     "text": [
      "/var/folders/s2/lnzc2s7j3t9ch7f10ppkfc5x4_fqxh/T/ipykernel_42045/2849959275.py:1: FutureWarning: Currently, index_parts defaults to True, but in the future, it will default to False to be consistent with Pandas. Use `index_parts=True` to keep the current behavior and True/False to silence the warning.\n",
      "  ruta = (gpd.read_file('../app/data/Track_OOO.gpx', layer='tracks')).explode().reset_index(drop=True)\n"
     ]
    }
   ],
   "source": [
    "ruta = (gpd.read_file('../app/data/Track_OOO.gpx', layer='tracks')).explode().reset_index(drop=True)\n",
    "ruta = ruta.set_crs('epsg:4326')\n",
    "ruta['text'] = ruta.name.apply(lambda x: f'ruta {x}')"
   ]
  },
  {
   "cell_type": "code",
   "execution_count": 46,
   "metadata": {},
   "outputs": [
    {
     "data": {
      "text/plain": [
       "2"
      ]
     },
     "execution_count": 46,
     "metadata": {},
     "output_type": "execute_result"
    }
   ],
   "source": [
    "5%3"
   ]
  },
  {
   "cell_type": "code",
   "execution_count": null,
   "metadata": {},
   "outputs": [],
   "source": []
  },
  {
   "cell_type": "code",
   "execution_count": 44,
   "metadata": {},
   "outputs": [],
   "source": [
    "ruta.to_file('../app/data/ruta.geojson', driver='GeoJSON')"
   ]
  },
  {
   "cell_type": "code",
   "execution_count": 2,
   "metadata": {},
   "outputs": [],
   "source": [
    "def load_temperature():\n",
    "\n",
    "    nc_file = Dataset('../app/data/cmems_mod_glo_phy-thetao_anfc_0.083deg_P1D-m_1710340018462.nc', 'r') \n",
    "    \n",
    "    temperature = []\n",
    "    for idx_time, time in enumerate(nc_file.variables['time'][:]):\n",
    "        for idx_depth, depth in enumerate(nc_file.variables['depth'][:]):\n",
    "            for idx_lat, lat in enumerate(nc_file.variables['latitude'][:]):\n",
    "                for idx_lon, lon in enumerate(nc_file.variables['longitude'][:]):\n",
    "                    temperature.append({\n",
    "                    'time': time,\n",
    "                    'depth': depth,\n",
    "                    'latitude': lat,\n",
    "                    'longitude': lon,\n",
    "                    'temperature': nc_file.variables['thetao'][idx_time, idx_depth, idx_lat, idx_lon],\n",
    "                     })\n",
    "    temperature = pd.DataFrame(temperature)\n",
    "    temperature['time'] = pd.to_datetime(temperature['time'], unit='s')\n",
    "    temperature = temperature.query('temperature > -100')\n",
    "    temperature['temperature'] = temperature['temperature'].astype(float)\n",
    "    \n",
    "    return temperature\n",
    "\n",
    "\n",
    "def load_chlorophyll():\n",
    "    \n",
    "    nc_file = Dataset('../app/data/cmems_mod_glo_bgc-pft_anfc_0.25deg_P1D-m_1710340033733.nc', 'r')\n",
    "    \n",
    "    chlorophyll = []\n",
    "    for idx_time, time in enumerate(nc_file.variables['time'][:]):\n",
    "        for idx_depth, depth in enumerate(nc_file.variables['depth'][:]):\n",
    "            for idx_lat, lat in enumerate(nc_file.variables['latitude'][:]):\n",
    "                for idx_lon, lon in enumerate(nc_file.variables['longitude'][:]):\n",
    "                    chlorophyll.append({\n",
    "                    'time': time,\n",
    "                    'depth': depth,\n",
    "                    'latitude': lat,\n",
    "                    'longitude': lon,\n",
    "                    'chlorophyll': nc_file.variables['chl'][idx_time, idx_depth, idx_lat, idx_lon],\n",
    "                    'phyc': nc_file.variables['phyc'][idx_time, idx_depth, idx_lat, idx_lon],\n",
    "                })\n",
    "    chlorophyll = pd.DataFrame(chlorophyll)\n",
    "    chlorophyll['time'] = pd.to_datetime(chlorophyll['time'], unit='s')\n",
    "    chlorophyll = chlorophyll.query('chlorophyll > -100')\n",
    "    chlorophyll['chlorophyll'] = chlorophyll['chlorophyll'].astype(float)\n",
    "    chlorophyll['phyc'] = chlorophyll['phyc'].astype(float)\n",
    "    return chlorophyll"
   ]
  },
  {
   "cell_type": "code",
   "execution_count": 3,
   "metadata": {},
   "outputs": [
    {
     "name": "stderr",
     "output_type": "stream",
     "text": [
      "/var/folders/s2/lnzc2s7j3t9ch7f10ppkfc5x4_fqxh/T/ipykernel_42045/307497982.py:45: SettingWithCopyWarning: \n",
      "A value is trying to be set on a copy of a slice from a DataFrame.\n",
      "Try using .loc[row_indexer,col_indexer] = value instead\n",
      "\n",
      "See the caveats in the documentation: https://pandas.pydata.org/pandas-docs/stable/user_guide/indexing.html#returning-a-view-versus-a-copy\n",
      "  chlorophyll['chlorophyll'] = chlorophyll['chlorophyll'].astype(float)\n",
      "/var/folders/s2/lnzc2s7j3t9ch7f10ppkfc5x4_fqxh/T/ipykernel_42045/307497982.py:46: SettingWithCopyWarning: \n",
      "A value is trying to be set on a copy of a slice from a DataFrame.\n",
      "Try using .loc[row_indexer,col_indexer] = value instead\n",
      "\n",
      "See the caveats in the documentation: https://pandas.pydata.org/pandas-docs/stable/user_guide/indexing.html#returning-a-view-versus-a-copy\n",
      "  chlorophyll['phyc'] = chlorophyll['phyc'].astype(float)\n",
      "/var/folders/s2/lnzc2s7j3t9ch7f10ppkfc5x4_fqxh/T/ipykernel_42045/307497982.py:20: SettingWithCopyWarning: \n",
      "A value is trying to be set on a copy of a slice from a DataFrame.\n",
      "Try using .loc[row_indexer,col_indexer] = value instead\n",
      "\n",
      "See the caveats in the documentation: https://pandas.pydata.org/pandas-docs/stable/user_guide/indexing.html#returning-a-view-versus-a-copy\n",
      "  temperature['temperature'] = temperature['temperature'].astype(float)\n"
     ]
    }
   ],
   "source": [
    "chlorophyll = load_chlorophyll()\n",
    "temperature = load_temperature()"
   ]
  },
  {
   "cell_type": "code",
   "execution_count": 5,
   "metadata": {},
   "outputs": [],
   "source": [
    "temperature.to_parquet('../app/data/temperature.parquet')\n",
    "chlorophyll.to_parquet('../app/data/chlorophyll.parquet')"
   ]
  },
  {
   "cell_type": "code",
   "execution_count": null,
   "metadata": {},
   "outputs": [],
   "source": []
  }
 ],
 "metadata": {
  "kernelspec": {
   "display_name": "vuelvealoceano",
   "language": "python",
   "name": "python3"
  },
  "language_info": {
   "codemirror_mode": {
    "name": "ipython",
    "version": 3
   },
   "file_extension": ".py",
   "mimetype": "text/x-python",
   "name": "python",
   "nbconvert_exporter": "python",
   "pygments_lexer": "ipython3",
   "version": "3.9.16"
  }
 },
 "nbformat": 4,
 "nbformat_minor": 2
}
